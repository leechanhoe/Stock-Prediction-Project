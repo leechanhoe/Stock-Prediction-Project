{
  "nbformat": 4,
  "nbformat_minor": 0,
  "metadata": {
    "colab": {
      "provenance": []
    },
    "kernelspec": {
      "name": "python3",
      "display_name": "Python 3"
    },
    "language_info": {
      "name": "python"
    }
  },
  "cells": [
    {
      "cell_type": "code",
      "execution_count": 1,
      "metadata": {
        "colab": {
          "base_uri": "https://localhost:8080/"
        },
        "id": "rJnVQXocm03q",
        "outputId": "e897bf28-3b43-4b6c-86de-2691f5f88663"
      },
      "outputs": [
        {
          "output_type": "stream",
          "name": "stdout",
          "text": [
            "Mounted at /content/drive\n"
          ]
        }
      ],
      "source": [
        "from google.colab import drive\n",
        "drive.mount('/content/drive')"
      ]
    },
    {
      "cell_type": "code",
      "source": [
        "import pandas as pd\n",
        "\n",
        "# 상승 예측 엑셀 데이터와 하락 예측 엑셀 데이터를 읽어옵니다.\n",
        "up_df = pd.read_excel(\"drive/MyDrive/Colab Notebooks/상승검증총정리.xlsx\")\n",
        "down_df = pd.read_excel(\"drive/MyDrive/Colab Notebooks/하락검증총정리.xlsx\")\n",
        "\n",
        "# 기준일자별 상승 예측 횟수와 하락 예측 횟수를 구합니다.\n",
        "up_count = up_df[\"기준일자\"].value_counts()\n",
        "down_count = down_df[\"기준일자\"].value_counts()\n",
        "\n",
        "# 상승 예측 횟수와 하락 예측 횟수의 인덱스를 동일하게 맞추고 비어있는 값을 0으로 채웁니다.\n",
        "common_index = up_count.index.union(down_count.index)\n",
        "up_count = up_count.reindex(common_index, fill_value=0)\n",
        "down_count = down_count.reindex(common_index, fill_value=0)\n",
        "\n",
        "# 상승 예측 횟수가 하락 예측 횟수보다 많은 기준일자를 선택합니다.\n",
        "selected_dates = up_count[up_count > down_count].index\n",
        "\n",
        "# 선택된 기준일자에 해당하는 상승 예측 데이터 행만 선택합니다.\n",
        "selected_rows = up_df[up_df[\"기준일자\"].isin(selected_dates)]\n",
        "\n",
        "print(selected_rows)"
      ],
      "metadata": {
        "colab": {
          "base_uri": "https://localhost:8080/"
        },
        "id": "kcEpaGfJnc0Y",
        "outputId": "4d549aa2-513a-4493-b96b-a88d47320939"
      },
      "execution_count": 4,
      "outputs": [
        {
          "output_type": "stream",
          "name": "stdout",
          "text": [
            "           종목명       기준일자  기준일종가  5거래일후종가    5일평균가 5거래일후정답여부 5일평균정답여부  \\\n",
            "0       내츄럴엔도텍 2023-02-22   3075     3035   3079.0         X        O   \n",
            "1         라이트론 2023-02-23   2605     2850   2700.0         O        O   \n",
            "6        코드네이처 2023-03-02   1090     1005   1042.0         X        X   \n",
            "7    이스트아시아홀딩스 2023-03-06    160      160    156.4         O        X   \n",
            "8       초록뱀컴퍼니 2023-03-08    455      435    447.6         X        X   \n",
            "..         ...        ...    ...      ...      ...       ...      ...   \n",
            "134     수산아이앤티 2023-08-04   9610     9650   9538.0         O        X   \n",
            "135        에넥스 2023-08-04    577      627    620.6         O        O   \n",
            "136       제일약품 2023-08-07  17650    17730  17844.0         O        O   \n",
            "137      쎌바이오텍 2023-08-07  11520    11750  11602.0         O        O   \n",
            "138       동아지질 2023-08-09  12000    12210  12120.0         O        O   \n",
            "\n",
            "          수익률  \n",
            "0   -0.013008  \n",
            "1    0.094050  \n",
            "6   -0.077982  \n",
            "7    0.000000  \n",
            "8   -0.043956  \n",
            "..        ...  \n",
            "134  0.004162  \n",
            "135  0.086655  \n",
            "136  0.004533  \n",
            "137  0.019965  \n",
            "138  0.017500  \n",
            "\n",
            "[104 rows x 8 columns]\n"
          ]
        }
      ]
    },
    {
      "cell_type": "code",
      "source": [
        "df = selected_rows"
      ],
      "metadata": {
        "id": "qgBMdKM-oNZZ"
      },
      "execution_count": 6,
      "outputs": []
    },
    {
      "cell_type": "code",
      "source": [
        "o_count = df['5일평균정답여부'].value_counts()\n",
        "print(f\"5일평균정답여부\")\n",
        "print(o_count)\n",
        "o_count = df['5거래일후정답여부'].value_counts()\n",
        "print(f\"5거래일후정답여부{o_count}\")\n",
        "print(o_count)\n",
        "print(df['수익률'].sum())\n",
        "print(df['수익률'].mean())"
      ],
      "metadata": {
        "colab": {
          "base_uri": "https://localhost:8080/"
        },
        "id": "8SltcyMuoKuF",
        "outputId": "ebc57b4b-06de-49fd-fa2c-b6eb5cc2899f"
      },
      "execution_count": 7,
      "outputs": [
        {
          "output_type": "stream",
          "name": "stdout",
          "text": [
            "5일평균정답여부\n",
            "O    70\n",
            "X    34\n",
            "Name: 5일평균정답여부, dtype: int64\n",
            "5거래일후정답여부O    72\n",
            "X    32\n",
            "Name: 5거래일후정답여부, dtype: int64\n",
            "O    72\n",
            "X    32\n",
            "Name: 5거래일후정답여부, dtype: int64\n",
            "2.952758021881114\n",
            "0.028391904056549174\n"
          ]
        }
      ]
    }
  ]
}