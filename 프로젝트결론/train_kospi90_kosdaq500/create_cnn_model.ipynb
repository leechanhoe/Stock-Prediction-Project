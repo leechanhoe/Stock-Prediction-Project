{
  "nbformat": 4,
  "nbformat_minor": 0,
  "metadata": {
    "colab": {
      "provenance": [],
      "gpuType": "T4"
    },
    "kernelspec": {
      "name": "python3",
      "display_name": "Python 3"
    },
    "language_info": {
      "name": "python"
    },
    "accelerator": "GPU"
  },
  "cells": [
    {
      "cell_type": "code",
      "execution_count": 6,
      "metadata": {
        "id": "g5Nv0eK6QVyW"
      },
      "outputs": [],
      "source": [
        "import numpy as np\n",
        "import tensorflow as tf\n",
        "from tensorflow.keras.models import Sequential\n",
        "from tensorflow.keras.layers import Conv2D, MaxPooling2D, Flatten, Dense, Dropout, BatchNormalization, MaxPool2D"
      ]
    },
    {
      "cell_type": "code",
      "source": [
        "from google.colab import drive\n",
        "drive.mount('/content/drive')"
      ],
      "metadata": {
        "colab": {
          "base_uri": "https://localhost:8080/"
        },
        "id": "Fh9d8l_PQ89m",
        "outputId": "0299ba1b-08b1-409b-c3db-f2f925e4536b"
      },
      "execution_count": 2,
      "outputs": [
        {
          "output_type": "stream",
          "name": "stdout",
          "text": [
            "Drive already mounted at /content/drive; to attempt to forcibly remount, call drive.mount(\"/content/drive\", force_remount=True).\n"
          ]
        }
      ]
    },
    {
      "cell_type": "code",
      "source": [
        "train_images = np.load('drive/MyDrive/Colab Notebooks/train_images_daq_pi_change7.npy')\n",
        "train_labels = np.load('drive/MyDrive/Colab Notebooks/train_labels_daq_pi_change7.npy')\n",
        "test_images = np.load('drive/MyDrive/Colab Notebooks/test_images_kosdaq_ma.npy')\n",
        "test_labels = np.load('drive/MyDrive/Colab Notebooks/test_labels_kosdaq_ma.npy')"
      ],
      "metadata": {
        "id": "51uF5k_dQbbe"
      },
      "execution_count": 7,
      "outputs": []
    },
    {
      "cell_type": "markdown",
      "source": [],
      "metadata": {
        "id": "F9HMIWQDoK_X"
      }
    },
    {
      "cell_type": "code",
      "source": [
        "from sklearn.model_selection import train_test_split\n",
        "\n",
        "train_images = np.array(train_images).reshape(-1, 96, 96, 3) / 255.0\n",
        "test_images = np.array(test_images).reshape(-1, 96, 96, 3) / 255.0\n",
        "\n",
        "# train_images, test_images, train_labels, test_labels = train_test_split(test_images, test_labels, test_size=0.2)\n",
        "\n",
        "train_labels_one_hot = np.eye(2)[train_labels]\n",
        "test_labels_one_hot = np.eye(2)[test_labels]"
      ],
      "metadata": {
        "id": "WYFCbpYqR35_"
      },
      "execution_count": 8,
      "outputs": []
    },
    {
      "cell_type": "code",
      "source": [
        "model = Sequential()\n",
        "\n",
        "# Convolutional Block (Conv-Conv-Pool-Dropout)\n",
        "model.add(Conv2D(64, (3, 3), activation='relu', padding='same', input_shape=(96, 96, 3)))\n",
        "model.add(BatchNormalization())\n",
        "model.add(Conv2D(64, (3, 3), activation='relu', padding='same'))\n",
        "model.add(MaxPool2D(pool_size=(2, 2)))\n",
        "model.add(Dropout(0.25))\n",
        "\n",
        "# Convolutional Block (Conv-Conv-Pool-Dropout)\n",
        "model.add(Conv2D(128, (3, 3), activation='relu', padding='same'))\n",
        "model.add(BatchNormalization())\n",
        "model.add(Conv2D(128, (3, 3), activation='relu', padding='same'))\n",
        "model.add(MaxPool2D(pool_size=(2, 2)))\n",
        "model.add(Dropout(0.25))\n",
        "\n",
        "model.add(Conv2D(256, (3, 3), padding='same', activation='relu'))\n",
        "model.add(BatchNormalization())\n",
        "model.add(Conv2D(256, (3, 3), padding='same', activation='relu'))\n",
        "model.add(MaxPool2D(pool_size=(2, 2)))\n",
        "model.add(Dropout(0.25))\n",
        "\n",
        "model.add(Flatten()) # change this line\n",
        "model.add(Dense(512, activation='relu'))\n",
        "model.add(Dropout(0.5))\n",
        "model.add(Dense(2, activation='softmax'))\n",
        "model.compile(optimizer='adam', loss='categorical_crossentropy', metrics=['acc'])"
      ],
      "metadata": {
        "id": "hHxW7kAYR9td"
      },
      "execution_count": 4,
      "outputs": []
    },
    {
      "cell_type": "code",
      "source": [
        "import keras\n",
        "\n",
        "def lr_schedule(epoch):\n",
        "    lrate = 0.001\n",
        "    if epoch > 3:\n",
        "        lrate = 0.0005\n",
        "    if epoch > 5:\n",
        "        lrate = 0.0001\n",
        "    if epoch > 10:\n",
        "        lrate = 0.00005\n",
        "\n",
        "    return lrate\n",
        "\n",
        "checkpoint = keras.callbacks.ModelCheckpoint('best_cnn_model.h5', save_best_only=True, monitor='val_acc')\n",
        "# N번의 연속적인 epoch 동안 개선이 없을 때 학습이 중단되도록 함\n",
        "# early_stopping = keras.callbacks.EarlyStopping(monitor='val_acc', patience=30, restore_best_weights=True)"
      ],
      "metadata": {
        "id": "0C6hjJC8Si0o"
      },
      "execution_count": 5,
      "outputs": []
    },
    {
      "cell_type": "code",
      "source": [
        "from keras.callbacks import LearningRateScheduler\n",
        "\n",
        "history = model.fit(train_images, train_labels_one_hot, batch_size=32, epochs=50, validation_data=(test_images, test_labels_one_hot),\n",
        "                    callbacks=[checkpoint, LearningRateScheduler(lr_schedule)])"
      ],
      "metadata": {
        "colab": {
          "base_uri": "https://localhost:8080/"
        },
        "id": "VhFl-WnxSWFA",
        "outputId": "5af65db0-2524-40ea-a9fb-20e5f755a54b"
      },
      "execution_count": 6,
      "outputs": [
        {
          "output_type": "stream",
          "name": "stdout",
          "text": [
            "Epoch 1/50\n",
            "313/313 [==============================] - 56s 151ms/step - loss: 2.1244 - acc: 0.5081 - val_loss: 0.6935 - val_acc: 0.5000 - lr: 0.0010\n",
            "Epoch 2/50\n",
            "313/313 [==============================] - 30s 95ms/step - loss: 0.6934 - acc: 0.5000 - val_loss: 0.6931 - val_acc: 0.4999 - lr: 0.0010\n",
            "Epoch 3/50\n",
            "313/313 [==============================] - 29s 94ms/step - loss: 0.6941 - acc: 0.4988 - val_loss: 0.6935 - val_acc: 0.4986 - lr: 0.0010\n",
            "Epoch 4/50\n",
            "313/313 [==============================] - 36s 115ms/step - loss: 0.6930 - acc: 0.5046 - val_loss: 0.6932 - val_acc: 0.5047 - lr: 0.0010\n",
            "Epoch 5/50\n",
            "313/313 [==============================] - 35s 113ms/step - loss: 0.6922 - acc: 0.5182 - val_loss: 0.6930 - val_acc: 0.5073 - lr: 5.0000e-04\n",
            "Epoch 6/50\n",
            "313/313 [==============================] - 40s 127ms/step - loss: 0.6919 - acc: 0.5176 - val_loss: 0.6928 - val_acc: 0.5095 - lr: 5.0000e-04\n",
            "Epoch 7/50\n",
            "313/313 [==============================] - 35s 110ms/step - loss: 0.6902 - acc: 0.5216 - val_loss: 0.6949 - val_acc: 0.5037 - lr: 1.0000e-04\n",
            "Epoch 8/50\n",
            "313/313 [==============================] - 35s 111ms/step - loss: 0.6871 - acc: 0.5314 - val_loss: 0.6947 - val_acc: 0.5042 - lr: 1.0000e-04\n",
            "Epoch 9/50\n",
            "313/313 [==============================] - 29s 94ms/step - loss: 0.6874 - acc: 0.5296 - val_loss: 0.6952 - val_acc: 0.5070 - lr: 1.0000e-04\n",
            "Epoch 10/50\n",
            "313/313 [==============================] - 29s 94ms/step - loss: 0.6864 - acc: 0.5377 - val_loss: 0.6947 - val_acc: 0.5068 - lr: 1.0000e-04\n",
            "Epoch 11/50\n",
            "313/313 [==============================] - 29s 94ms/step - loss: 0.6862 - acc: 0.5314 - val_loss: 0.6943 - val_acc: 0.5044 - lr: 1.0000e-04\n",
            "Epoch 12/50\n",
            "313/313 [==============================] - 35s 111ms/step - loss: 0.6843 - acc: 0.5320 - val_loss: 0.6960 - val_acc: 0.5057 - lr: 5.0000e-05\n",
            "Epoch 13/50\n",
            "313/313 [==============================] - 36s 114ms/step - loss: 0.6842 - acc: 0.5336 - val_loss: 0.6957 - val_acc: 0.5099 - lr: 5.0000e-05\n",
            "Epoch 14/50\n",
            "313/313 [==============================] - 35s 110ms/step - loss: 0.6817 - acc: 0.5451 - val_loss: 0.6988 - val_acc: 0.5061 - lr: 5.0000e-05\n",
            "Epoch 15/50\n",
            "313/313 [==============================] - 35s 113ms/step - loss: 0.6809 - acc: 0.5436 - val_loss: 0.6977 - val_acc: 0.5111 - lr: 5.0000e-05\n",
            "Epoch 16/50\n",
            "313/313 [==============================] - 30s 94ms/step - loss: 0.6814 - acc: 0.5503 - val_loss: 0.6950 - val_acc: 0.5081 - lr: 5.0000e-05\n",
            "Epoch 17/50\n",
            "313/313 [==============================] - 30s 95ms/step - loss: 0.6780 - acc: 0.5550 - val_loss: 0.6955 - val_acc: 0.5058 - lr: 5.0000e-05\n",
            "Epoch 18/50\n",
            "313/313 [==============================] - 30s 95ms/step - loss: 0.6772 - acc: 0.5593 - val_loss: 0.6978 - val_acc: 0.5035 - lr: 5.0000e-05\n",
            "Epoch 19/50\n",
            "313/313 [==============================] - 33s 107ms/step - loss: 0.6764 - acc: 0.5616 - val_loss: 0.7016 - val_acc: 0.5128 - lr: 5.0000e-05\n",
            "Epoch 20/50\n",
            "313/313 [==============================] - 30s 95ms/step - loss: 0.6754 - acc: 0.5577 - val_loss: 0.7072 - val_acc: 0.5085 - lr: 5.0000e-05\n",
            "Epoch 21/50\n",
            "313/313 [==============================] - 30s 94ms/step - loss: 0.6723 - acc: 0.5647 - val_loss: 0.7040 - val_acc: 0.5114 - lr: 5.0000e-05\n",
            "Epoch 22/50\n",
            "313/313 [==============================] - 29s 94ms/step - loss: 0.6709 - acc: 0.5748 - val_loss: 0.7011 - val_acc: 0.5107 - lr: 5.0000e-05\n",
            "Epoch 23/50\n",
            "313/313 [==============================] - 29s 94ms/step - loss: 0.6666 - acc: 0.5777 - val_loss: 0.7080 - val_acc: 0.5050 - lr: 5.0000e-05\n",
            "Epoch 24/50\n",
            "313/313 [==============================] - 30s 94ms/step - loss: 0.6634 - acc: 0.5847 - val_loss: 0.6993 - val_acc: 0.4978 - lr: 5.0000e-05\n",
            "Epoch 25/50\n",
            "313/313 [==============================] - 35s 111ms/step - loss: 0.6635 - acc: 0.5838 - val_loss: 0.7033 - val_acc: 0.5058 - lr: 5.0000e-05\n",
            "Epoch 26/50\n",
            "313/313 [==============================] - 30s 95ms/step - loss: 0.6590 - acc: 0.5800 - val_loss: 0.7020 - val_acc: 0.5060 - lr: 5.0000e-05\n",
            "Epoch 27/50\n",
            "313/313 [==============================] - 35s 111ms/step - loss: 0.6568 - acc: 0.5961 - val_loss: 0.7050 - val_acc: 0.4999 - lr: 5.0000e-05\n",
            "Epoch 28/50\n",
            "313/313 [==============================] - 30s 95ms/step - loss: 0.6529 - acc: 0.5916 - val_loss: 0.7011 - val_acc: 0.5016 - lr: 5.0000e-05\n",
            "Epoch 29/50\n",
            "313/313 [==============================] - 30s 95ms/step - loss: 0.6485 - acc: 0.6015 - val_loss: 0.7222 - val_acc: 0.5038 - lr: 5.0000e-05\n",
            "Epoch 30/50\n",
            "313/313 [==============================] - 35s 111ms/step - loss: 0.6514 - acc: 0.5945 - val_loss: 0.7111 - val_acc: 0.5033 - lr: 5.0000e-05\n",
            "Epoch 31/50\n",
            "313/313 [==============================] - 30s 94ms/step - loss: 0.6413 - acc: 0.6095 - val_loss: 0.7070 - val_acc: 0.5077 - lr: 5.0000e-05\n",
            "Epoch 32/50\n",
            "313/313 [==============================] - 30s 95ms/step - loss: 0.6383 - acc: 0.6060 - val_loss: 0.7039 - val_acc: 0.5027 - lr: 5.0000e-05\n",
            "Epoch 33/50\n",
            "313/313 [==============================] - 30s 94ms/step - loss: 0.6363 - acc: 0.6077 - val_loss: 0.7181 - val_acc: 0.5036 - lr: 5.0000e-05\n",
            "Epoch 34/50\n",
            "313/313 [==============================] - 35s 111ms/step - loss: 0.6333 - acc: 0.6132 - val_loss: 0.7178 - val_acc: 0.5042 - lr: 5.0000e-05\n",
            "Epoch 35/50\n",
            "313/313 [==============================] - 30s 94ms/step - loss: 0.6283 - acc: 0.6152 - val_loss: 0.7340 - val_acc: 0.5094 - lr: 5.0000e-05\n",
            "Epoch 36/50\n",
            "313/313 [==============================] - 30s 95ms/step - loss: 0.6243 - acc: 0.6201 - val_loss: 0.7184 - val_acc: 0.5058 - lr: 5.0000e-05\n",
            "Epoch 37/50\n",
            "313/313 [==============================] - 35s 111ms/step - loss: 0.6177 - acc: 0.6268 - val_loss: 0.7347 - val_acc: 0.5082 - lr: 5.0000e-05\n",
            "Epoch 38/50\n",
            "313/313 [==============================] - 35s 111ms/step - loss: 0.6151 - acc: 0.6264 - val_loss: 0.7425 - val_acc: 0.5051 - lr: 5.0000e-05\n",
            "Epoch 39/50\n",
            "313/313 [==============================] - 30s 95ms/step - loss: 0.6075 - acc: 0.6349 - val_loss: 0.7191 - val_acc: 0.5082 - lr: 5.0000e-05\n",
            "Epoch 40/50\n",
            "313/313 [==============================] - 35s 111ms/step - loss: 0.6013 - acc: 0.6399 - val_loss: 0.7355 - val_acc: 0.5055 - lr: 5.0000e-05\n",
            "Epoch 41/50\n",
            "313/313 [==============================] - 30s 94ms/step - loss: 0.6022 - acc: 0.6356 - val_loss: 0.7472 - val_acc: 0.5035 - lr: 5.0000e-05\n",
            "Epoch 42/50\n",
            "313/313 [==============================] - 35s 111ms/step - loss: 0.5901 - acc: 0.6461 - val_loss: 0.7450 - val_acc: 0.5033 - lr: 5.0000e-05\n",
            "Epoch 43/50\n",
            "313/313 [==============================] - 35s 111ms/step - loss: 0.5899 - acc: 0.6477 - val_loss: 0.7558 - val_acc: 0.4996 - lr: 5.0000e-05\n",
            "Epoch 44/50\n",
            "313/313 [==============================] - 30s 95ms/step - loss: 0.5834 - acc: 0.6513 - val_loss: 0.7440 - val_acc: 0.5036 - lr: 5.0000e-05\n",
            "Epoch 45/50\n",
            "313/313 [==============================] - 35s 111ms/step - loss: 0.5789 - acc: 0.6577 - val_loss: 0.7265 - val_acc: 0.5061 - lr: 5.0000e-05\n",
            "Epoch 46/50\n",
            "313/313 [==============================] - 35s 111ms/step - loss: 0.5712 - acc: 0.6578 - val_loss: 0.7343 - val_acc: 0.5064 - lr: 5.0000e-05\n",
            "Epoch 47/50\n",
            "313/313 [==============================] - 30s 95ms/step - loss: 0.5680 - acc: 0.6595 - val_loss: 0.7357 - val_acc: 0.5063 - lr: 5.0000e-05\n",
            "Epoch 48/50\n",
            "313/313 [==============================] - 30s 94ms/step - loss: 0.5600 - acc: 0.6688 - val_loss: 0.7523 - val_acc: 0.5039 - lr: 5.0000e-05\n",
            "Epoch 49/50\n",
            "313/313 [==============================] - 30s 95ms/step - loss: 0.5550 - acc: 0.6676 - val_loss: 0.7846 - val_acc: 0.5049 - lr: 5.0000e-05\n",
            "Epoch 50/50\n",
            "313/313 [==============================] - 30s 95ms/step - loss: 0.5471 - acc: 0.6733 - val_loss: 0.7774 - val_acc: 0.5100 - lr: 5.0000e-05\n"
          ]
        }
      ]
    },
    {
      "cell_type": "code",
      "source": [
        "model.save('model.h5')"
      ],
      "metadata": {
        "colab": {
          "base_uri": "https://localhost:8080/",
          "height": 186
        },
        "id": "mp5sQIj0V-9H",
        "outputId": "eb244dc3-8ded-4524-cdcc-ea3b451ab1d5"
      },
      "execution_count": 1,
      "outputs": [
        {
          "output_type": "error",
          "ename": "NameError",
          "evalue": "ignored",
          "traceback": [
            "\u001b[0;31m---------------------------------------------------------------------------\u001b[0m",
            "\u001b[0;31mNameError\u001b[0m                                 Traceback (most recent call last)",
            "\u001b[0;32m<ipython-input-1-596723284980>\u001b[0m in \u001b[0;36m<cell line: 1>\u001b[0;34m()\u001b[0m\n\u001b[0;32m----> 1\u001b[0;31m \u001b[0mmodel\u001b[0m\u001b[0;34m.\u001b[0m\u001b[0msave\u001b[0m\u001b[0;34m(\u001b[0m\u001b[0;34m'model.h5'\u001b[0m\u001b[0;34m)\u001b[0m\u001b[0;34m\u001b[0m\u001b[0;34m\u001b[0m\u001b[0m\n\u001b[0m",
            "\u001b[0;31mNameError\u001b[0m: name 'model' is not defined"
          ]
        }
      ]
    },
    {
      "cell_type": "code",
      "source": [
        "from keras.models import load_model\n",
        "\n",
        "model = load_model('model.h5')"
      ],
      "metadata": {
        "id": "wwUkDW0cS3RG"
      },
      "execution_count": 3,
      "outputs": []
    },
    {
      "cell_type": "code",
      "source": [
        "import matplotlib.pyplot as plt\n",
        "\n",
        "plt.figure()\n",
        "\n",
        "# 정확도 그래프\n",
        "plt.subplot(1, 2, 1)\n",
        "plt.plot(history.history['acc'], label='acc')\n",
        "plt.plot(history.history['val_acc'], label='val_acc')\n",
        "plt.ylabel('accuracy')\n",
        "plt.xlabel('epoch')\n",
        "plt.legend(loc='best')\n",
        "\n",
        "# 손실 그래프\n",
        "plt.subplot(1, 2, 2)\n",
        "plt.plot(history.history['loss'], label='loss')\n",
        "plt.plot(history.history['val_loss'], label='val_loss')\n",
        "plt.ylabel('loss')\n",
        "plt.xlabel('epoch')\n",
        "plt.legend(loc='best')\n",
        "\n",
        "plt.show()"
      ],
      "metadata": {
        "id": "mtGnU9U6S4vw"
      },
      "execution_count": null,
      "outputs": []
    },
    {
      "cell_type": "code",
      "source": [
        "test_loss, test_acc = model.evaluate(test_images, test_labels_one_hot, verbose=2)"
      ],
      "metadata": {
        "id": "MDHzRodjlwEs",
        "colab": {
          "base_uri": "https://localhost:8080/"
        },
        "outputId": "377f8b10-7830-41ac-b6aa-e79d00e593e3"
      },
      "execution_count": 9,
      "outputs": [
        {
          "output_type": "stream",
          "name": "stdout",
          "text": [
            "313/313 - 14s - loss: 0.7774 - acc: 0.5100 - 14s/epoch - 44ms/step\n"
          ]
        }
      ]
    },
    {
      "cell_type": "code",
      "source": [
        "# 테스트 데이터셋에 대한 예측 생성\n",
        "pred_probs = model.predict(test_images[:100])\n",
        "\n",
        "print(pred_probs)"
      ],
      "metadata": {
        "id": "AyZd6wFJfADB",
        "colab": {
          "base_uri": "https://localhost:8080/"
        },
        "outputId": "c84cd1d2-ca80-4c46-a545-43a0d07dd09b"
      },
      "execution_count": 10,
      "outputs": [
        {
          "output_type": "stream",
          "name": "stdout",
          "text": [
            "4/4 [==============================] - 1s 117ms/step\n",
            "[[0.4894575  0.5105425 ]\n",
            " [0.7097473  0.2902527 ]\n",
            " [0.3436195  0.65638053]\n",
            " [0.55322033 0.4467797 ]\n",
            " [0.4519771  0.5480229 ]\n",
            " [0.37773326 0.6222667 ]\n",
            " [0.2558756  0.7441244 ]\n",
            " [0.5433163  0.4566837 ]\n",
            " [0.509894   0.490106  ]\n",
            " [0.32955703 0.670443  ]\n",
            " [0.04710062 0.9528994 ]\n",
            " [0.5173402  0.48265985]\n",
            " [0.49411744 0.5058826 ]\n",
            " [0.01350198 0.986498  ]\n",
            " [0.55837923 0.44162083]\n",
            " [0.631706   0.36829397]\n",
            " [0.47994617 0.5200538 ]\n",
            " [0.5005365  0.4994635 ]\n",
            " [0.7097529  0.29024705]\n",
            " [0.64345515 0.35654482]\n",
            " [0.66527444 0.3347255 ]\n",
            " [0.05523936 0.9447606 ]\n",
            " [0.5090976  0.49090248]\n",
            " [0.26116922 0.7388308 ]\n",
            " [0.11551256 0.88448745]\n",
            " [0.545662   0.45433798]\n",
            " [0.23600148 0.76399857]\n",
            " [0.49000466 0.50999534]\n",
            " [0.37173647 0.62826353]\n",
            " [0.34612262 0.6538773 ]\n",
            " [0.09554455 0.9044554 ]\n",
            " [0.31230935 0.6876906 ]\n",
            " [0.34648606 0.6535139 ]\n",
            " [0.6544299  0.34557015]\n",
            " [0.10559447 0.89440554]\n",
            " [0.62361    0.37638998]\n",
            " [0.3177457  0.6822543 ]\n",
            " [0.4981132  0.50188684]\n",
            " [0.4453564  0.55464363]\n",
            " [0.63449943 0.3655006 ]\n",
            " [0.7221019  0.27789807]\n",
            " [0.6384196  0.36158034]\n",
            " [0.455566   0.544434  ]\n",
            " [0.3378527  0.66214734]\n",
            " [0.5285596  0.47144035]\n",
            " [0.5227129  0.47728714]\n",
            " [0.29868087 0.7013191 ]\n",
            " [0.7012516  0.29874837]\n",
            " [0.4894575  0.5105425 ]\n",
            " [0.4521956  0.54780436]\n",
            " [0.49608344 0.50391656]\n",
            " [0.27651182 0.72348815]\n",
            " [0.45152146 0.5484785 ]\n",
            " [0.21480836 0.7851917 ]\n",
            " [0.49771097 0.50228906]\n",
            " [0.3216083  0.6783917 ]\n",
            " [0.3309704  0.6690296 ]\n",
            " [0.5619307  0.43806928]\n",
            " [0.7343009  0.2656991 ]\n",
            " [0.4894575  0.5105425 ]\n",
            " [0.3929426  0.6070574 ]\n",
            " [0.42543882 0.5745612 ]\n",
            " [0.22032793 0.7796721 ]\n",
            " [0.3858101  0.61418986]\n",
            " [0.6957676  0.30423242]\n",
            " [0.53563637 0.4643636 ]\n",
            " [0.8745652  0.12543485]\n",
            " [0.4500504  0.5499496 ]\n",
            " [0.7140335  0.28596658]\n",
            " [0.31493008 0.6850699 ]\n",
            " [0.7553078  0.24469218]\n",
            " [0.4894575  0.5105425 ]\n",
            " [0.4028985  0.59710157]\n",
            " [0.48057753 0.51942253]\n",
            " [0.55065125 0.44934872]\n",
            " [0.6342746  0.3657254 ]\n",
            " [0.40344414 0.5965558 ]\n",
            " [0.5075882  0.4924118 ]\n",
            " [0.51441246 0.48558754]\n",
            " [0.4308391  0.56916094]\n",
            " [0.59936935 0.40063065]\n",
            " [0.4894575  0.5105425 ]\n",
            " [0.37386182 0.62613815]\n",
            " [0.45035362 0.5496463 ]\n",
            " [0.29097185 0.7090282 ]\n",
            " [0.17682737 0.8231726 ]\n",
            " [0.4894575  0.5105425 ]\n",
            " [0.5716745  0.42832547]\n",
            " [0.5564327  0.44356734]\n",
            " [0.7344105  0.2655895 ]\n",
            " [0.29740116 0.70259887]\n",
            " [0.49902743 0.50097257]\n",
            " [0.49706027 0.5029397 ]\n",
            " [0.49072358 0.5092764 ]\n",
            " [0.44987535 0.55012465]\n",
            " [0.6755302  0.32446983]\n",
            " [0.25939932 0.7406007 ]\n",
            " [0.23299803 0.7670019 ]\n",
            " [0.28044975 0.71955025]\n",
            " [0.27364546 0.72635454]]\n"
          ]
        }
      ]
    },
    {
      "cell_type": "code",
      "source": [
        "model.save('model.h5')"
      ],
      "metadata": {
        "id": "JIUWJxydtRFy"
      },
      "execution_count": null,
      "outputs": []
    },
    {
      "cell_type": "code",
      "source": [],
      "metadata": {
        "id": "QuM56I5YtVWX"
      },
      "execution_count": null,
      "outputs": []
    }
  ]
}