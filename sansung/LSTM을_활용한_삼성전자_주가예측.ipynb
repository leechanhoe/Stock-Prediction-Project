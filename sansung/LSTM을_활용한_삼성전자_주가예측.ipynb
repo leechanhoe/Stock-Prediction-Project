{
  "cells": [
    {
      "cell_type": "markdown",
      "metadata": {
        "id": "vCOdwTuAYjK1"
      },
      "source": [
        "# LSTM을 활용한 주가 예측 모델"
      ]
    },
    {
      "cell_type": "markdown",
      "metadata": {
        "id": "1rxEp_ueYjLB"
      },
      "source": [
        "이번 튜토리얼 에서는 다음과 같은 **프로세스 파이프라인**으로 주가 예측을 진행합니다.\n",
        "\n",
        "- FinanceDataReader를 활용하여 주가 데이터 받아오기\n",
        "- TensorFlow Dataset 클래스를 활용하여 주가 데이터 구축\n",
        "- LSTM 을 활용한 주가 예측 모델 구축"
      ]
    },
    {
      "cell_type": "markdown",
      "metadata": {
        "id": "qRiJ_JduYjLD"
      },
      "source": [
        "## 필요한 모듈 import"
      ]
    },
    {
      "cell_type": "code",
      "execution_count": 27,
      "metadata": {
        "id": "J0gsxWHCYjLF"
      },
      "outputs": [],
      "source": [
        "import pandas as pd\n",
        "import numpy as np\n",
        "import matplotlib.pyplot as plt\n",
        "import seaborn as sns\n",
        "import warnings\n",
        "import os\n",
        "\n",
        "%matplotlib inline\n",
        "warnings.filterwarnings('ignore')\n",
        "\n",
        "# plt.rcParams['font.family'] = 'NanumGothic'"
      ]
    },
    {
      "cell_type": "markdown",
      "metadata": {
        "id": "X2GpUgdzYjLI"
      },
      "source": [
        "## 데이터 (FinanceDataReader)"
      ]
    },
    {
      "cell_type": "markdown",
      "metadata": {
        "id": "uvYqYEssYjLJ"
      },
      "source": [
        "**FinanceDataReader**는 주가 데이터를 편리하게 가져올 수 있는 파이썬 패키지입니다.\n",
        "\n",
        "- [GitHub Repo](https://github.com/FinanceData/FinanceDataReader)"
      ]
    },
    {
      "cell_type": "markdown",
      "metadata": {
        "id": "E0euuakvYjLK"
      },
      "source": [
        "**FinanceDataReader**가 아직 설치 되지 않으신 분들은 아래의 주석을 해제한 후 명령어로 설치해 주시기 바랍니다."
      ]
    },
    {
      "cell_type": "code",
      "execution_count": 3,
      "metadata": {
        "colab": {
          "base_uri": "https://localhost:8080/"
        },
        "id": "NGACW4QxYjLM",
        "outputId": "f25adaf3-5b32-46d4-b906-1fa69c6b3e57"
      },
      "outputs": [
        {
          "output_type": "stream",
          "name": "stdout",
          "text": [
            "Collecting finance-datareader\n",
            "  Downloading finance_datareader-0.9.50-py3-none-any.whl (19 kB)\n",
            "Requirement already satisfied: pandas>=0.19.2 in /usr/local/lib/python3.10/dist-packages (from finance-datareader) (1.5.3)\n",
            "Requirement already satisfied: requests>=2.3.0 in /usr/local/lib/python3.10/dist-packages (from finance-datareader) (2.27.1)\n",
            "Collecting requests-file (from finance-datareader)\n",
            "  Downloading requests_file-1.5.1-py2.py3-none-any.whl (3.7 kB)\n",
            "Requirement already satisfied: lxml in /usr/local/lib/python3.10/dist-packages (from finance-datareader) (4.9.3)\n",
            "Requirement already satisfied: tqdm in /usr/local/lib/python3.10/dist-packages (from finance-datareader) (4.65.0)\n",
            "Requirement already satisfied: python-dateutil>=2.8.1 in /usr/local/lib/python3.10/dist-packages (from pandas>=0.19.2->finance-datareader) (2.8.2)\n",
            "Requirement already satisfied: pytz>=2020.1 in /usr/local/lib/python3.10/dist-packages (from pandas>=0.19.2->finance-datareader) (2022.7.1)\n",
            "Requirement already satisfied: numpy>=1.21.0 in /usr/local/lib/python3.10/dist-packages (from pandas>=0.19.2->finance-datareader) (1.22.4)\n",
            "Requirement already satisfied: urllib3<1.27,>=1.21.1 in /usr/local/lib/python3.10/dist-packages (from requests>=2.3.0->finance-datareader) (1.26.16)\n",
            "Requirement already satisfied: certifi>=2017.4.17 in /usr/local/lib/python3.10/dist-packages (from requests>=2.3.0->finance-datareader) (2023.7.22)\n",
            "Requirement already satisfied: charset-normalizer~=2.0.0 in /usr/local/lib/python3.10/dist-packages (from requests>=2.3.0->finance-datareader) (2.0.12)\n",
            "Requirement already satisfied: idna<4,>=2.5 in /usr/local/lib/python3.10/dist-packages (from requests>=2.3.0->finance-datareader) (3.4)\n",
            "Requirement already satisfied: six in /usr/local/lib/python3.10/dist-packages (from requests-file->finance-datareader) (1.16.0)\n",
            "Installing collected packages: requests-file, finance-datareader\n",
            "Successfully installed finance-datareader-0.9.50 requests-file-1.5.1\n"
          ]
        }
      ],
      "source": [
        "!pip install finance-datareader"
      ]
    },
    {
      "cell_type": "code",
      "execution_count": 88,
      "metadata": {
        "id": "2g7nMUtuYjLN"
      },
      "outputs": [],
      "source": [
        "import FinanceDataReader as fdr"
      ]
    },
    {
      "cell_type": "code",
      "execution_count": 89,
      "metadata": {
        "id": "F-OsexZHYjLZ"
      },
      "outputs": [],
      "source": [
        "# 삼성전자 주식코드: 005930\n",
        "STOCK_CODE = '005930'"
      ]
    },
    {
      "cell_type": "code",
      "execution_count": 90,
      "metadata": {
        "id": "jnvXlAHRYjLZ"
      },
      "outputs": [],
      "source": [
        "stock = fdr.DataReader(STOCK_CODE, '1999-04-27', '2022-12-31')"
      ]
    },
    {
      "cell_type": "code",
      "execution_count": 91,
      "metadata": {
        "colab": {
          "base_uri": "https://localhost:8080/",
          "height": 237
        },
        "id": "RMXfClqmYjLa",
        "outputId": "66990417-5b80-41b7-b6cd-4349b1b524db"
      },
      "outputs": [
        {
          "output_type": "execute_result",
          "data": {
            "text/plain": [
              "             Open   High    Low  Close    Volume    Change\n",
              "Date                                                      \n",
              "2022-12-23  58200  58400  57700  58100   9829407 -0.016920\n",
              "2022-12-26  58000  58100  57700  57900   6756411 -0.003442\n",
              "2022-12-27  58000  58400  57900  58100  10667027  0.003454\n",
              "2022-12-28  57600  57600  56400  56600  14665410 -0.025818\n",
              "2022-12-29  56000  56200  55300  55300  11295935 -0.022968"
            ],
            "text/html": [
              "\n",
              "\n",
              "  <div id=\"df-b41c37db-8848-43cf-a593-9d131cf91f01\">\n",
              "    <div class=\"colab-df-container\">\n",
              "      <div>\n",
              "<style scoped>\n",
              "    .dataframe tbody tr th:only-of-type {\n",
              "        vertical-align: middle;\n",
              "    }\n",
              "\n",
              "    .dataframe tbody tr th {\n",
              "        vertical-align: top;\n",
              "    }\n",
              "\n",
              "    .dataframe thead th {\n",
              "        text-align: right;\n",
              "    }\n",
              "</style>\n",
              "<table border=\"1\" class=\"dataframe\">\n",
              "  <thead>\n",
              "    <tr style=\"text-align: right;\">\n",
              "      <th></th>\n",
              "      <th>Open</th>\n",
              "      <th>High</th>\n",
              "      <th>Low</th>\n",
              "      <th>Close</th>\n",
              "      <th>Volume</th>\n",
              "      <th>Change</th>\n",
              "    </tr>\n",
              "    <tr>\n",
              "      <th>Date</th>\n",
              "      <th></th>\n",
              "      <th></th>\n",
              "      <th></th>\n",
              "      <th></th>\n",
              "      <th></th>\n",
              "      <th></th>\n",
              "    </tr>\n",
              "  </thead>\n",
              "  <tbody>\n",
              "    <tr>\n",
              "      <th>2022-12-23</th>\n",
              "      <td>58200</td>\n",
              "      <td>58400</td>\n",
              "      <td>57700</td>\n",
              "      <td>58100</td>\n",
              "      <td>9829407</td>\n",
              "      <td>-0.016920</td>\n",
              "    </tr>\n",
              "    <tr>\n",
              "      <th>2022-12-26</th>\n",
              "      <td>58000</td>\n",
              "      <td>58100</td>\n",
              "      <td>57700</td>\n",
              "      <td>57900</td>\n",
              "      <td>6756411</td>\n",
              "      <td>-0.003442</td>\n",
              "    </tr>\n",
              "    <tr>\n",
              "      <th>2022-12-27</th>\n",
              "      <td>58000</td>\n",
              "      <td>58400</td>\n",
              "      <td>57900</td>\n",
              "      <td>58100</td>\n",
              "      <td>10667027</td>\n",
              "      <td>0.003454</td>\n",
              "    </tr>\n",
              "    <tr>\n",
              "      <th>2022-12-28</th>\n",
              "      <td>57600</td>\n",
              "      <td>57600</td>\n",
              "      <td>56400</td>\n",
              "      <td>56600</td>\n",
              "      <td>14665410</td>\n",
              "      <td>-0.025818</td>\n",
              "    </tr>\n",
              "    <tr>\n",
              "      <th>2022-12-29</th>\n",
              "      <td>56000</td>\n",
              "      <td>56200</td>\n",
              "      <td>55300</td>\n",
              "      <td>55300</td>\n",
              "      <td>11295935</td>\n",
              "      <td>-0.022968</td>\n",
              "    </tr>\n",
              "  </tbody>\n",
              "</table>\n",
              "</div>\n",
              "      <button class=\"colab-df-convert\" onclick=\"convertToInteractive('df-b41c37db-8848-43cf-a593-9d131cf91f01')\"\n",
              "              title=\"Convert this dataframe to an interactive table.\"\n",
              "              style=\"display:none;\">\n",
              "\n",
              "  <svg xmlns=\"http://www.w3.org/2000/svg\" height=\"24px\"viewBox=\"0 0 24 24\"\n",
              "       width=\"24px\">\n",
              "    <path d=\"M0 0h24v24H0V0z\" fill=\"none\"/>\n",
              "    <path d=\"M18.56 5.44l.94 2.06.94-2.06 2.06-.94-2.06-.94-.94-2.06-.94 2.06-2.06.94zm-11 1L8.5 8.5l.94-2.06 2.06-.94-2.06-.94L8.5 2.5l-.94 2.06-2.06.94zm10 10l.94 2.06.94-2.06 2.06-.94-2.06-.94-.94-2.06-.94 2.06-2.06.94z\"/><path d=\"M17.41 7.96l-1.37-1.37c-.4-.4-.92-.59-1.43-.59-.52 0-1.04.2-1.43.59L10.3 9.45l-7.72 7.72c-.78.78-.78 2.05 0 2.83L4 21.41c.39.39.9.59 1.41.59.51 0 1.02-.2 1.41-.59l7.78-7.78 2.81-2.81c.8-.78.8-2.07 0-2.86zM5.41 20L4 18.59l7.72-7.72 1.47 1.35L5.41 20z\"/>\n",
              "  </svg>\n",
              "      </button>\n",
              "\n",
              "\n",
              "\n",
              "    <div id=\"df-c10ac618-8a3e-4fcf-9169-12ce0a049c47\">\n",
              "      <button class=\"colab-df-quickchart\" onclick=\"quickchart('df-c10ac618-8a3e-4fcf-9169-12ce0a049c47')\"\n",
              "              title=\"Suggest charts.\"\n",
              "              style=\"display:none;\">\n",
              "\n",
              "<svg xmlns=\"http://www.w3.org/2000/svg\" height=\"24px\"viewBox=\"0 0 24 24\"\n",
              "     width=\"24px\">\n",
              "    <g>\n",
              "        <path d=\"M19 3H5c-1.1 0-2 .9-2 2v14c0 1.1.9 2 2 2h14c1.1 0 2-.9 2-2V5c0-1.1-.9-2-2-2zM9 17H7v-7h2v7zm4 0h-2V7h2v10zm4 0h-2v-4h2v4z\"/>\n",
              "    </g>\n",
              "</svg>\n",
              "      </button>\n",
              "    </div>\n",
              "\n",
              "<style>\n",
              "  .colab-df-quickchart {\n",
              "    background-color: #E8F0FE;\n",
              "    border: none;\n",
              "    border-radius: 50%;\n",
              "    cursor: pointer;\n",
              "    display: none;\n",
              "    fill: #1967D2;\n",
              "    height: 32px;\n",
              "    padding: 0 0 0 0;\n",
              "    width: 32px;\n",
              "  }\n",
              "\n",
              "  .colab-df-quickchart:hover {\n",
              "    background-color: #E2EBFA;\n",
              "    box-shadow: 0px 1px 2px rgba(60, 64, 67, 0.3), 0px 1px 3px 1px rgba(60, 64, 67, 0.15);\n",
              "    fill: #174EA6;\n",
              "  }\n",
              "\n",
              "  [theme=dark] .colab-df-quickchart {\n",
              "    background-color: #3B4455;\n",
              "    fill: #D2E3FC;\n",
              "  }\n",
              "\n",
              "  [theme=dark] .colab-df-quickchart:hover {\n",
              "    background-color: #434B5C;\n",
              "    box-shadow: 0px 1px 3px 1px rgba(0, 0, 0, 0.15);\n",
              "    filter: drop-shadow(0px 1px 2px rgba(0, 0, 0, 0.3));\n",
              "    fill: #FFFFFF;\n",
              "  }\n",
              "</style>\n",
              "\n",
              "    <script>\n",
              "      async function quickchart(key) {\n",
              "        const containerElement = document.querySelector('#' + key);\n",
              "        const charts = await google.colab.kernel.invokeFunction(\n",
              "            'suggestCharts', [key], {});\n",
              "      }\n",
              "    </script>\n",
              "\n",
              "      <script>\n",
              "\n",
              "function displayQuickchartButton(domScope) {\n",
              "  let quickchartButtonEl =\n",
              "    domScope.querySelector('#df-c10ac618-8a3e-4fcf-9169-12ce0a049c47 button.colab-df-quickchart');\n",
              "  quickchartButtonEl.style.display =\n",
              "    google.colab.kernel.accessAllowed ? 'block' : 'none';\n",
              "}\n",
              "\n",
              "        displayQuickchartButton(document);\n",
              "      </script>\n",
              "      <style>\n",
              "    .colab-df-container {\n",
              "      display:flex;\n",
              "      flex-wrap:wrap;\n",
              "      gap: 12px;\n",
              "    }\n",
              "\n",
              "    .colab-df-convert {\n",
              "      background-color: #E8F0FE;\n",
              "      border: none;\n",
              "      border-radius: 50%;\n",
              "      cursor: pointer;\n",
              "      display: none;\n",
              "      fill: #1967D2;\n",
              "      height: 32px;\n",
              "      padding: 0 0 0 0;\n",
              "      width: 32px;\n",
              "    }\n",
              "\n",
              "    .colab-df-convert:hover {\n",
              "      background-color: #E2EBFA;\n",
              "      box-shadow: 0px 1px 2px rgba(60, 64, 67, 0.3), 0px 1px 3px 1px rgba(60, 64, 67, 0.15);\n",
              "      fill: #174EA6;\n",
              "    }\n",
              "\n",
              "    [theme=dark] .colab-df-convert {\n",
              "      background-color: #3B4455;\n",
              "      fill: #D2E3FC;\n",
              "    }\n",
              "\n",
              "    [theme=dark] .colab-df-convert:hover {\n",
              "      background-color: #434B5C;\n",
              "      box-shadow: 0px 1px 3px 1px rgba(0, 0, 0, 0.15);\n",
              "      filter: drop-shadow(0px 1px 2px rgba(0, 0, 0, 0.3));\n",
              "      fill: #FFFFFF;\n",
              "    }\n",
              "  </style>\n",
              "\n",
              "      <script>\n",
              "        const buttonEl =\n",
              "          document.querySelector('#df-b41c37db-8848-43cf-a593-9d131cf91f01 button.colab-df-convert');\n",
              "        buttonEl.style.display =\n",
              "          google.colab.kernel.accessAllowed ? 'block' : 'none';\n",
              "\n",
              "        async function convertToInteractive(key) {\n",
              "          const element = document.querySelector('#df-b41c37db-8848-43cf-a593-9d131cf91f01');\n",
              "          const dataTable =\n",
              "            await google.colab.kernel.invokeFunction('convertToInteractive',\n",
              "                                                     [key], {});\n",
              "          if (!dataTable) return;\n",
              "\n",
              "          const docLinkHtml = 'Like what you see? Visit the ' +\n",
              "            '<a target=\"_blank\" href=https://colab.research.google.com/notebooks/data_table.ipynb>data table notebook</a>'\n",
              "            + ' to learn more about interactive tables.';\n",
              "          element.innerHTML = '';\n",
              "          dataTable['output_type'] = 'display_data';\n",
              "          await google.colab.output.renderOutput(dataTable, element);\n",
              "          const docLink = document.createElement('div');\n",
              "          docLink.innerHTML = docLinkHtml;\n",
              "          element.appendChild(docLink);\n",
              "        }\n",
              "      </script>\n",
              "    </div>\n",
              "  </div>\n"
            ]
          },
          "metadata": {},
          "execution_count": 91
        }
      ],
      "source": [
        "stock.tail()"
      ]
    },
    {
      "cell_type": "markdown",
      "metadata": {
        "id": "_XgLr60_YjLg"
      },
      "source": [
        "## 데이터 전처리"
      ]
    },
    {
      "cell_type": "markdown",
      "metadata": {
        "id": "XZqvID3wYjLg"
      },
      "source": [
        "주가 데이터에 대하여 딥러닝 모델이 더 잘 학습할 수 있도록 **정규화(Normalization)**를 해주도록 하겠습니다.\n",
        "\n",
        "**표준화 (Standardization)**와 **정규화(Normalization)**에 대한 내용은 아래 링크에서 더 자세히 다루니, 참고해 보시기 바랍니다.\n",
        "\n",
        "- [데이터 전처리에 관하여](https://teddylee777.github.io/scikit-learn/scikit-learn-preprocessing)"
      ]
    },
    {
      "cell_type": "code",
      "execution_count": 62,
      "metadata": {
        "colab": {
          "base_uri": "https://localhost:8080/"
        },
        "id": "4-4PgRMZ0l5Q",
        "outputId": "72a57ebd-a2e0-4724-d057-18e0c9824040"
      },
      "outputs": [
        {
          "output_type": "execute_result",
          "data": {
            "text/plain": [
              "array([[0.02188261, 0.02102273, 0.02130726, 0.00334549, 0.01207878,\n",
              "        0.38862858],\n",
              "       [0.02122924, 0.02018595, 0.02132961, 0.00334549, 0.00673675,\n",
              "        0.47838086],\n",
              "       [0.02122924, 0.01980372, 0.02032402, 0.00217065, 0.0081894 ,\n",
              "        0.28870118],\n",
              "       ...,\n",
              "       [0.78294574, 0.73347107, 0.77988827, 0.76391344, 0.15320126,\n",
              "        0.41968954],\n",
              "       [0.77408638, 0.72520661, 0.76536313, 0.75160561, 0.22243318,\n",
              "        0.42365687],\n",
              "       [0.76190476, 0.71384298, 0.76201117, 0.74601114, 0.13581178,\n",
              "        0.45310862]])"
            ]
          },
          "metadata": {},
          "execution_count": 62
        }
      ],
      "source": [
        "from sklearn.preprocessing import MinMaxScaler\n",
        "\n",
        "scaler = MinMaxScaler()\n",
        "# 스케일을 적용할 column을 정의합니다.\n",
        "scale_cols = ['Open', 'High', 'Low', 'Close', 'Volume', 'Change']\n",
        "# 스케일 후 columns\n",
        "scaled = scaler.fit_transform(stock[scale_cols])\n",
        "scaled"
      ]
    },
    {
      "cell_type": "markdown",
      "metadata": {
        "id": "lh1YPR7VYjLq"
      },
      "source": [
        "스케일이 완료된 column으로 새로운 데이터프레임을 생성합니다.\n",
        "\n",
        "**시간 순으로 정렬**되어 있으며, datetime index는 제외했습니다.\n",
        "\n",
        "*6,000개의 row, 5개 column*으로 이루어진 데이터셋이 DataFrame으로 정리되었습니다."
      ]
    },
    {
      "cell_type": "code",
      "execution_count": 63,
      "metadata": {
        "id": "dIJjE21B0l5m"
      },
      "outputs": [],
      "source": [
        "df = pd.DataFrame(scaled, columns=scale_cols)"
      ]
    },
    {
      "cell_type": "markdown",
      "metadata": {
        "id": "kOfyi9agYjLr"
      },
      "source": [
        "## train / test 분할"
      ]
    },
    {
      "cell_type": "code",
      "execution_count": 64,
      "metadata": {
        "id": "Hj6-uHQKYjLr"
      },
      "outputs": [],
      "source": [
        "from sklearn.model_selection import train_test_split"
      ]
    },
    {
      "cell_type": "code",
      "execution_count": 65,
      "metadata": {
        "id": "YLDVf5_pYjLr"
      },
      "outputs": [],
      "source": [
        "x_train, x_test, y_train, y_test = train_test_split(df.drop('Close', 1), df['Close'], test_size=0.2, random_state=0, shuffle=False)"
      ]
    },
    {
      "cell_type": "code",
      "execution_count": 66,
      "metadata": {
        "colab": {
          "base_uri": "https://localhost:8080/"
        },
        "id": "zr-cOUGuYjLs",
        "outputId": "88e3d530-25eb-456e-afc3-a0409f7f4d2e"
      },
      "outputs": [
        {
          "output_type": "execute_result",
          "data": {
            "text/plain": [
              "((4799, 5), (4799,))"
            ]
          },
          "metadata": {},
          "execution_count": 66
        }
      ],
      "source": [
        "x_train.shape, y_train.shape"
      ]
    },
    {
      "cell_type": "code",
      "execution_count": 67,
      "metadata": {
        "colab": {
          "base_uri": "https://localhost:8080/"
        },
        "id": "PNwsgEUpYjLt",
        "outputId": "0fa5c6c7-6483-4765-cad0-dec16284b34c"
      },
      "outputs": [
        {
          "output_type": "execute_result",
          "data": {
            "text/plain": [
              "((1200, 5), (1200,))"
            ]
          },
          "metadata": {},
          "execution_count": 67
        }
      ],
      "source": [
        "x_test.shape, y_test.shape"
      ]
    },
    {
      "cell_type": "code",
      "execution_count": 68,
      "metadata": {
        "colab": {
          "base_uri": "https://localhost:8080/",
          "height": 423
        },
        "id": "R0XrysfsYjLu",
        "outputId": "2d6df60c-26c3-4079-af17-0b1b1c45f678"
      },
      "outputs": [
        {
          "output_type": "execute_result",
          "data": {
            "text/plain": [
              "          Open      High       Low    Volume    Change\n",
              "0     0.021883  0.021023  0.021307  0.012079  0.388629\n",
              "1     0.021229  0.020186  0.021330  0.006737  0.478381\n",
              "2     0.021229  0.019804  0.020324  0.008189  0.288701\n",
              "3     0.020122  0.018771  0.019631  0.012499  0.417239\n",
              "4     0.019911  0.018595  0.019777  0.004826  0.472546\n",
              "...        ...       ...       ...       ...       ...\n",
              "4794  0.504430  0.473140  0.501676  0.089954  0.425290\n",
              "4795  0.497785  0.474174  0.499441  0.110591  0.505338\n",
              "4796  0.509413  0.477273  0.510615  0.103730  0.528059\n",
              "4797  0.518826  0.491736  0.518436  0.149901  0.561267\n",
              "4798  0.515504  0.491219  0.520112  0.160309  0.489420\n",
              "\n",
              "[4799 rows x 5 columns]"
            ],
            "text/html": [
              "\n",
              "\n",
              "  <div id=\"df-ec4f408d-187a-4034-89cd-51ccbe0216b4\">\n",
              "    <div class=\"colab-df-container\">\n",
              "      <div>\n",
              "<style scoped>\n",
              "    .dataframe tbody tr th:only-of-type {\n",
              "        vertical-align: middle;\n",
              "    }\n",
              "\n",
              "    .dataframe tbody tr th {\n",
              "        vertical-align: top;\n",
              "    }\n",
              "\n",
              "    .dataframe thead th {\n",
              "        text-align: right;\n",
              "    }\n",
              "</style>\n",
              "<table border=\"1\" class=\"dataframe\">\n",
              "  <thead>\n",
              "    <tr style=\"text-align: right;\">\n",
              "      <th></th>\n",
              "      <th>Open</th>\n",
              "      <th>High</th>\n",
              "      <th>Low</th>\n",
              "      <th>Volume</th>\n",
              "      <th>Change</th>\n",
              "    </tr>\n",
              "  </thead>\n",
              "  <tbody>\n",
              "    <tr>\n",
              "      <th>0</th>\n",
              "      <td>0.021883</td>\n",
              "      <td>0.021023</td>\n",
              "      <td>0.021307</td>\n",
              "      <td>0.012079</td>\n",
              "      <td>0.388629</td>\n",
              "    </tr>\n",
              "    <tr>\n",
              "      <th>1</th>\n",
              "      <td>0.021229</td>\n",
              "      <td>0.020186</td>\n",
              "      <td>0.021330</td>\n",
              "      <td>0.006737</td>\n",
              "      <td>0.478381</td>\n",
              "    </tr>\n",
              "    <tr>\n",
              "      <th>2</th>\n",
              "      <td>0.021229</td>\n",
              "      <td>0.019804</td>\n",
              "      <td>0.020324</td>\n",
              "      <td>0.008189</td>\n",
              "      <td>0.288701</td>\n",
              "    </tr>\n",
              "    <tr>\n",
              "      <th>3</th>\n",
              "      <td>0.020122</td>\n",
              "      <td>0.018771</td>\n",
              "      <td>0.019631</td>\n",
              "      <td>0.012499</td>\n",
              "      <td>0.417239</td>\n",
              "    </tr>\n",
              "    <tr>\n",
              "      <th>4</th>\n",
              "      <td>0.019911</td>\n",
              "      <td>0.018595</td>\n",
              "      <td>0.019777</td>\n",
              "      <td>0.004826</td>\n",
              "      <td>0.472546</td>\n",
              "    </tr>\n",
              "    <tr>\n",
              "      <th>...</th>\n",
              "      <td>...</td>\n",
              "      <td>...</td>\n",
              "      <td>...</td>\n",
              "      <td>...</td>\n",
              "      <td>...</td>\n",
              "    </tr>\n",
              "    <tr>\n",
              "      <th>4794</th>\n",
              "      <td>0.504430</td>\n",
              "      <td>0.473140</td>\n",
              "      <td>0.501676</td>\n",
              "      <td>0.089954</td>\n",
              "      <td>0.425290</td>\n",
              "    </tr>\n",
              "    <tr>\n",
              "      <th>4795</th>\n",
              "      <td>0.497785</td>\n",
              "      <td>0.474174</td>\n",
              "      <td>0.499441</td>\n",
              "      <td>0.110591</td>\n",
              "      <td>0.505338</td>\n",
              "    </tr>\n",
              "    <tr>\n",
              "      <th>4796</th>\n",
              "      <td>0.509413</td>\n",
              "      <td>0.477273</td>\n",
              "      <td>0.510615</td>\n",
              "      <td>0.103730</td>\n",
              "      <td>0.528059</td>\n",
              "    </tr>\n",
              "    <tr>\n",
              "      <th>4797</th>\n",
              "      <td>0.518826</td>\n",
              "      <td>0.491736</td>\n",
              "      <td>0.518436</td>\n",
              "      <td>0.149901</td>\n",
              "      <td>0.561267</td>\n",
              "    </tr>\n",
              "    <tr>\n",
              "      <th>4798</th>\n",
              "      <td>0.515504</td>\n",
              "      <td>0.491219</td>\n",
              "      <td>0.520112</td>\n",
              "      <td>0.160309</td>\n",
              "      <td>0.489420</td>\n",
              "    </tr>\n",
              "  </tbody>\n",
              "</table>\n",
              "<p>4799 rows × 5 columns</p>\n",
              "</div>\n",
              "      <button class=\"colab-df-convert\" onclick=\"convertToInteractive('df-ec4f408d-187a-4034-89cd-51ccbe0216b4')\"\n",
              "              title=\"Convert this dataframe to an interactive table.\"\n",
              "              style=\"display:none;\">\n",
              "\n",
              "  <svg xmlns=\"http://www.w3.org/2000/svg\" height=\"24px\"viewBox=\"0 0 24 24\"\n",
              "       width=\"24px\">\n",
              "    <path d=\"M0 0h24v24H0V0z\" fill=\"none\"/>\n",
              "    <path d=\"M18.56 5.44l.94 2.06.94-2.06 2.06-.94-2.06-.94-.94-2.06-.94 2.06-2.06.94zm-11 1L8.5 8.5l.94-2.06 2.06-.94-2.06-.94L8.5 2.5l-.94 2.06-2.06.94zm10 10l.94 2.06.94-2.06 2.06-.94-2.06-.94-.94-2.06-.94 2.06-2.06.94z\"/><path d=\"M17.41 7.96l-1.37-1.37c-.4-.4-.92-.59-1.43-.59-.52 0-1.04.2-1.43.59L10.3 9.45l-7.72 7.72c-.78.78-.78 2.05 0 2.83L4 21.41c.39.39.9.59 1.41.59.51 0 1.02-.2 1.41-.59l7.78-7.78 2.81-2.81c.8-.78.8-2.07 0-2.86zM5.41 20L4 18.59l7.72-7.72 1.47 1.35L5.41 20z\"/>\n",
              "  </svg>\n",
              "      </button>\n",
              "\n",
              "\n",
              "\n",
              "    <div id=\"df-e6a68157-013a-433a-82ec-de03a7437de5\">\n",
              "      <button class=\"colab-df-quickchart\" onclick=\"quickchart('df-e6a68157-013a-433a-82ec-de03a7437de5')\"\n",
              "              title=\"Suggest charts.\"\n",
              "              style=\"display:none;\">\n",
              "\n",
              "<svg xmlns=\"http://www.w3.org/2000/svg\" height=\"24px\"viewBox=\"0 0 24 24\"\n",
              "     width=\"24px\">\n",
              "    <g>\n",
              "        <path d=\"M19 3H5c-1.1 0-2 .9-2 2v14c0 1.1.9 2 2 2h14c1.1 0 2-.9 2-2V5c0-1.1-.9-2-2-2zM9 17H7v-7h2v7zm4 0h-2V7h2v10zm4 0h-2v-4h2v4z\"/>\n",
              "    </g>\n",
              "</svg>\n",
              "      </button>\n",
              "    </div>\n",
              "\n",
              "<style>\n",
              "  .colab-df-quickchart {\n",
              "    background-color: #E8F0FE;\n",
              "    border: none;\n",
              "    border-radius: 50%;\n",
              "    cursor: pointer;\n",
              "    display: none;\n",
              "    fill: #1967D2;\n",
              "    height: 32px;\n",
              "    padding: 0 0 0 0;\n",
              "    width: 32px;\n",
              "  }\n",
              "\n",
              "  .colab-df-quickchart:hover {\n",
              "    background-color: #E2EBFA;\n",
              "    box-shadow: 0px 1px 2px rgba(60, 64, 67, 0.3), 0px 1px 3px 1px rgba(60, 64, 67, 0.15);\n",
              "    fill: #174EA6;\n",
              "  }\n",
              "\n",
              "  [theme=dark] .colab-df-quickchart {\n",
              "    background-color: #3B4455;\n",
              "    fill: #D2E3FC;\n",
              "  }\n",
              "\n",
              "  [theme=dark] .colab-df-quickchart:hover {\n",
              "    background-color: #434B5C;\n",
              "    box-shadow: 0px 1px 3px 1px rgba(0, 0, 0, 0.15);\n",
              "    filter: drop-shadow(0px 1px 2px rgba(0, 0, 0, 0.3));\n",
              "    fill: #FFFFFF;\n",
              "  }\n",
              "</style>\n",
              "\n",
              "    <script>\n",
              "      async function quickchart(key) {\n",
              "        const containerElement = document.querySelector('#' + key);\n",
              "        const charts = await google.colab.kernel.invokeFunction(\n",
              "            'suggestCharts', [key], {});\n",
              "      }\n",
              "    </script>\n",
              "\n",
              "      <script>\n",
              "\n",
              "function displayQuickchartButton(domScope) {\n",
              "  let quickchartButtonEl =\n",
              "    domScope.querySelector('#df-e6a68157-013a-433a-82ec-de03a7437de5 button.colab-df-quickchart');\n",
              "  quickchartButtonEl.style.display =\n",
              "    google.colab.kernel.accessAllowed ? 'block' : 'none';\n",
              "}\n",
              "\n",
              "        displayQuickchartButton(document);\n",
              "      </script>\n",
              "      <style>\n",
              "    .colab-df-container {\n",
              "      display:flex;\n",
              "      flex-wrap:wrap;\n",
              "      gap: 12px;\n",
              "    }\n",
              "\n",
              "    .colab-df-convert {\n",
              "      background-color: #E8F0FE;\n",
              "      border: none;\n",
              "      border-radius: 50%;\n",
              "      cursor: pointer;\n",
              "      display: none;\n",
              "      fill: #1967D2;\n",
              "      height: 32px;\n",
              "      padding: 0 0 0 0;\n",
              "      width: 32px;\n",
              "    }\n",
              "\n",
              "    .colab-df-convert:hover {\n",
              "      background-color: #E2EBFA;\n",
              "      box-shadow: 0px 1px 2px rgba(60, 64, 67, 0.3), 0px 1px 3px 1px rgba(60, 64, 67, 0.15);\n",
              "      fill: #174EA6;\n",
              "    }\n",
              "\n",
              "    [theme=dark] .colab-df-convert {\n",
              "      background-color: #3B4455;\n",
              "      fill: #D2E3FC;\n",
              "    }\n",
              "\n",
              "    [theme=dark] .colab-df-convert:hover {\n",
              "      background-color: #434B5C;\n",
              "      box-shadow: 0px 1px 3px 1px rgba(0, 0, 0, 0.15);\n",
              "      filter: drop-shadow(0px 1px 2px rgba(0, 0, 0, 0.3));\n",
              "      fill: #FFFFFF;\n",
              "    }\n",
              "  </style>\n",
              "\n",
              "      <script>\n",
              "        const buttonEl =\n",
              "          document.querySelector('#df-ec4f408d-187a-4034-89cd-51ccbe0216b4 button.colab-df-convert');\n",
              "        buttonEl.style.display =\n",
              "          google.colab.kernel.accessAllowed ? 'block' : 'none';\n",
              "\n",
              "        async function convertToInteractive(key) {\n",
              "          const element = document.querySelector('#df-ec4f408d-187a-4034-89cd-51ccbe0216b4');\n",
              "          const dataTable =\n",
              "            await google.colab.kernel.invokeFunction('convertToInteractive',\n",
              "                                                     [key], {});\n",
              "          if (!dataTable) return;\n",
              "\n",
              "          const docLinkHtml = 'Like what you see? Visit the ' +\n",
              "            '<a target=\"_blank\" href=https://colab.research.google.com/notebooks/data_table.ipynb>data table notebook</a>'\n",
              "            + ' to learn more about interactive tables.';\n",
              "          element.innerHTML = '';\n",
              "          dataTable['output_type'] = 'display_data';\n",
              "          await google.colab.output.renderOutput(dataTable, element);\n",
              "          const docLink = document.createElement('div');\n",
              "          docLink.innerHTML = docLinkHtml;\n",
              "          element.appendChild(docLink);\n",
              "        }\n",
              "      </script>\n",
              "    </div>\n",
              "  </div>\n"
            ]
          },
          "metadata": {},
          "execution_count": 68
        }
      ],
      "source": [
        "x_train"
      ]
    },
    {
      "cell_type": "markdown",
      "metadata": {
        "id": "TIqq8p26YjLv"
      },
      "source": [
        "## TensroFlow Dataset을 활용한 시퀀스 데이터셋 구성"
      ]
    },
    {
      "cell_type": "code",
      "execution_count": 69,
      "metadata": {
        "id": "_TO6PH4IYjLw"
      },
      "outputs": [],
      "source": [
        "import tensorflow as tf"
      ]
    },
    {
      "cell_type": "code",
      "execution_count": 70,
      "metadata": {
        "id": "e3wWLlRIYjLw"
      },
      "outputs": [],
      "source": [
        "def windowed_dataset(series, window_size, batch_size, shuffle):\n",
        "    series = tf.expand_dims(series, axis=-1)\n",
        "    ds = tf.data.Dataset.from_tensor_slices(series)\n",
        "    ds = ds.window(window_size + 1, shift=1, drop_remainder=True)\n",
        "    ds = ds.flat_map(lambda w: w.batch(window_size + 1))\n",
        "    if shuffle:\n",
        "        ds = ds.shuffle(1000)\n",
        "    ds = ds.map(lambda w: (w[:-1], w[-1]))\n",
        "    return ds.batch(batch_size).prefetch(1)"
      ]
    },
    {
      "cell_type": "markdown",
      "metadata": {
        "id": "ZxkVGC5YYjLx"
      },
      "source": [
        "Hyperparameter를 정의합니다."
      ]
    },
    {
      "cell_type": "code",
      "execution_count": 71,
      "metadata": {
        "id": "_4mNMh4PYjLx"
      },
      "outputs": [],
      "source": [
        "WINDOW_SIZE=35\n",
        "BATCH_SIZE=32"
      ]
    },
    {
      "cell_type": "code",
      "execution_count": 72,
      "metadata": {
        "id": "moRAnLvBYjLy"
      },
      "outputs": [],
      "source": [
        "# trian_data는 학습용 데이터셋, test_data는 검증용 데이터셋 입니다.\n",
        "train_data = windowed_dataset(y_train, WINDOW_SIZE, BATCH_SIZE, True)\n",
        "test_data = windowed_dataset(y_test, WINDOW_SIZE, BATCH_SIZE, False)"
      ]
    },
    {
      "cell_type": "code",
      "execution_count": 73,
      "metadata": {
        "colab": {
          "base_uri": "https://localhost:8080/"
        },
        "id": "o0-YUqHGYjLy",
        "outputId": "0455d0f0-c468-4e4f-8e68-0f82b7f8f7aa"
      },
      "outputs": [
        {
          "output_type": "stream",
          "name": "stdout",
          "text": [
            "데이터셋(X) 구성(batch_size, window_size, feature갯수): (32, 35, 1)\n",
            "데이터셋(Y) 구성(batch_size, window_size, feature갯수): (32, 1)\n"
          ]
        }
      ],
      "source": [
        "# 아래의 코드로 데이터셋의 구성을 확인해 볼 수 있습니다.\n",
        "# X: (batch_size, window_size, feature)\n",
        "# Y: (batch_size, feature)\n",
        "for data in train_data.take(1):\n",
        "    print(f'데이터셋(X) 구성(batch_size, window_size, feature갯수): {data[0].shape}')\n",
        "    print(f'데이터셋(Y) 구성(batch_size, window_size, feature갯수): {data[1].shape}')"
      ]
    },
    {
      "cell_type": "markdown",
      "metadata": {
        "id": "uwP6ajR5YjLz"
      },
      "source": [
        "## 모델"
      ]
    },
    {
      "cell_type": "code",
      "execution_count": 74,
      "metadata": {
        "id": "mAkmGu1j0l8M"
      },
      "outputs": [],
      "source": [
        "from tensorflow.keras.models import Sequential\n",
        "from tensorflow.keras.layers import Dense, LSTM, Conv1D, Lambda\n",
        "from tensorflow.keras.losses import Huber\n",
        "from tensorflow.keras.optimizers import Adam\n",
        "from tensorflow.keras.callbacks import EarlyStopping, ModelCheckpoint\n",
        "\n",
        "\n",
        "model = Sequential([\n",
        "    # 1차원 feature map 생성\n",
        "    Conv1D(filters=32, kernel_size=5,\n",
        "           padding=\"causal\",\n",
        "           activation=\"relu\",\n",
        "           input_shape=[WINDOW_SIZE, 1]),\n",
        "    # LSTM\n",
        "    LSTM(16, activation='tanh'),\n",
        "    Dense(16, activation=\"relu\"),\n",
        "    Dense(1),\n",
        "])"
      ]
    },
    {
      "cell_type": "code",
      "execution_count": 75,
      "metadata": {
        "id": "xShll_EX0l8T"
      },
      "outputs": [],
      "source": [
        "# Sequence 학습에 비교적 좋은 퍼포먼스를 내는 Huber()를 사용합니다.\n",
        "loss = Huber()\n",
        "optimizer = Adam(0.0005)\n",
        "model.compile(loss=Huber(), optimizer=optimizer, metrics=['mse'])"
      ]
    },
    {
      "cell_type": "code",
      "execution_count": 76,
      "metadata": {
        "id": "pgM9m_ZOYjL1"
      },
      "outputs": [],
      "source": [
        "# earlystopping은 10번 epoch통안 val_loss 개선이 없다면 학습을 멈춥니다.\n",
        "earlystopping = EarlyStopping(monitor='val_loss', patience=10)\n",
        "# val_loss 기준 체크포인터도 생성합니다.\n",
        "filename = os.path.join('tmp', 'ckeckpointer.ckpt')\n",
        "checkpoint = ModelCheckpoint(filename,\n",
        "                             save_weights_only=True,\n",
        "                             save_best_only=True,\n",
        "                             monitor='val_loss',\n",
        "                             verbose=1)"
      ]
    },
    {
      "cell_type": "code",
      "execution_count": 77,
      "metadata": {
        "colab": {
          "base_uri": "https://localhost:8080/"
        },
        "outputId": "ae2df1ce-7258-4f2c-f8af-83ed4aa1e819",
        "id": "7NUEZD1LYjL2"
      },
      "outputs": [
        {
          "output_type": "stream",
          "name": "stdout",
          "text": [
            "Epoch 1/50\n",
            "    145/Unknown - 4s 8ms/step - loss: 1.2404e-04 - mse: 2.4808e-04\n",
            "Epoch 1: val_loss improved from inf to 0.00248, saving model to tmp/ckeckpointer.ckpt\n",
            "149/149 [==============================] - 5s 13ms/step - loss: 1.2325e-04 - mse: 2.4649e-04 - val_loss: 0.0025 - val_mse: 0.0050\n",
            "Epoch 2/50\n",
            "147/149 [============================>.] - ETA: 0s - loss: 4.7130e-05 - mse: 9.4260e-05\n",
            "Epoch 2: val_loss improved from 0.00248 to 0.00115, saving model to tmp/ckeckpointer.ckpt\n",
            "149/149 [==============================] - 2s 12ms/step - loss: 4.7972e-05 - mse: 9.5943e-05 - val_loss: 0.0011 - val_mse: 0.0023\n",
            "Epoch 3/50\n",
            "144/149 [===========================>..] - ETA: 0s - loss: 4.2010e-05 - mse: 8.4019e-05\n",
            "Epoch 3: val_loss improved from 0.00115 to 0.00104, saving model to tmp/ckeckpointer.ckpt\n",
            "149/149 [==============================] - 2s 11ms/step - loss: 4.4189e-05 - mse: 8.8379e-05 - val_loss: 0.0010 - val_mse: 0.0021\n",
            "Epoch 4/50\n",
            "140/149 [===========================>..] - ETA: 0s - loss: 4.0016e-05 - mse: 8.0032e-05\n",
            "Epoch 4: val_loss improved from 0.00104 to 0.00096, saving model to tmp/ckeckpointer.ckpt\n",
            "149/149 [==============================] - 2s 10ms/step - loss: 4.2408e-05 - mse: 8.4816e-05 - val_loss: 9.5862e-04 - val_mse: 0.0019\n",
            "Epoch 5/50\n",
            "146/149 [============================>.] - ETA: 0s - loss: 4.0871e-05 - mse: 8.1742e-05\n",
            "Epoch 5: val_loss did not improve from 0.00096\n",
            "149/149 [==============================] - 2s 10ms/step - loss: 4.1711e-05 - mse: 8.3422e-05 - val_loss: 0.0010 - val_mse: 0.0021\n",
            "Epoch 6/50\n",
            "145/149 [============================>.] - ETA: 0s - loss: 3.7991e-05 - mse: 7.5983e-05\n",
            "Epoch 6: val_loss improved from 0.00096 to 0.00087, saving model to tmp/ckeckpointer.ckpt\n",
            "149/149 [==============================] - 2s 10ms/step - loss: 3.9474e-05 - mse: 7.8947e-05 - val_loss: 8.7399e-04 - val_mse: 0.0017\n",
            "Epoch 7/50\n",
            "144/149 [===========================>..] - ETA: 0s - loss: 3.9273e-05 - mse: 7.8546e-05\n",
            "Epoch 7: val_loss improved from 0.00087 to 0.00076, saving model to tmp/ckeckpointer.ckpt\n",
            "149/149 [==============================] - 3s 18ms/step - loss: 4.0264e-05 - mse: 8.0528e-05 - val_loss: 7.6068e-04 - val_mse: 0.0015\n",
            "Epoch 8/50\n",
            "146/149 [============================>.] - ETA: 0s - loss: 3.6350e-05 - mse: 7.2699e-05\n",
            "Epoch 8: val_loss improved from 0.00076 to 0.00056, saving model to tmp/ckeckpointer.ckpt\n",
            "149/149 [==============================] - 2s 10ms/step - loss: 3.6729e-05 - mse: 7.3459e-05 - val_loss: 5.5563e-04 - val_mse: 0.0011\n",
            "Epoch 9/50\n",
            "147/149 [============================>.] - ETA: 0s - loss: 3.2610e-05 - mse: 6.5220e-05\n",
            "Epoch 9: val_loss did not improve from 0.00056\n",
            "149/149 [==============================] - 2s 10ms/step - loss: 3.3595e-05 - mse: 6.7189e-05 - val_loss: 5.6823e-04 - val_mse: 0.0011\n",
            "Epoch 10/50\n",
            "140/149 [===========================>..] - ETA: 0s - loss: 3.1462e-05 - mse: 6.2924e-05\n",
            "Epoch 10: val_loss did not improve from 0.00056\n",
            "149/149 [==============================] - 2s 10ms/step - loss: 3.3841e-05 - mse: 6.7683e-05 - val_loss: 7.8114e-04 - val_mse: 0.0016\n",
            "Epoch 11/50\n",
            "146/149 [============================>.] - ETA: 0s - loss: 3.2035e-05 - mse: 6.4069e-05\n",
            "Epoch 11: val_loss did not improve from 0.00056\n",
            "149/149 [==============================] - 2s 10ms/step - loss: 3.2609e-05 - mse: 6.5219e-05 - val_loss: 6.4818e-04 - val_mse: 0.0013\n",
            "Epoch 12/50\n",
            "144/149 [===========================>..] - ETA: 0s - loss: 2.9620e-05 - mse: 5.9240e-05\n",
            "Epoch 12: val_loss did not improve from 0.00056\n",
            "149/149 [==============================] - 2s 10ms/step - loss: 3.1789e-05 - mse: 6.3578e-05 - val_loss: 5.5975e-04 - val_mse: 0.0011\n",
            "Epoch 13/50\n",
            "146/149 [============================>.] - ETA: 0s - loss: 2.9920e-05 - mse: 5.9840e-05\n",
            "Epoch 13: val_loss improved from 0.00056 to 0.00028, saving model to tmp/ckeckpointer.ckpt\n",
            "149/149 [==============================] - 3s 16ms/step - loss: 3.0339e-05 - mse: 6.0677e-05 - val_loss: 2.7760e-04 - val_mse: 5.5519e-04\n",
            "Epoch 14/50\n",
            "145/149 [============================>.] - ETA: 0s - loss: 2.7053e-05 - mse: 5.4105e-05\n",
            "Epoch 14: val_loss improved from 0.00028 to 0.00026, saving model to tmp/ckeckpointer.ckpt\n",
            "149/149 [==============================] - 2s 13ms/step - loss: 2.8142e-05 - mse: 5.6284e-05 - val_loss: 2.5521e-04 - val_mse: 5.1042e-04\n",
            "Epoch 15/50\n",
            "142/149 [===========================>..] - ETA: 0s - loss: 3.0357e-05 - mse: 6.0714e-05\n",
            "Epoch 15: val_loss did not improve from 0.00026\n",
            "149/149 [==============================] - 2s 10ms/step - loss: 3.2088e-05 - mse: 6.4177e-05 - val_loss: 3.9597e-04 - val_mse: 7.9194e-04\n",
            "Epoch 16/50\n",
            "143/149 [===========================>..] - ETA: 0s - loss: 2.5801e-05 - mse: 5.1603e-05\n",
            "Epoch 16: val_loss did not improve from 0.00026\n",
            "149/149 [==============================] - 2s 10ms/step - loss: 2.7545e-05 - mse: 5.5090e-05 - val_loss: 4.1131e-04 - val_mse: 8.2263e-04\n",
            "Epoch 17/50\n",
            "144/149 [===========================>..] - ETA: 0s - loss: 2.8283e-05 - mse: 5.6566e-05\n",
            "Epoch 17: val_loss did not improve from 0.00026\n",
            "149/149 [==============================] - 2s 10ms/step - loss: 2.8963e-05 - mse: 5.7925e-05 - val_loss: 3.1548e-04 - val_mse: 6.3096e-04\n",
            "Epoch 18/50\n",
            "143/149 [===========================>..] - ETA: 0s - loss: 2.5694e-05 - mse: 5.1389e-05\n",
            "Epoch 18: val_loss did not improve from 0.00026\n",
            "149/149 [==============================] - 3s 17ms/step - loss: 2.7122e-05 - mse: 5.4245e-05 - val_loss: 3.8964e-04 - val_mse: 7.7927e-04\n",
            "Epoch 19/50\n",
            "146/149 [============================>.] - ETA: 0s - loss: 2.4417e-05 - mse: 4.8834e-05\n",
            "Epoch 19: val_loss did not improve from 0.00026\n",
            "149/149 [==============================] - 2s 10ms/step - loss: 2.5248e-05 - mse: 5.0497e-05 - val_loss: 6.2822e-04 - val_mse: 0.0013\n",
            "Epoch 20/50\n",
            "142/149 [===========================>..] - ETA: 0s - loss: 2.3918e-05 - mse: 4.7837e-05\n",
            "Epoch 20: val_loss did not improve from 0.00026\n",
            "149/149 [==============================] - 2s 10ms/step - loss: 2.5341e-05 - mse: 5.0682e-05 - val_loss: 2.9830e-04 - val_mse: 5.9659e-04\n",
            "Epoch 21/50\n",
            "141/149 [===========================>..] - ETA: 0s - loss: 2.4187e-05 - mse: 4.8375e-05\n",
            "Epoch 21: val_loss improved from 0.00026 to 0.00021, saving model to tmp/ckeckpointer.ckpt\n",
            "149/149 [==============================] - 2s 10ms/step - loss: 2.5901e-05 - mse: 5.1801e-05 - val_loss: 2.1031e-04 - val_mse: 4.2063e-04\n",
            "Epoch 22/50\n",
            "145/149 [============================>.] - ETA: 0s - loss: 2.3019e-05 - mse: 4.6038e-05\n",
            "Epoch 22: val_loss did not improve from 0.00021\n",
            "149/149 [==============================] - 2s 13ms/step - loss: 2.3986e-05 - mse: 4.7973e-05 - val_loss: 2.8118e-04 - val_mse: 5.6236e-04\n",
            "Epoch 23/50\n",
            "145/149 [============================>.] - ETA: 0s - loss: 2.2791e-05 - mse: 4.5581e-05\n",
            "Epoch 23: val_loss did not improve from 0.00021\n",
            "149/149 [==============================] - 2s 10ms/step - loss: 2.3433e-05 - mse: 4.6866e-05 - val_loss: 3.7209e-04 - val_mse: 7.4417e-04\n",
            "Epoch 24/50\n",
            "142/149 [===========================>..] - ETA: 0s - loss: 2.2571e-05 - mse: 4.5142e-05\n",
            "Epoch 24: val_loss did not improve from 0.00021\n",
            "149/149 [==============================] - 2s 10ms/step - loss: 2.5282e-05 - mse: 5.0565e-05 - val_loss: 3.2726e-04 - val_mse: 6.5451e-04\n",
            "Epoch 25/50\n",
            "143/149 [===========================>..] - ETA: 0s - loss: 2.5497e-05 - mse: 5.0995e-05\n",
            "Epoch 25: val_loss did not improve from 0.00021\n",
            "149/149 [==============================] - 2s 10ms/step - loss: 2.7562e-05 - mse: 5.5125e-05 - val_loss: 2.6656e-04 - val_mse: 5.3312e-04\n",
            "Epoch 26/50\n",
            "143/149 [===========================>..] - ETA: 0s - loss: 2.2282e-05 - mse: 4.4564e-05\n",
            "Epoch 26: val_loss did not improve from 0.00021\n",
            "149/149 [==============================] - 2s 10ms/step - loss: 2.3375e-05 - mse: 4.6749e-05 - val_loss: 2.2391e-04 - val_mse: 4.4781e-04\n",
            "Epoch 27/50\n",
            "149/149 [==============================] - ETA: 0s - loss: 2.1673e-05 - mse: 4.3345e-05\n",
            "Epoch 27: val_loss improved from 0.00021 to 0.00019, saving model to tmp/ckeckpointer.ckpt\n",
            "149/149 [==============================] - 2s 11ms/step - loss: 2.1673e-05 - mse: 4.3345e-05 - val_loss: 1.8799e-04 - val_mse: 3.7598e-04\n",
            "Epoch 28/50\n",
            "145/149 [============================>.] - ETA: 0s - loss: 2.1942e-05 - mse: 4.3884e-05\n",
            "Epoch 28: val_loss did not improve from 0.00019\n",
            "149/149 [==============================] - 3s 17ms/step - loss: 2.2827e-05 - mse: 4.5654e-05 - val_loss: 3.2063e-04 - val_mse: 6.4127e-04\n",
            "Epoch 29/50\n",
            "142/149 [===========================>..] - ETA: 0s - loss: 2.0362e-05 - mse: 4.0725e-05\n",
            "Epoch 29: val_loss improved from 0.00019 to 0.00018, saving model to tmp/ckeckpointer.ckpt\n",
            "149/149 [==============================] - 2s 10ms/step - loss: 2.1351e-05 - mse: 4.2701e-05 - val_loss: 1.8278e-04 - val_mse: 3.6557e-04\n",
            "Epoch 30/50\n",
            "148/149 [============================>.] - ETA: 0s - loss: 1.9355e-05 - mse: 3.8710e-05\n",
            "Epoch 30: val_loss improved from 0.00018 to 0.00017, saving model to tmp/ckeckpointer.ckpt\n",
            "149/149 [==============================] - 2s 11ms/step - loss: 1.9679e-05 - mse: 3.9357e-05 - val_loss: 1.6924e-04 - val_mse: 3.3848e-04\n",
            "Epoch 31/50\n",
            "144/149 [===========================>..] - ETA: 0s - loss: 1.8074e-05 - mse: 3.6148e-05\n",
            "Epoch 31: val_loss improved from 0.00017 to 0.00017, saving model to tmp/ckeckpointer.ckpt\n",
            "149/149 [==============================] - 2s 10ms/step - loss: 1.8959e-05 - mse: 3.7918e-05 - val_loss: 1.6783e-04 - val_mse: 3.3565e-04\n",
            "Epoch 32/50\n",
            "144/149 [===========================>..] - ETA: 0s - loss: 1.8420e-05 - mse: 3.6841e-05\n",
            "Epoch 32: val_loss did not improve from 0.00017\n",
            "149/149 [==============================] - 2s 14ms/step - loss: 1.9173e-05 - mse: 3.8347e-05 - val_loss: 2.1328e-04 - val_mse: 4.2657e-04\n",
            "Epoch 33/50\n",
            "141/149 [===========================>..] - ETA: 0s - loss: 1.7840e-05 - mse: 3.5680e-05\n",
            "Epoch 33: val_loss did not improve from 0.00017\n",
            "149/149 [==============================] - 2s 11ms/step - loss: 1.9375e-05 - mse: 3.8751e-05 - val_loss: 1.7044e-04 - val_mse: 3.4088e-04\n",
            "Epoch 34/50\n",
            "141/149 [===========================>..] - ETA: 0s - loss: 2.0410e-05 - mse: 4.0819e-05\n",
            "Epoch 34: val_loss did not improve from 0.00017\n",
            "149/149 [==============================] - 2s 11ms/step - loss: 2.2642e-05 - mse: 4.5285e-05 - val_loss: 1.7190e-04 - val_mse: 3.4380e-04\n",
            "Epoch 35/50\n",
            "146/149 [============================>.] - ETA: 0s - loss: 1.7414e-05 - mse: 3.4828e-05\n",
            "Epoch 35: val_loss improved from 0.00017 to 0.00015, saving model to tmp/ckeckpointer.ckpt\n",
            "149/149 [==============================] - 2s 11ms/step - loss: 1.8053e-05 - mse: 3.6105e-05 - val_loss: 1.5488e-04 - val_mse: 3.0976e-04\n",
            "Epoch 36/50\n",
            "146/149 [============================>.] - ETA: 0s - loss: 1.7154e-05 - mse: 3.4309e-05\n",
            "Epoch 36: val_loss did not improve from 0.00015\n",
            "149/149 [==============================] - 2s 13ms/step - loss: 1.7380e-05 - mse: 3.4760e-05 - val_loss: 1.6981e-04 - val_mse: 3.3963e-04\n",
            "Epoch 37/50\n",
            "144/149 [===========================>..] - ETA: 0s - loss: 1.7138e-05 - mse: 3.4275e-05\n",
            "Epoch 37: val_loss did not improve from 0.00015\n",
            "149/149 [==============================] - 2s 10ms/step - loss: 1.7798e-05 - mse: 3.5595e-05 - val_loss: 1.9980e-04 - val_mse: 3.9960e-04\n",
            "Epoch 38/50\n",
            "141/149 [===========================>..] - ETA: 0s - loss: 1.6644e-05 - mse: 3.3288e-05\n",
            "Epoch 38: val_loss did not improve from 0.00015\n",
            "149/149 [==============================] - 2s 11ms/step - loss: 1.7905e-05 - mse: 3.5810e-05 - val_loss: 1.7647e-04 - val_mse: 3.5293e-04\n",
            "Epoch 39/50\n",
            "143/149 [===========================>..] - ETA: 0s - loss: 1.5594e-05 - mse: 3.1189e-05\n",
            "Epoch 39: val_loss did not improve from 0.00015\n",
            "149/149 [==============================] - 2s 11ms/step - loss: 1.6312e-05 - mse: 3.2625e-05 - val_loss: 1.7127e-04 - val_mse: 3.4255e-04\n",
            "Epoch 40/50\n",
            "146/149 [============================>.] - ETA: 0s - loss: 1.6008e-05 - mse: 3.2017e-05\n",
            "Epoch 40: val_loss did not improve from 0.00015\n",
            "149/149 [==============================] - 2s 10ms/step - loss: 1.6387e-05 - mse: 3.2773e-05 - val_loss: 2.0883e-04 - val_mse: 4.1767e-04\n",
            "Epoch 41/50\n",
            "148/149 [============================>.] - ETA: 0s - loss: 1.4809e-05 - mse: 2.9619e-05\n",
            "Epoch 41: val_loss did not improve from 0.00015\n",
            "149/149 [==============================] - 2s 10ms/step - loss: 1.5019e-05 - mse: 3.0038e-05 - val_loss: 1.9129e-04 - val_mse: 3.8259e-04\n",
            "Epoch 42/50\n",
            "143/149 [===========================>..] - ETA: 0s - loss: 1.4881e-05 - mse: 2.9762e-05\n",
            "Epoch 42: val_loss did not improve from 0.00015\n",
            "149/149 [==============================] - 2s 11ms/step - loss: 1.5490e-05 - mse: 3.0980e-05 - val_loss: 1.8149e-04 - val_mse: 3.6298e-04\n",
            "Epoch 43/50\n",
            "146/149 [============================>.] - ETA: 0s - loss: 1.5773e-05 - mse: 3.1545e-05\n",
            "Epoch 43: val_loss did not improve from 0.00015\n",
            "149/149 [==============================] - 2s 15ms/step - loss: 1.6042e-05 - mse: 3.2083e-05 - val_loss: 2.9946e-04 - val_mse: 5.9893e-04\n",
            "Epoch 44/50\n",
            "147/149 [============================>.] - ETA: 0s - loss: 1.4910e-05 - mse: 2.9819e-05\n",
            "Epoch 44: val_loss did not improve from 0.00015\n",
            "149/149 [==============================] - 2s 10ms/step - loss: 1.5170e-05 - mse: 3.0340e-05 - val_loss: 1.9462e-04 - val_mse: 3.8924e-04\n",
            "Epoch 45/50\n",
            "145/149 [============================>.] - ETA: 0s - loss: 1.4913e-05 - mse: 2.9826e-05\n",
            "Epoch 45: val_loss improved from 0.00015 to 0.00015, saving model to tmp/ckeckpointer.ckpt\n",
            "149/149 [==============================] - 2s 10ms/step - loss: 1.5307e-05 - mse: 3.0614e-05 - val_loss: 1.4972e-04 - val_mse: 2.9945e-04\n",
            "Epoch 46/50\n",
            "142/149 [===========================>..] - ETA: 0s - loss: 1.5585e-05 - mse: 3.1169e-05\n",
            "Epoch 46: val_loss improved from 0.00015 to 0.00015, saving model to tmp/ckeckpointer.ckpt\n",
            "149/149 [==============================] - 2s 11ms/step - loss: 1.6643e-05 - mse: 3.3287e-05 - val_loss: 1.4522e-04 - val_mse: 2.9045e-04\n",
            "Epoch 47/50\n",
            "147/149 [============================>.] - ETA: 0s - loss: 1.5590e-05 - mse: 3.1180e-05\n",
            "Epoch 47: val_loss did not improve from 0.00015\n",
            "149/149 [==============================] - 2s 12ms/step - loss: 1.5918e-05 - mse: 3.1835e-05 - val_loss: 2.9284e-04 - val_mse: 5.8569e-04\n",
            "Epoch 48/50\n",
            "144/149 [===========================>..] - ETA: 0s - loss: 1.4783e-05 - mse: 2.9566e-05\n",
            "Epoch 48: val_loss did not improve from 0.00015\n",
            "149/149 [==============================] - 2s 14ms/step - loss: 1.5263e-05 - mse: 3.0527e-05 - val_loss: 2.3417e-04 - val_mse: 4.6833e-04\n",
            "Epoch 49/50\n",
            "142/149 [===========================>..] - ETA: 0s - loss: 1.3428e-05 - mse: 2.6856e-05\n",
            "Epoch 49: val_loss did not improve from 0.00015\n",
            "149/149 [==============================] - 2s 12ms/step - loss: 1.4283e-05 - mse: 2.8567e-05 - val_loss: 1.9727e-04 - val_mse: 3.9454e-04\n",
            "Epoch 50/50\n",
            "145/149 [============================>.] - ETA: 0s - loss: 1.3898e-05 - mse: 2.7797e-05\n",
            "Epoch 50: val_loss did not improve from 0.00015\n",
            "149/149 [==============================] - 2s 10ms/step - loss: 1.4445e-05 - mse: 2.8889e-05 - val_loss: 1.6403e-04 - val_mse: 3.2805e-04\n"
          ]
        }
      ],
      "source": [
        "history = model.fit(train_data,\n",
        "                    validation_data=(test_data),\n",
        "                    epochs=50,\n",
        "                    callbacks=[checkpoint, earlystopping])"
      ]
    },
    {
      "cell_type": "markdown",
      "metadata": {
        "id": "M0QG_VhxYjL2"
      },
      "source": [
        "저장한 ModelCheckpoint 를 로드합니다."
      ]
    },
    {
      "cell_type": "code",
      "execution_count": 81,
      "metadata": {
        "colab": {
          "base_uri": "https://localhost:8080/"
        },
        "id": "RoPIDRSo32f-",
        "outputId": "8bb72661-fe11-4b0e-d012-35eade1c9716"
      },
      "outputs": [
        {
          "output_type": "execute_result",
          "data": {
            "text/plain": [
              "<tensorflow.python.checkpoint.checkpoint.CheckpointLoadStatus at 0x7c785c1bcfa0>"
            ]
          },
          "metadata": {},
          "execution_count": 81
        }
      ],
      "source": [
        "model.load_weights(filename)"
      ]
    },
    {
      "cell_type": "markdown",
      "metadata": {
        "id": "sZs7ICqgYjL3"
      },
      "source": [
        "`test_data`를 활용하여 예측을 진행합니다."
      ]
    },
    {
      "cell_type": "code",
      "execution_count": 82,
      "metadata": {
        "colab": {
          "base_uri": "https://localhost:8080/"
        },
        "id": "WxAxSLNL0l8Z",
        "outputId": "a4d57088-c553-452f-87ec-d4f5c868a330"
      },
      "outputs": [
        {
          "output_type": "stream",
          "name": "stdout",
          "text": [
            "37/37 [==============================] - 0s 6ms/step\n"
          ]
        }
      ],
      "source": [
        "pred = model.predict(test_data)"
      ]
    },
    {
      "cell_type": "code",
      "execution_count": 83,
      "metadata": {
        "colab": {
          "base_uri": "https://localhost:8080/"
        },
        "id": "yMPXjSQ10l8d",
        "outputId": "d4cae94c-162f-4806-9a86-b6eaed56ea8c"
      },
      "outputs": [
        {
          "output_type": "execute_result",
          "data": {
            "text/plain": [
              "(1165, 1)"
            ]
          },
          "metadata": {},
          "execution_count": 83
        }
      ],
      "source": [
        "pred.shape"
      ]
    },
    {
      "cell_type": "markdown",
      "metadata": {
        "id": "jaWpXnQf6zMt"
      },
      "source": [
        "## 예측 데이터 시각화"
      ]
    },
    {
      "cell_type": "markdown",
      "metadata": {
        "id": "wivS8kAzYjL5"
      },
      "source": [
        "아래 시각화 코드중 y_test 데이터에 **[20:]**으로 슬라이싱을 한 이유는\n",
        "\n",
        "예측 데이터에서 20일치의 데이터로 21일치를 예측해야하기 때문에 test_data로 예측 시 *앞의 20일은 예측하지 않습니다.*\n",
        "\n",
        "따라서, 20번 째 index와 비교하면 더욱 정확합니다."
      ]
    },
    {
      "cell_type": "code",
      "execution_count": 84,
      "metadata": {
        "colab": {
          "base_uri": "https://localhost:8080/",
          "height": 1000
        },
        "id": "2F4QQ1O_0l8m",
        "outputId": "0a359518-4745-4c00-91b3-57325a40285e"
      },
      "outputs": [
        {
          "output_type": "stream",
          "name": "stderr",
          "text": [
            "WARNING:matplotlib.font_manager:findfont: Font family 'NanumGothic' not found.\n",
            "WARNING:matplotlib.font_manager:findfont: Font family 'NanumGothic' not found.\n",
            "WARNING:matplotlib.font_manager:findfont: Font family 'NanumGothic' not found.\n",
            "WARNING:matplotlib.font_manager:findfont: Font family 'NanumGothic' not found.\n",
            "WARNING:matplotlib.font_manager:findfont: Font family 'NanumGothic' not found.\n",
            "WARNING:matplotlib.font_manager:findfont: Font family 'NanumGothic' not found.\n",
            "WARNING:matplotlib.font_manager:findfont: Font family 'NanumGothic' not found.\n",
            "WARNING:matplotlib.font_manager:findfont: Font family 'NanumGothic' not found.\n",
            "WARNING:matplotlib.font_manager:findfont: Font family 'NanumGothic' not found.\n",
            "WARNING:matplotlib.font_manager:findfont: Font family 'NanumGothic' not found.\n",
            "WARNING:matplotlib.font_manager:findfont: Font family 'NanumGothic' not found.\n",
            "WARNING:matplotlib.font_manager:findfont: Font family 'NanumGothic' not found.\n",
            "WARNING:matplotlib.font_manager:findfont: Font family 'NanumGothic' not found.\n",
            "WARNING:matplotlib.font_manager:findfont: Font family 'NanumGothic' not found.\n",
            "WARNING:matplotlib.font_manager:findfont: Font family 'NanumGothic' not found.\n",
            "WARNING:matplotlib.font_manager:findfont: Font family 'NanumGothic' not found.\n",
            "WARNING:matplotlib.font_manager:findfont: Font family 'NanumGothic' not found.\n",
            "WARNING:matplotlib.font_manager:findfont: Font family 'NanumGothic' not found.\n",
            "WARNING:matplotlib.font_manager:findfont: Font family 'NanumGothic' not found.\n",
            "WARNING:matplotlib.font_manager:findfont: Font family 'NanumGothic' not found.\n",
            "WARNING:matplotlib.font_manager:findfont: Font family 'NanumGothic' not found.\n",
            "WARNING:matplotlib.font_manager:findfont: Font family 'NanumGothic' not found.\n",
            "WARNING:matplotlib.font_manager:findfont: Font family 'NanumGothic' not found.\n",
            "WARNING:matplotlib.font_manager:findfont: Font family 'NanumGothic' not found.\n",
            "WARNING:matplotlib.font_manager:findfont: Font family 'NanumGothic' not found.\n",
            "WARNING:matplotlib.font_manager:findfont: Font family 'NanumGothic' not found.\n",
            "WARNING:matplotlib.font_manager:findfont: Font family 'NanumGothic' not found.\n",
            "WARNING:matplotlib.font_manager:findfont: Font family 'NanumGothic' not found.\n",
            "WARNING:matplotlib.font_manager:findfont: Font family 'NanumGothic' not found.\n",
            "WARNING:matplotlib.font_manager:findfont: Font family 'NanumGothic' not found.\n",
            "WARNING:matplotlib.font_manager:findfont: Font family 'NanumGothic' not found.\n",
            "WARNING:matplotlib.font_manager:findfont: Font family 'NanumGothic' not found.\n",
            "WARNING:matplotlib.font_manager:findfont: Font family 'NanumGothic' not found.\n",
            "WARNING:matplotlib.font_manager:findfont: Font family 'NanumGothic' not found.\n",
            "WARNING:matplotlib.font_manager:findfont: Font family 'NanumGothic' not found.\n",
            "WARNING:matplotlib.font_manager:findfont: Font family 'NanumGothic' not found.\n",
            "WARNING:matplotlib.font_manager:findfont: Font family 'NanumGothic' not found.\n",
            "WARNING:matplotlib.font_manager:findfont: Font family 'NanumGothic' not found.\n",
            "WARNING:matplotlib.font_manager:findfont: Font family 'NanumGothic' not found.\n",
            "WARNING:matplotlib.font_manager:findfont: Font family 'NanumGothic' not found.\n",
            "WARNING:matplotlib.font_manager:findfont: Font family 'NanumGothic' not found.\n",
            "WARNING:matplotlib.font_manager:findfont: Font family 'NanumGothic' not found.\n",
            "WARNING:matplotlib.font_manager:findfont: Font family 'NanumGothic' not found.\n",
            "WARNING:matplotlib.font_manager:findfont: Font family 'NanumGothic' not found.\n",
            "WARNING:matplotlib.font_manager:findfont: Font family 'NanumGothic' not found.\n",
            "WARNING:matplotlib.font_manager:findfont: Font family 'NanumGothic' not found.\n",
            "WARNING:matplotlib.font_manager:findfont: Font family 'NanumGothic' not found.\n",
            "WARNING:matplotlib.font_manager:findfont: Font family 'NanumGothic' not found.\n",
            "WARNING:matplotlib.font_manager:findfont: Font family 'NanumGothic' not found.\n",
            "WARNING:matplotlib.font_manager:findfont: Font family 'NanumGothic' not found.\n",
            "WARNING:matplotlib.font_manager:findfont: Font family 'NanumGothic' not found.\n",
            "WARNING:matplotlib.font_manager:findfont: Font family 'NanumGothic' not found.\n",
            "WARNING:matplotlib.font_manager:findfont: Font family 'NanumGothic' not found.\n",
            "WARNING:matplotlib.font_manager:findfont: Font family 'NanumGothic' not found.\n",
            "WARNING:matplotlib.font_manager:findfont: Font family 'NanumGothic' not found.\n",
            "WARNING:matplotlib.font_manager:findfont: Font family 'NanumGothic' not found.\n",
            "WARNING:matplotlib.font_manager:findfont: Font family 'NanumGothic' not found.\n",
            "WARNING:matplotlib.font_manager:findfont: Font family 'NanumGothic' not found.\n",
            "WARNING:matplotlib.font_manager:findfont: Font family 'NanumGothic' not found.\n",
            "WARNING:matplotlib.font_manager:findfont: Font family 'NanumGothic' not found.\n",
            "WARNING:matplotlib.font_manager:findfont: Font family 'NanumGothic' not found.\n",
            "WARNING:matplotlib.font_manager:findfont: Font family 'NanumGothic' not found.\n",
            "WARNING:matplotlib.font_manager:findfont: Font family 'NanumGothic' not found.\n",
            "WARNING:matplotlib.font_manager:findfont: Font family 'NanumGothic' not found.\n",
            "WARNING:matplotlib.font_manager:findfont: Font family 'NanumGothic' not found.\n",
            "WARNING:matplotlib.font_manager:findfont: Font family 'NanumGothic' not found.\n",
            "WARNING:matplotlib.font_manager:findfont: Font family 'NanumGothic' not found.\n",
            "WARNING:matplotlib.font_manager:findfont: Font family 'NanumGothic' not found.\n",
            "WARNING:matplotlib.font_manager:findfont: Font family 'NanumGothic' not found.\n",
            "WARNING:matplotlib.font_manager:findfont: Font family 'NanumGothic' not found.\n",
            "WARNING:matplotlib.font_manager:findfont: Font family 'NanumGothic' not found.\n",
            "WARNING:matplotlib.font_manager:findfont: Font family 'NanumGothic' not found.\n",
            "WARNING:matplotlib.font_manager:findfont: Font family 'NanumGothic' not found.\n",
            "WARNING:matplotlib.font_manager:findfont: Font family 'NanumGothic' not found.\n",
            "WARNING:matplotlib.font_manager:findfont: Font family 'NanumGothic' not found.\n",
            "WARNING:matplotlib.font_manager:findfont: Font family 'NanumGothic' not found.\n"
          ]
        },
        {
          "output_type": "display_data",
          "data": {
            "text/plain": [
              "<Figure size 1200x900 with 1 Axes>"
            ],
            "image/png": "[encoded data removed]"
          },
          "metadata": {}
        }
      ],
      "source": [
        "plt.figure(figsize=(12, 9))\n",
        "plt.plot(np.asarray(y_test)[35:], label='actual')\n",
        "plt.plot(pred, label='prediction')\n",
        "plt.legend()\n",
        "plt.show()"
      ]
    },
    {
      "cell_type": "code",
      "source": [
        "# 2023년 1월 1일을 예측하기 위한 마지막 35일의 데이터를 가져옵니다.\n",
        "last_35_days = fdr.DataReader(STOCK_CODE, '1999-04-27', '2022-12-31')\n",
        "\n",
        "# 스케일링을 적용합니다.\n",
        "scaled_last_35_days = scaler.transform(last_35_days[scale_cols])\n",
        "\n",
        "# 데이터프레임으로 만듭니다.\n",
        "df_last_35_days = pd.DataFrame(scaled_last_35_days, columns=scale_cols)\n",
        "\n",
        "# 종가를 제외한 데이터를 만듭니다.\n",
        "data_for_prediction = df_last_35_days.drop('Close', axis=1)\n",
        "\n",
        "def windowed_inputs(series, window_size):\n",
        "    series = np.array(series).reshape(-1, 1)\n",
        "    ds = tf.data.Dataset.from_tensor_slices(series)\n",
        "    ds = ds.window(window_size, shift=1, drop_remainder=True)\n",
        "    ds = ds.flat_map(lambda w: w.batch(window_size))\n",
        "    ds = ds.batch(1)\n",
        "    return ds\n",
        "\n",
        "def predict_future(data, window_size, model):\n",
        "    future_pred_dataset = windowed_inputs(data, window_size)\n",
        "    future_pred = model.predict(future_pred_dataset)\n",
        "    return future_pred[-1][0]\n",
        "\n",
        "last_35_days_scaled_close = df_last_35_days['Close']\n",
        "\n",
        "# 2023년 1월 1일 종가 예측\n",
        "predicted_close = predict_future(last_35_days_scaled_close, WINDOW_SIZE, model)\n",
        "\n",
        "unscaled_prediction = scaler.inverse_transform(np.array([[0, 0, 0, predicted_close, 0, 0]]))\n",
        "predicted_close_price = unscaled_prediction[0][3]\n",
        "\n",
        "print(f\"2023년 1월 1일의 종가 예측: {predicted_close_price:.2f}\")"
      ],
      "metadata": {
        "id": "RaTlxggDhGBk",
        "outputId": "fbed5037-58c3-459e-ab34-bc2cb1f808d1",
        "colab": {
          "base_uri": "https://localhost:8080/",
          "height": 434
        }
      },
      "execution_count": 104,
      "outputs": [
        {
          "output_type": "stream",
          "name": "stdout",
          "text": [
            "   2974/Unknown - 8s 3ms/step"
          ]
        },
        {
          "output_type": "error",
          "ename": "KeyboardInterrupt",
          "evalue": "ignored",
          "traceback": [
            "\u001b[0;31m---------------------------------------------------------------------------\u001b[0m",
            "\u001b[0;31mKeyboardInterrupt\u001b[0m                         Traceback (most recent call last)",
            "\u001b[0;32m<ipython-input-104-596c9c853775>\u001b[0m in \u001b[0;36m<cell line: 29>\u001b[0;34m()\u001b[0m\n\u001b[1;32m     27\u001b[0m \u001b[0;34m\u001b[0m\u001b[0m\n\u001b[1;32m     28\u001b[0m \u001b[0;31m# 2023년 1월 1일 종가 예측\u001b[0m\u001b[0;34m\u001b[0m\u001b[0;34m\u001b[0m\u001b[0m\n\u001b[0;32m---> 29\u001b[0;31m \u001b[0mpredicted_close\u001b[0m \u001b[0;34m=\u001b[0m \u001b[0mpredict_future\u001b[0m\u001b[0;34m(\u001b[0m\u001b[0mlast_35_days_scaled_close\u001b[0m\u001b[0;34m,\u001b[0m \u001b[0mWINDOW_SIZE\u001b[0m\u001b[0;34m,\u001b[0m \u001b[0mmodel\u001b[0m\u001b[0;34m)\u001b[0m\u001b[0;34m\u001b[0m\u001b[0;34m\u001b[0m\u001b[0m\n\u001b[0m\u001b[1;32m     30\u001b[0m \u001b[0;34m\u001b[0m\u001b[0m\n\u001b[1;32m     31\u001b[0m \u001b[0munscaled_prediction\u001b[0m \u001b[0;34m=\u001b[0m \u001b[0mscaler\u001b[0m\u001b[0;34m.\u001b[0m\u001b[0minverse_transform\u001b[0m\u001b[0;34m(\u001b[0m\u001b[0mnp\u001b[0m\u001b[0;34m.\u001b[0m\u001b[0marray\u001b[0m\u001b[0;34m(\u001b[0m\u001b[0;34m[\u001b[0m\u001b[0;34m[\u001b[0m\u001b[0;36m0\u001b[0m\u001b[0;34m,\u001b[0m \u001b[0;36m0\u001b[0m\u001b[0;34m,\u001b[0m \u001b[0;36m0\u001b[0m\u001b[0;34m,\u001b[0m \u001b[0mpredicted_close\u001b[0m\u001b[0;34m,\u001b[0m \u001b[0;36m0\u001b[0m\u001b[0;34m,\u001b[0m \u001b[0;36m0\u001b[0m\u001b[0;34m]\u001b[0m\u001b[0;34m]\u001b[0m\u001b[0;34m)\u001b[0m\u001b[0;34m)\u001b[0m\u001b[0;34m\u001b[0m\u001b[0;34m\u001b[0m\u001b[0m\n",
            "\u001b[0;32m<ipython-input-104-596c9c853775>\u001b[0m in \u001b[0;36mpredict_future\u001b[0;34m(data, window_size, model)\u001b[0m\n\u001b[1;32m     21\u001b[0m \u001b[0;32mdef\u001b[0m \u001b[0mpredict_future\u001b[0m\u001b[0;34m(\u001b[0m\u001b[0mdata\u001b[0m\u001b[0;34m,\u001b[0m \u001b[0mwindow_size\u001b[0m\u001b[0;34m,\u001b[0m \u001b[0mmodel\u001b[0m\u001b[0;34m)\u001b[0m\u001b[0;34m:\u001b[0m\u001b[0;34m\u001b[0m\u001b[0;34m\u001b[0m\u001b[0m\n\u001b[1;32m     22\u001b[0m     \u001b[0mfuture_pred_dataset\u001b[0m \u001b[0;34m=\u001b[0m \u001b[0mwindowed_inputs\u001b[0m\u001b[0;34m(\u001b[0m\u001b[0mdata\u001b[0m\u001b[0;34m,\u001b[0m \u001b[0mwindow_size\u001b[0m\u001b[0;34m)\u001b[0m\u001b[0;34m\u001b[0m\u001b[0;34m\u001b[0m\u001b[0m\n\u001b[0;32m---> 23\u001b[0;31m     \u001b[0mfuture_pred\u001b[0m \u001b[0;34m=\u001b[0m \u001b[0mmodel\u001b[0m\u001b[0;34m.\u001b[0m\u001b[0mpredict\u001b[0m\u001b[0;34m(\u001b[0m\u001b[0mfuture_pred_dataset\u001b[0m\u001b[0;34m)\u001b[0m\u001b[0;34m\u001b[0m\u001b[0;34m\u001b[0m\u001b[0m\n\u001b[0m\u001b[1;32m     24\u001b[0m     \u001b[0;32mreturn\u001b[0m \u001b[0mfuture_pred\u001b[0m\u001b[0;34m[\u001b[0m\u001b[0;34m-\u001b[0m\u001b[0;36m1\u001b[0m\u001b[0;34m]\u001b[0m\u001b[0;34m[\u001b[0m\u001b[0;36m0\u001b[0m\u001b[0;34m]\u001b[0m\u001b[0;34m\u001b[0m\u001b[0;34m\u001b[0m\u001b[0m\n\u001b[1;32m     25\u001b[0m \u001b[0;34m\u001b[0m\u001b[0m\n",
            "\u001b[0;32m/usr/local/lib/python3.10/dist-packages/keras/utils/traceback_utils.py\u001b[0m in \u001b[0;36merror_handler\u001b[0;34m(*args, **kwargs)\u001b[0m\n\u001b[1;32m     63\u001b[0m         \u001b[0mfiltered_tb\u001b[0m \u001b[0;34m=\u001b[0m \u001b[0;32mNone\u001b[0m\u001b[0;34m\u001b[0m\u001b[0;34m\u001b[0m\u001b[0m\n\u001b[1;32m     64\u001b[0m         \u001b[0;32mtry\u001b[0m\u001b[0;34m:\u001b[0m\u001b[0;34m\u001b[0m\u001b[0;34m\u001b[0m\u001b[0m\n\u001b[0;32m---> 65\u001b[0;31m             \u001b[0;32mreturn\u001b[0m \u001b[0mfn\u001b[0m\u001b[0;34m(\u001b[0m\u001b[0;34m*\u001b[0m\u001b[0margs\u001b[0m\u001b[0;34m,\u001b[0m \u001b[0;34m**\u001b[0m\u001b[0mkwargs\u001b[0m\u001b[0;34m)\u001b[0m\u001b[0;34m\u001b[0m\u001b[0;34m\u001b[0m\u001b[0m\n\u001b[0m\u001b[1;32m     66\u001b[0m         \u001b[0;32mexcept\u001b[0m \u001b[0mException\u001b[0m \u001b[0;32mas\u001b[0m \u001b[0me\u001b[0m\u001b[0;34m:\u001b[0m\u001b[0;34m\u001b[0m\u001b[0;34m\u001b[0m\u001b[0m\n\u001b[1;32m     67\u001b[0m             \u001b[0mfiltered_tb\u001b[0m \u001b[0;34m=\u001b[0m \u001b[0m_process_traceback_frames\u001b[0m\u001b[0;34m(\u001b[0m\u001b[0me\u001b[0m\u001b[0;34m.\u001b[0m\u001b[0m__traceback__\u001b[0m\u001b[0;34m)\u001b[0m\u001b[0;34m\u001b[0m\u001b[0;34m\u001b[0m\u001b[0m\n",
            "\u001b[0;32m/usr/local/lib/python3.10/dist-packages/keras/engine/training.py\u001b[0m in \u001b[0;36mpredict\u001b[0;34m(self, x, batch_size, verbose, steps, callbacks, max_queue_size, workers, use_multiprocessing)\u001b[0m\n\u001b[1;32m   2380\u001b[0m                     \u001b[0;32mfor\u001b[0m \u001b[0mstep\u001b[0m \u001b[0;32min\u001b[0m \u001b[0mdata_handler\u001b[0m\u001b[0;34m.\u001b[0m\u001b[0msteps\u001b[0m\u001b[0;34m(\u001b[0m\u001b[0;34m)\u001b[0m\u001b[0;34m:\u001b[0m\u001b[0;34m\u001b[0m\u001b[0;34m\u001b[0m\u001b[0m\n\u001b[1;32m   2381\u001b[0m                         \u001b[0mcallbacks\u001b[0m\u001b[0;34m.\u001b[0m\u001b[0mon_predict_batch_begin\u001b[0m\u001b[0;34m(\u001b[0m\u001b[0mstep\u001b[0m\u001b[0;34m)\u001b[0m\u001b[0;34m\u001b[0m\u001b[0;34m\u001b[0m\u001b[0m\n\u001b[0;32m-> 2382\u001b[0;31m                         \u001b[0mtmp_batch_outputs\u001b[0m \u001b[0;34m=\u001b[0m \u001b[0mself\u001b[0m\u001b[0;34m.\u001b[0m\u001b[0mpredict_function\u001b[0m\u001b[0;34m(\u001b[0m\u001b[0miterator\u001b[0m\u001b[0;34m)\u001b[0m\u001b[0;34m\u001b[0m\u001b[0;34m\u001b[0m\u001b[0m\n\u001b[0m\u001b[1;32m   2383\u001b[0m                         \u001b[0;32mif\u001b[0m \u001b[0mdata_handler\u001b[0m\u001b[0;34m.\u001b[0m\u001b[0mshould_sync\u001b[0m\u001b[0;34m:\u001b[0m\u001b[0;34m\u001b[0m\u001b[0;34m\u001b[0m\u001b[0m\n\u001b[1;32m   2384\u001b[0m                             \u001b[0mcontext\u001b[0m\u001b[0;34m.\u001b[0m\u001b[0masync_wait\u001b[0m\u001b[0;34m(\u001b[0m\u001b[0;34m)\u001b[0m\u001b[0;34m\u001b[0m\u001b[0;34m\u001b[0m\u001b[0m\n",
            "\u001b[0;32m/usr/local/lib/python3.10/dist-packages/tensorflow/python/util/traceback_utils.py\u001b[0m in \u001b[0;36merror_handler\u001b[0;34m(*args, **kwargs)\u001b[0m\n\u001b[1;32m    148\u001b[0m     \u001b[0mfiltered_tb\u001b[0m \u001b[0;34m=\u001b[0m \u001b[0;32mNone\u001b[0m\u001b[0;34m\u001b[0m\u001b[0;34m\u001b[0m\u001b[0m\n\u001b[1;32m    149\u001b[0m     \u001b[0;32mtry\u001b[0m\u001b[0;34m:\u001b[0m\u001b[0;34m\u001b[0m\u001b[0;34m\u001b[0m\u001b[0m\n\u001b[0;32m--> 150\u001b[0;31m       \u001b[0;32mreturn\u001b[0m \u001b[0mfn\u001b[0m\u001b[0;34m(\u001b[0m\u001b[0;34m*\u001b[0m\u001b[0margs\u001b[0m\u001b[0;34m,\u001b[0m \u001b[0;34m**\u001b[0m\u001b[0mkwargs\u001b[0m\u001b[0;34m)\u001b[0m\u001b[0;34m\u001b[0m\u001b[0;34m\u001b[0m\u001b[0m\n\u001b[0m\u001b[1;32m    151\u001b[0m     \u001b[0;32mexcept\u001b[0m \u001b[0mException\u001b[0m \u001b[0;32mas\u001b[0m \u001b[0me\u001b[0m\u001b[0;34m:\u001b[0m\u001b[0;34m\u001b[0m\u001b[0;34m\u001b[0m\u001b[0m\n\u001b[1;32m    152\u001b[0m       \u001b[0mfiltered_tb\u001b[0m \u001b[0;34m=\u001b[0m \u001b[0m_process_traceback_frames\u001b[0m\u001b[0;34m(\u001b[0m\u001b[0me\u001b[0m\u001b[0;34m.\u001b[0m\u001b[0m__traceback__\u001b[0m\u001b[0;34m)\u001b[0m\u001b[0;34m\u001b[0m\u001b[0;34m\u001b[0m\u001b[0m\n",
            "\u001b[0;32m/usr/local/lib/python3.10/dist-packages/tensorflow/python/eager/polymorphic_function/polymorphic_function.py\u001b[0m in \u001b[0;36m__call__\u001b[0;34m(self, *args, **kwds)\u001b[0m\n\u001b[1;32m    892\u001b[0m \u001b[0;34m\u001b[0m\u001b[0m\n\u001b[1;32m    893\u001b[0m       \u001b[0;32mwith\u001b[0m \u001b[0mOptionalXlaContext\u001b[0m\u001b[0;34m(\u001b[0m\u001b[0mself\u001b[0m\u001b[0;34m.\u001b[0m\u001b[0m_jit_compile\u001b[0m\u001b[0;34m)\u001b[0m\u001b[0;34m:\u001b[0m\u001b[0;34m\u001b[0m\u001b[0;34m\u001b[0m\u001b[0m\n\u001b[0;32m--> 894\u001b[0;31m         \u001b[0mresult\u001b[0m \u001b[0;34m=\u001b[0m \u001b[0mself\u001b[0m\u001b[0;34m.\u001b[0m\u001b[0m_call\u001b[0m\u001b[0;34m(\u001b[0m\u001b[0;34m*\u001b[0m\u001b[0margs\u001b[0m\u001b[0;34m,\u001b[0m \u001b[0;34m**\u001b[0m\u001b[0mkwds\u001b[0m\u001b[0;34m)\u001b[0m\u001b[0;34m\u001b[0m\u001b[0;34m\u001b[0m\u001b[0m\n\u001b[0m\u001b[1;32m    895\u001b[0m \u001b[0;34m\u001b[0m\u001b[0m\n\u001b[1;32m    896\u001b[0m       \u001b[0mnew_tracing_count\u001b[0m \u001b[0;34m=\u001b[0m \u001b[0mself\u001b[0m\u001b[0;34m.\u001b[0m\u001b[0mexperimental_get_tracing_count\u001b[0m\u001b[0;34m(\u001b[0m\u001b[0;34m)\u001b[0m\u001b[0;34m\u001b[0m\u001b[0;34m\u001b[0m\u001b[0m\n",
            "\u001b[0;32m/usr/local/lib/python3.10/dist-packages/tensorflow/python/eager/polymorphic_function/polymorphic_function.py\u001b[0m in \u001b[0;36m_call\u001b[0;34m(self, *args, **kwds)\u001b[0m\n\u001b[1;32m    931\u001b[0m       \u001b[0;31m# In this case we have not created variables on the first call. So we can\u001b[0m\u001b[0;34m\u001b[0m\u001b[0;34m\u001b[0m\u001b[0m\n\u001b[1;32m    932\u001b[0m       \u001b[0;31m# run the first trace but we should fail if variables are created.\u001b[0m\u001b[0;34m\u001b[0m\u001b[0;34m\u001b[0m\u001b[0m\n\u001b[0;32m--> 933\u001b[0;31m       \u001b[0mresults\u001b[0m \u001b[0;34m=\u001b[0m \u001b[0mself\u001b[0m\u001b[0;34m.\u001b[0m\u001b[0m_variable_creation_fn\u001b[0m\u001b[0;34m(\u001b[0m\u001b[0;34m*\u001b[0m\u001b[0margs\u001b[0m\u001b[0;34m,\u001b[0m \u001b[0;34m**\u001b[0m\u001b[0mkwds\u001b[0m\u001b[0;34m)\u001b[0m\u001b[0;34m\u001b[0m\u001b[0;34m\u001b[0m\u001b[0m\n\u001b[0m\u001b[1;32m    934\u001b[0m       \u001b[0;32mif\u001b[0m \u001b[0mself\u001b[0m\u001b[0;34m.\u001b[0m\u001b[0m_created_variables\u001b[0m \u001b[0;32mand\u001b[0m \u001b[0;32mnot\u001b[0m \u001b[0mALLOW_DYNAMIC_VARIABLE_CREATION\u001b[0m\u001b[0;34m:\u001b[0m\u001b[0;34m\u001b[0m\u001b[0;34m\u001b[0m\u001b[0m\n\u001b[1;32m    935\u001b[0m         raise ValueError(\"Creating variables on a non-first call to a function\"\n",
            "\u001b[0;32m/usr/local/lib/python3.10/dist-packages/tensorflow/python/eager/polymorphic_function/tracing_compiler.py\u001b[0m in \u001b[0;36m__call__\u001b[0;34m(self, *args, **kwargs)\u001b[0m\n\u001b[1;32m    141\u001b[0m       (concrete_function,\n\u001b[1;32m    142\u001b[0m        filtered_flat_args) = self._maybe_define_function(args, kwargs)\n\u001b[0;32m--> 143\u001b[0;31m     return concrete_function._call_flat(\n\u001b[0m\u001b[1;32m    144\u001b[0m         filtered_flat_args, captured_inputs=concrete_function.captured_inputs)  # pylint: disable=protected-access\n\u001b[1;32m    145\u001b[0m \u001b[0;34m\u001b[0m\u001b[0m\n",
            "\u001b[0;32m/usr/local/lib/python3.10/dist-packages/tensorflow/python/eager/polymorphic_function/monomorphic_function.py\u001b[0m in \u001b[0;36m_call_flat\u001b[0;34m(self, args, captured_inputs, cancellation_manager)\u001b[0m\n\u001b[1;32m   1755\u001b[0m         and executing_eagerly):\n\u001b[1;32m   1756\u001b[0m       \u001b[0;31m# No tape is watching; skip to running the function.\u001b[0m\u001b[0;34m\u001b[0m\u001b[0;34m\u001b[0m\u001b[0m\n\u001b[0;32m-> 1757\u001b[0;31m       return self._build_call_outputs(self._inference_function.call(\n\u001b[0m\u001b[1;32m   1758\u001b[0m           ctx, args, cancellation_manager=cancellation_manager))\n\u001b[1;32m   1759\u001b[0m     forward_backward = self._select_forward_and_backward_functions(\n",
            "\u001b[0;32m/usr/local/lib/python3.10/dist-packages/tensorflow/python/eager/polymorphic_function/monomorphic_function.py\u001b[0m in \u001b[0;36mcall\u001b[0;34m(self, ctx, args, cancellation_manager)\u001b[0m\n\u001b[1;32m    379\u001b[0m       \u001b[0;32mwith\u001b[0m \u001b[0m_InterpolateFunctionError\u001b[0m\u001b[0;34m(\u001b[0m\u001b[0mself\u001b[0m\u001b[0;34m)\u001b[0m\u001b[0;34m:\u001b[0m\u001b[0;34m\u001b[0m\u001b[0;34m\u001b[0m\u001b[0m\n\u001b[1;32m    380\u001b[0m         \u001b[0;32mif\u001b[0m \u001b[0mcancellation_manager\u001b[0m \u001b[0;32mis\u001b[0m \u001b[0;32mNone\u001b[0m\u001b[0;34m:\u001b[0m\u001b[0;34m\u001b[0m\u001b[0;34m\u001b[0m\u001b[0m\n\u001b[0;32m--> 381\u001b[0;31m           outputs = execute.execute(\n\u001b[0m\u001b[1;32m    382\u001b[0m               \u001b[0mstr\u001b[0m\u001b[0;34m(\u001b[0m\u001b[0mself\u001b[0m\u001b[0;34m.\u001b[0m\u001b[0msignature\u001b[0m\u001b[0;34m.\u001b[0m\u001b[0mname\u001b[0m\u001b[0;34m)\u001b[0m\u001b[0;34m,\u001b[0m\u001b[0;34m\u001b[0m\u001b[0;34m\u001b[0m\u001b[0m\n\u001b[1;32m    383\u001b[0m               \u001b[0mnum_outputs\u001b[0m\u001b[0;34m=\u001b[0m\u001b[0mself\u001b[0m\u001b[0;34m.\u001b[0m\u001b[0m_num_outputs\u001b[0m\u001b[0;34m,\u001b[0m\u001b[0;34m\u001b[0m\u001b[0;34m\u001b[0m\u001b[0m\n",
            "\u001b[0;32m/usr/local/lib/python3.10/dist-packages/tensorflow/python/eager/execute.py\u001b[0m in \u001b[0;36mquick_execute\u001b[0;34m(op_name, num_outputs, inputs, attrs, ctx, name)\u001b[0m\n\u001b[1;32m     50\u001b[0m   \u001b[0;32mtry\u001b[0m\u001b[0;34m:\u001b[0m\u001b[0;34m\u001b[0m\u001b[0;34m\u001b[0m\u001b[0m\n\u001b[1;32m     51\u001b[0m     \u001b[0mctx\u001b[0m\u001b[0;34m.\u001b[0m\u001b[0mensure_initialized\u001b[0m\u001b[0;34m(\u001b[0m\u001b[0;34m)\u001b[0m\u001b[0;34m\u001b[0m\u001b[0;34m\u001b[0m\u001b[0m\n\u001b[0;32m---> 52\u001b[0;31m     tensors = pywrap_tfe.TFE_Py_Execute(ctx._handle, device_name, op_name,\n\u001b[0m\u001b[1;32m     53\u001b[0m                                         inputs, attrs, num_outputs)\n\u001b[1;32m     54\u001b[0m   \u001b[0;32mexcept\u001b[0m \u001b[0mcore\u001b[0m\u001b[0;34m.\u001b[0m\u001b[0m_NotOkStatusException\u001b[0m \u001b[0;32mas\u001b[0m \u001b[0me\u001b[0m\u001b[0;34m:\u001b[0m\u001b[0;34m\u001b[0m\u001b[0;34m\u001b[0m\u001b[0m\n",
            "\u001b[0;31mKeyboardInterrupt\u001b[0m: "
          ]
        }
      ]
    },
    {
      "cell_type": "code",
      "source": [
        "def predict_daily_close(df, start_date, end_date, window_size, model, scaler):\n",
        "    daily_predictions = {}\n",
        "\n",
        "    # 존재하는 날짜만 선택\n",
        "    trading_days = [d for d in pd.date_range(start_date, end_date, closed='right') if d in df.index]\n",
        "\n",
        "    for target_date in trading_days:\n",
        "        last_35_days = df.loc[:target_date - pd.Timedelta(days=1)].tail(window_size)\n",
        "        last_35_days_scaled = scaler.transform(last_35_days)\n",
        "\n",
        "        predicted_close = predict_future(last_35_days_scaled[:, 3], window_size, model)\n",
        "        new_row = np.copy(last_35_days_scaled[-1])\n",
        "        new_row[3] = predicted_close\n",
        "        unscaled_prediction = scaler.inverse_transform(np.array([new_row]))[:, 3][0]\n",
        "\n",
        "        daily_predictions[target_date] = unscaled_prediction\n",
        "\n",
        "    return daily_predictions\n",
        "\n",
        "\n",
        "\n",
        "# 데이터 로드\n",
        "df = fdr.DataReader(STOCK_CODE, '1999-04-27', '2023-08-04')\n",
        "\n",
        "# 예측 실행\n",
        "start_date = '2023-01-01'\n",
        "end_date = '2023-08-04'\n",
        "daily_predictions = predict_daily_close(df, start_date, end_date, WINDOW_SIZE, model, scaler)\n",
        "\n",
        "# 종가 출력\n",
        "print_daily_close_predictions(daily_predictions)"
      ],
      "metadata": {
        "id": "upmY40cfkJQo",
        "outputId": "f4768b07-2af4-4c8e-b5e6-220d2a6d37e5",
        "colab": {
          "base_uri": "https://localhost:8080/"
        }
      },
      "execution_count": 109,
      "outputs": [
        {
          "output_type": "stream",
          "name": "stdout",
          "text": [
            "1/1 [==============================] - 0s 55ms/step\n",
            "1/1 [==============================] - 0s 50ms/step\n",
            "1/1 [==============================] - 0s 50ms/step\n",
            "1/1 [==============================] - 0s 58ms/step\n",
            "1/1 [==============================] - 0s 90ms/step\n",
            "1/1 [==============================] - 0s 87ms/step\n",
            "1/1 [==============================] - 0s 84ms/step\n",
            "1/1 [==============================] - 0s 45ms/step\n",
            "1/1 [==============================] - 0s 44ms/step\n",
            "1/1 [==============================] - 0s 47ms/step\n",
            "1/1 [==============================] - 0s 45ms/step\n",
            "1/1 [==============================] - 0s 45ms/step\n",
            "1/1 [==============================] - 0s 49ms/step\n",
            "1/1 [==============================] - 0s 46ms/step\n",
            "1/1 [==============================] - 0s 43ms/step\n",
            "1/1 [==============================] - 0s 36ms/step\n",
            "1/1 [==============================] - 0s 47ms/step\n",
            "1/1 [==============================] - 0s 49ms/step\n",
            "1/1 [==============================] - 0s 76ms/step\n",
            "1/1 [==============================] - 0s 46ms/step\n",
            "1/1 [==============================] - 0s 45ms/step\n",
            "1/1 [==============================] - 0s 49ms/step\n",
            "1/1 [==============================] - 0s 48ms/step\n",
            "1/1 [==============================] - 0s 47ms/step\n",
            "1/1 [==============================] - 0s 45ms/step\n",
            "1/1 [==============================] - 0s 47ms/step\n",
            "1/1 [==============================] - 0s 47ms/step\n",
            "1/1 [==============================] - 0s 36ms/step\n",
            "1/1 [==============================] - 0s 49ms/step\n",
            "1/1 [==============================] - 0s 63ms/step\n",
            "1/1 [==============================] - 0s 51ms/step\n",
            "1/1 [==============================] - 0s 46ms/step\n",
            "1/1 [==============================] - 0s 46ms/step\n",
            "1/1 [==============================] - 0s 51ms/step\n",
            "1/1 [==============================] - 0s 46ms/step\n",
            "1/1 [==============================] - 0s 55ms/step\n",
            "1/1 [==============================] - 0s 61ms/step\n",
            "1/1 [==============================] - 0s 65ms/step\n",
            "1/1 [==============================] - 0s 68ms/step\n",
            "1/1 [==============================] - 0s 65ms/step\n",
            "1/1 [==============================] - 0s 77ms/step\n",
            "1/1 [==============================] - 0s 65ms/step\n",
            "1/1 [==============================] - 0s 68ms/step\n",
            "1/1 [==============================] - 0s 68ms/step\n",
            "1/1 [==============================] - 0s 51ms/step\n",
            "1/1 [==============================] - 0s 69ms/step\n",
            "1/1 [==============================] - 0s 55ms/step\n",
            "1/1 [==============================] - 0s 48ms/step\n",
            "1/1 [==============================] - 0s 68ms/step\n",
            "1/1 [==============================] - 0s 50ms/step\n",
            "1/1 [==============================] - 0s 69ms/step\n",
            "1/1 [==============================] - 0s 77ms/step\n",
            "1/1 [==============================] - 0s 60ms/step\n",
            "1/1 [==============================] - 0s 47ms/step\n",
            "1/1 [==============================] - 0s 70ms/step\n",
            "1/1 [==============================] - 0s 75ms/step\n",
            "1/1 [==============================] - 0s 72ms/step\n",
            "1/1 [==============================] - 0s 52ms/step\n",
            "1/1 [==============================] - 0s 45ms/step\n",
            "1/1 [==============================] - 0s 47ms/step\n",
            "1/1 [==============================] - 0s 44ms/step\n",
            "1/1 [==============================] - 0s 67ms/step\n",
            "1/1 [==============================] - 0s 49ms/step\n",
            "1/1 [==============================] - 0s 49ms/step\n",
            "1/1 [==============================] - 0s 47ms/step\n",
            "1/1 [==============================] - 0s 50ms/step\n",
            "1/1 [==============================] - 0s 46ms/step\n",
            "1/1 [==============================] - 0s 44ms/step\n",
            "1/1 [==============================] - 0s 44ms/step\n",
            "1/1 [==============================] - 0s 48ms/step\n",
            "1/1 [==============================] - 0s 49ms/step\n",
            "1/1 [==============================] - 0s 46ms/step\n",
            "1/1 [==============================] - 0s 46ms/step\n",
            "1/1 [==============================] - 0s 46ms/step\n",
            "1/1 [==============================] - 0s 52ms/step\n",
            "1/1 [==============================] - 0s 49ms/step\n",
            "1/1 [==============================] - 0s 51ms/step\n",
            "1/1 [==============================] - 0s 52ms/step\n",
            "1/1 [==============================] - 0s 47ms/step\n",
            "1/1 [==============================] - 0s 56ms/step\n",
            "1/1 [==============================] - 0s 47ms/step\n",
            "1/1 [==============================] - 0s 47ms/step\n",
            "1/1 [==============================] - 0s 53ms/step\n",
            "1/1 [==============================] - 0s 45ms/step\n",
            "1/1 [==============================] - 0s 46ms/step\n",
            "1/1 [==============================] - 0s 46ms/step\n",
            "1/1 [==============================] - 0s 46ms/step\n",
            "1/1 [==============================] - 0s 45ms/step\n",
            "1/1 [==============================] - 0s 44ms/step\n",
            "1/1 [==============================] - 0s 47ms/step\n",
            "1/1 [==============================] - 0s 44ms/step\n",
            "1/1 [==============================] - 0s 48ms/step\n",
            "1/1 [==============================] - 0s 48ms/step\n",
            "1/1 [==============================] - 0s 51ms/step\n",
            "1/1 [==============================] - 0s 52ms/step\n",
            "1/1 [==============================] - 0s 48ms/step\n",
            "1/1 [==============================] - 0s 45ms/step\n",
            "1/1 [==============================] - 0s 52ms/step\n",
            "1/1 [==============================] - 0s 46ms/step\n",
            "1/1 [==============================] - 0s 47ms/step\n",
            "1/1 [==============================] - 0s 47ms/step\n",
            "1/1 [==============================] - 0s 48ms/step\n",
            "1/1 [==============================] - 0s 50ms/step\n",
            "1/1 [==============================] - 0s 48ms/step\n",
            "1/1 [==============================] - 0s 45ms/step\n",
            "1/1 [==============================] - 0s 48ms/step\n",
            "1/1 [==============================] - 0s 47ms/step\n",
            "1/1 [==============================] - 0s 45ms/step\n",
            "1/1 [==============================] - 0s 45ms/step\n",
            "1/1 [==============================] - 0s 46ms/step\n",
            "1/1 [==============================] - 0s 46ms/step\n",
            "1/1 [==============================] - 0s 44ms/step\n",
            "1/1 [==============================] - 0s 47ms/step\n",
            "1/1 [==============================] - 0s 45ms/step\n",
            "1/1 [==============================] - 0s 48ms/step\n",
            "1/1 [==============================] - 0s 46ms/step\n",
            "1/1 [==============================] - 0s 50ms/step\n",
            "1/1 [==============================] - 0s 45ms/step\n",
            "1/1 [==============================] - 0s 54ms/step\n",
            "1/1 [==============================] - 0s 47ms/step\n",
            "1/1 [==============================] - 0s 47ms/step\n",
            "1/1 [==============================] - 0s 58ms/step\n",
            "1/1 [==============================] - 0s 48ms/step\n",
            "1/1 [==============================] - 0s 47ms/step\n",
            "1/1 [==============================] - 0s 58ms/step\n",
            "1/1 [==============================] - 0s 47ms/step\n",
            "1/1 [==============================] - 0s 46ms/step\n",
            "1/1 [==============================] - 0s 47ms/step\n",
            "1/1 [==============================] - 0s 47ms/step\n",
            "1/1 [==============================] - 0s 45ms/step\n",
            "1/1 [==============================] - 0s 44ms/step\n",
            "1/1 [==============================] - 0s 51ms/step\n",
            "1/1 [==============================] - 0s 45ms/step\n",
            "1/1 [==============================] - 0s 44ms/step\n",
            "1/1 [==============================] - 0s 46ms/step\n",
            "1/1 [==============================] - 0s 46ms/step\n",
            "1/1 [==============================] - 0s 46ms/step\n",
            "1/1 [==============================] - 0s 44ms/step\n",
            "1/1 [==============================] - 0s 44ms/step\n",
            "1/1 [==============================] - 0s 43ms/step\n",
            "1/1 [==============================] - 0s 47ms/step\n",
            "1/1 [==============================] - 0s 54ms/step\n",
            "1/1 [==============================] - 0s 47ms/step\n",
            "1/1 [==============================] - 0s 45ms/step\n",
            "1/1 [==============================] - 0s 52ms/step\n",
            "1/1 [==============================] - 0s 44ms/step\n",
            "1/1 [==============================] - 0s 46ms/step\n",
            "1/1 [==============================] - 0s 48ms/step\n",
            "2023-01-02: 56553.59326314926\n",
            "2023-01-03: 55840.5335534811\n",
            "2023-01-04: 55598.08099985123\n",
            "2023-01-05: 56713.44371855259\n",
            "2023-01-06: 57658.25382685661\n",
            "2023-01-09: 58525.27754032612\n",
            "2023-01-10: 59482.105598688126\n",
            "2023-01-11: 60195.6980189085\n",
            "2023-01-12: 60575.18503499031\n",
            "2023-01-13: 60568.19054543972\n",
            "2023-01-16: 60730.29436647892\n",
            "2023-01-17: 60983.08150482178\n",
            "2023-01-18: 61125.84260571003\n",
            "2023-01-19: 60898.53501307964\n",
            "2023-01-20: 61139.394762158394\n",
            "2023-01-25: 61476.95745778084\n",
            "2023-01-26: 62262.08757805824\n",
            "2023-01-27: 62910.73725485802\n",
            "2023-01-30: 63568.25656235218\n",
            "2023-01-31: 63703.186818122864\n",
            "2023-02-01: 62528.133882045746\n",
            "2023-02-02: 61837.954090595245\n",
            "2023-02-03: 62322.89116048813\n",
            "2023-02-06: 63121.18455851078\n",
            "2023-02-07: 62892.85948872566\n",
            "2023-02-08: 62347.395845890045\n",
            "2023-02-09: 62438.99009823799\n",
            "2023-02-10: 62865.733867406845\n",
            "2023-02-13: 63086.57968103886\n",
            "2023-02-14: 63021.67955446243\n",
            "2023-02-15: 63114.200723171234\n",
            "2023-02-16: 62788.96494972706\n",
            "2023-02-17: 63153.74915456772\n",
            "2023-02-20: 62920.58707296848\n",
            "2023-02-21: 62948.02699351311\n",
            "2023-02-22: 62446.40542912483\n",
            "2023-02-23: 61819.644828915596\n",
            "2023-02-24: 61741.187218785286\n",
            "2023-02-27: 61541.65515434742\n",
            "2023-02-28: 61194.97778117657\n",
            "2023-03-02: 60804.245245337486\n",
            "2023-03-03: 60750.16447007656\n",
            "2023-03-06: 60742.62661576271\n",
            "2023-03-07: 61138.24943447113\n",
            "2023-03-08: 61064.298555612564\n",
            "2023-03-09: 60835.0252610445\n",
            "2023-03-10: 60395.55503678322\n",
            "2023-03-13: 59963.548087358475\n",
            "2023-03-14: 59944.08284378052\n",
            "2023-03-15: 59561.969564676285\n",
            "2023-03-16: 59701.44916856289\n",
            "2023-03-17: 59801.56146264076\n",
            "2023-03-20: 60650.55292391777\n",
            "2023-03-21: 60682.55817389488\n",
            "2023-03-22: 60643.473200678825\n",
            "2023-03-23: 60728.42455244064\n",
            "2023-03-24: 61456.368194937706\n",
            "2023-03-27: 62114.100586652756\n",
            "2023-03-28: 62412.264009833336\n",
            "2023-03-29: 62657.619835972786\n",
            "2023-03-30: 62635.4058059454\n",
            "2023-03-31: 63002.51795589924\n",
            "2023-04-03: 63368.34094631672\n",
            "2023-04-04: 63440.84817957878\n",
            "2023-04-05: 63552.00356340408\n",
            "2023-04-06: 63601.897233724594\n",
            "2023-04-07: 63152.998032689095\n",
            "2023-04-10: 63821.05435490608\n",
            "2023-04-11: 64266.76261973381\n",
            "2023-04-12: 64860.14890384674\n",
            "2023-04-13: 65287.212299346924\n",
            "2023-04-14: 65618.76069283485\n",
            "2023-04-17: 65480.80464112759\n",
            "2023-04-18: 65361.28037452698\n",
            "2023-04-19: 65351.590369582176\n",
            "2023-04-20: 65454.286309838295\n",
            "2023-04-21: 65447.611446619034\n",
            "2023-04-24: 65497.21745324135\n",
            "2023-04-25: 65371.630940556526\n",
            "2023-04-26: 64620.82336115837\n",
            "2023-04-27: 64166.890045404434\n",
            "2023-04-28: 64157.897891283035\n",
            "2023-05-02: 64703.95284283161\n",
            "2023-05-03: 65063.111624240875\n",
            "2023-05-04: 65294.04164862633\n",
            "2023-05-08: 65224.746659994125\n",
            "2023-05-09: 65375.48776495457\n",
            "2023-05-10: 65309.8791333437\n",
            "2023-05-11: 65074.895181655884\n",
            "2023-05-12: 64536.244906783104\n",
            "2023-05-15: 64209.38969326019\n",
            "2023-05-16: 64293.616558671\n",
            "2023-05-17: 64661.71422314644\n",
            "2023-05-18: 64844.51384913921\n",
            "2023-05-19: 65263.884904265404\n",
            "2023-05-22: 66022.38482403755\n",
            "2023-05-23: 66708.00994026661\n",
            "2023-05-24: 67225.93244755268\n",
            "2023-05-25: 67669.4033280611\n",
            "2023-05-26: 67986.89349007607\n",
            "2023-05-30: 68566.75958037376\n",
            "2023-05-31: 69399.9135569334\n",
            "2023-06-01: 69936.16663432121\n",
            "2023-06-02: 70240.3443596363\n",
            "2023-06-05: 70678.48280751705\n",
            "2023-06-07: 70862.15075170994\n",
            "2023-06-08: 70912.38002967834\n",
            "2023-06-09: 70706.20506465435\n",
            "2023-06-12: 70868.77234387398\n",
            "2023-06-13: 70756.31714630127\n",
            "2023-06-14: 70930.75321662426\n",
            "2023-06-15: 70952.450517416\n",
            "2023-06-16: 71029.01700508595\n",
            "2023-06-19: 71052.03542804718\n",
            "2023-06-20: 70853.88841104507\n",
            "2023-06-21: 70856.89289855957\n",
            "2023-06-22: 70470.26223397255\n",
            "2023-06-23: 70545.48629105091\n",
            "2023-06-26: 70550.2433962822\n",
            "2023-06-27: 70849.3017731905\n",
            "2023-06-28: 71110.38854193687\n",
            "2023-06-29: 71372.3063391447\n",
            "2023-06-30: 71517.56052541733\n",
            "2023-07-03: 71535.88576841354\n",
            "2023-07-04: 71727.2886698246\n",
            "2023-07-05: 71876.91108262539\n",
            "2023-07-06: 71784.77346551418\n",
            "2023-07-07: 71480.86742258072\n",
            "2023-07-10: 70646.52017438412\n",
            "2023-07-11: 69945.89925611019\n",
            "2023-07-12: 70032.32621610165\n",
            "2023-07-13: 70377.39480340481\n",
            "2023-07-14: 70587.6556583643\n",
            "2023-07-17: 71077.41375875473\n",
            "2023-07-18: 71528.73679280281\n",
            "2023-07-19: 71607.72178637981\n",
            "2023-07-20: 71433.0619776249\n",
            "2023-07-21: 70951.50229263306\n",
            "2023-07-24: 70547.27619850636\n",
            "2023-07-25: 70232.90239322186\n",
            "2023-07-26: 69905.03502964973\n",
            "2023-07-27: 69711.36810839176\n",
            "2023-07-28: 70022.04490244389\n",
            "2023-07-31: 70014.05957126617\n",
            "2023-08-01: 69905.0510109663\n",
            "2023-08-02: 69920.80858910084\n",
            "2023-08-03: 69653.12153661251\n",
            "2023-08-04: 69336.72875833511\n"
          ]
        }
      ]
    },
    {
      "cell_type": "code",
      "source": [
        "import matplotlib.pyplot as plt\n",
        "\n",
        "real_df = fdr.DataReader(STOCK_CODE, '2023-01-01', '2023-08-04')\n",
        "real_closes = real_df['Close']\n",
        "\n",
        "\n",
        "def plot_real_vs_predicted(real_closes, predicted_closes):\n",
        "    plt.figure(figsize=(12, 6))\n",
        "    plt.plot(real_closes.index, real_closes.values, label=\"Real\")\n",
        "    plt.plot(pd.to_datetime(list(predicted_closes.keys())), list(predicted_closes.values()), label=\"Predicted\")\n",
        "\n",
        "    plt.xlabel('Date')\n",
        "    plt.ylabel('Close Price')\n",
        "    plt.title('Real vs Predicted Close Prices')\n",
        "    plt.legend()\n",
        "    plt.show()\n",
        "\n",
        "plot_real_vs_predicted(real_closes, daily_predictions)"
      ],
      "metadata": {
        "id": "xRK0cToRnBfA",
        "outputId": "f8743d6b-0cec-452d-bae6-6c9862ea38a8",
        "colab": {
          "base_uri": "https://localhost:8080/",
          "height": 1000
        }
      },
      "execution_count": 108,
      "outputs": [
        {
          "output_type": "stream",
          "name": "stderr",
          "text": [
            "WARNING:matplotlib.font_manager:findfont: Font family 'NanumGothic' not found.\n",
            "WARNING:matplotlib.font_manager:findfont: Font family 'NanumGothic' not found.\n",
            "WARNING:matplotlib.font_manager:findfont: Font family 'NanumGothic' not found.\n",
            "WARNING:matplotlib.font_manager:findfont: Font family 'NanumGothic' not found.\n",
            "WARNING:matplotlib.font_manager:findfont: Font family 'NanumGothic' not found.\n",
            "WARNING:matplotlib.font_manager:findfont: Font family 'NanumGothic' not found.\n",
            "WARNING:matplotlib.font_manager:findfont: Font family 'NanumGothic' not found.\n",
            "WARNING:matplotlib.font_manager:findfont: Font family 'NanumGothic' not found.\n",
            "WARNING:matplotlib.font_manager:findfont: Font family 'NanumGothic' not found.\n",
            "WARNING:matplotlib.font_manager:findfont: Font family 'NanumGothic' not found.\n",
            "WARNING:matplotlib.font_manager:findfont: Font family 'NanumGothic' not found.\n",
            "WARNING:matplotlib.font_manager:findfont: Font family 'NanumGothic' not found.\n",
            "WARNING:matplotlib.font_manager:findfont: Font family 'NanumGothic' not found.\n",
            "WARNING:matplotlib.font_manager:findfont: Font family 'NanumGothic' not found.\n",
            "WARNING:matplotlib.font_manager:findfont: Font family 'NanumGothic' not found.\n",
            "WARNING:matplotlib.font_manager:findfont: Font family 'NanumGothic' not found.\n",
            "WARNING:matplotlib.font_manager:findfont: Font family 'NanumGothic' not found.\n",
            "WARNING:matplotlib.font_manager:findfont: Font family 'NanumGothic' not found.\n",
            "WARNING:matplotlib.font_manager:findfont: Font family 'NanumGothic' not found.\n",
            "WARNING:matplotlib.font_manager:findfont: Font family 'NanumGothic' not found.\n",
            "WARNING:matplotlib.font_manager:findfont: Font family 'NanumGothic' not found.\n",
            "WARNING:matplotlib.font_manager:findfont: Font family 'NanumGothic' not found.\n",
            "WARNING:matplotlib.font_manager:findfont: Font family 'NanumGothic' not found.\n",
            "WARNING:matplotlib.font_manager:findfont: Font family 'NanumGothic' not found.\n",
            "WARNING:matplotlib.font_manager:findfont: Font family 'NanumGothic' not found.\n",
            "WARNING:matplotlib.font_manager:findfont: Font family 'NanumGothic' not found.\n",
            "WARNING:matplotlib.font_manager:findfont: Font family 'NanumGothic' not found.\n",
            "WARNING:matplotlib.font_manager:findfont: Font family 'NanumGothic' not found.\n",
            "WARNING:matplotlib.font_manager:findfont: Font family 'NanumGothic' not found.\n",
            "WARNING:matplotlib.font_manager:findfont: Font family 'NanumGothic' not found.\n",
            "WARNING:matplotlib.font_manager:findfont: Font family 'NanumGothic' not found.\n",
            "WARNING:matplotlib.font_manager:findfont: Font family 'NanumGothic' not found.\n",
            "WARNING:matplotlib.font_manager:findfont: Font family 'NanumGothic' not found.\n",
            "WARNING:matplotlib.font_manager:findfont: Font family 'NanumGothic' not found.\n",
            "WARNING:matplotlib.font_manager:findfont: Font family 'NanumGothic' not found.\n",
            "WARNING:matplotlib.font_manager:findfont: Font family 'NanumGothic' not found.\n",
            "WARNING:matplotlib.font_manager:findfont: Font family 'NanumGothic' not found.\n",
            "WARNING:matplotlib.font_manager:findfont: Font family 'NanumGothic' not found.\n",
            "WARNING:matplotlib.font_manager:findfont: Font family 'NanumGothic' not found.\n",
            "WARNING:matplotlib.font_manager:findfont: Font family 'NanumGothic' not found.\n",
            "WARNING:matplotlib.font_manager:findfont: Font family 'NanumGothic' not found.\n",
            "WARNING:matplotlib.font_manager:findfont: Font family 'NanumGothic' not found.\n",
            "WARNING:matplotlib.font_manager:findfont: Font family 'NanumGothic' not found.\n",
            "WARNING:matplotlib.font_manager:findfont: Font family 'NanumGothic' not found.\n",
            "WARNING:matplotlib.font_manager:findfont: Font family 'NanumGothic' not found.\n",
            "WARNING:matplotlib.font_manager:findfont: Font family 'NanumGothic' not found.\n",
            "WARNING:matplotlib.font_manager:findfont: Font family 'NanumGothic' not found.\n",
            "WARNING:matplotlib.font_manager:findfont: Font family 'NanumGothic' not found.\n",
            "WARNING:matplotlib.font_manager:findfont: Font family 'NanumGothic' not found.\n",
            "WARNING:matplotlib.font_manager:findfont: Font family 'NanumGothic' not found.\n",
            "WARNING:matplotlib.font_manager:findfont: Font family 'NanumGothic' not found.\n",
            "WARNING:matplotlib.font_manager:findfont: Font family 'NanumGothic' not found.\n",
            "WARNING:matplotlib.font_manager:findfont: Font family 'NanumGothic' not found.\n",
            "WARNING:matplotlib.font_manager:findfont: Font family 'NanumGothic' not found.\n",
            "WARNING:matplotlib.font_manager:findfont: Font family 'NanumGothic' not found.\n",
            "WARNING:matplotlib.font_manager:findfont: Font family 'NanumGothic' not found.\n",
            "WARNING:matplotlib.font_manager:findfont: Font family 'NanumGothic' not found.\n",
            "WARNING:matplotlib.font_manager:findfont: Font family 'NanumGothic' not found.\n",
            "WARNING:matplotlib.font_manager:findfont: Font family 'NanumGothic' not found.\n",
            "WARNING:matplotlib.font_manager:findfont: Font family 'NanumGothic' not found.\n",
            "WARNING:matplotlib.font_manager:findfont: Font family 'NanumGothic' not found.\n",
            "WARNING:matplotlib.font_manager:findfont: Font family 'NanumGothic' not found.\n",
            "WARNING:matplotlib.font_manager:findfont: Font family 'NanumGothic' not found.\n",
            "WARNING:matplotlib.font_manager:findfont: Font family 'NanumGothic' not found.\n",
            "WARNING:matplotlib.font_manager:findfont: Font family 'NanumGothic' not found.\n",
            "WARNING:matplotlib.font_manager:findfont: Font family 'NanumGothic' not found.\n",
            "WARNING:matplotlib.font_manager:findfont: Font family 'NanumGothic' not found.\n",
            "WARNING:matplotlib.font_manager:findfont: Font family 'NanumGothic' not found.\n",
            "WARNING:matplotlib.font_manager:findfont: Font family 'NanumGothic' not found.\n",
            "WARNING:matplotlib.font_manager:findfont: Font family 'NanumGothic' not found.\n",
            "WARNING:matplotlib.font_manager:findfont: Font family 'NanumGothic' not found.\n",
            "WARNING:matplotlib.font_manager:findfont: Font family 'NanumGothic' not found.\n",
            "WARNING:matplotlib.font_manager:findfont: Font family 'NanumGothic' not found.\n",
            "WARNING:matplotlib.font_manager:findfont: Font family 'NanumGothic' not found.\n",
            "WARNING:matplotlib.font_manager:findfont: Font family 'NanumGothic' not found.\n",
            "WARNING:matplotlib.font_manager:findfont: Font family 'NanumGothic' not found.\n",
            "WARNING:matplotlib.font_manager:findfont: Font family 'NanumGothic' not found.\n",
            "WARNING:matplotlib.font_manager:findfont: Font family 'NanumGothic' not found.\n",
            "WARNING:matplotlib.font_manager:findfont: Font family 'NanumGothic' not found.\n",
            "WARNING:matplotlib.font_manager:findfont: Font family 'NanumGothic' not found.\n",
            "WARNING:matplotlib.font_manager:findfont: Font family 'NanumGothic' not found.\n",
            "WARNING:matplotlib.font_manager:findfont: Font family 'NanumGothic' not found.\n",
            "WARNING:matplotlib.font_manager:findfont: Font family 'NanumGothic' not found.\n",
            "WARNING:matplotlib.font_manager:findfont: Font family 'NanumGothic' not found.\n",
            "WARNING:matplotlib.font_manager:findfont: Font family 'NanumGothic' not found.\n",
            "WARNING:matplotlib.font_manager:findfont: Font family 'NanumGothic' not found.\n",
            "WARNING:matplotlib.font_manager:findfont: Font family 'NanumGothic' not found.\n",
            "WARNING:matplotlib.font_manager:findfont: Font family 'NanumGothic' not found.\n",
            "WARNING:matplotlib.font_manager:findfont: Font family 'NanumGothic' not found.\n",
            "WARNING:matplotlib.font_manager:findfont: Font family 'NanumGothic' not found.\n",
            "WARNING:matplotlib.font_manager:findfont: Font family 'NanumGothic' not found.\n",
            "WARNING:matplotlib.font_manager:findfont: Font family 'NanumGothic' not found.\n",
            "WARNING:matplotlib.font_manager:findfont: Font family 'NanumGothic' not found.\n"
          ]
        },
        {
          "output_type": "display_data",
          "data": {
            "text/plain": [
              "<Figure size 1200x600 with 1 Axes>"
            ],
            "image/png": "[encoded data removed]"
          },
          "metadata": {}
        }
      ]
    }
  ],
  "metadata": {
    "accelerator": "GPU",
    "colab": {
      "name": "LSTM을 활용한 삼성전자 주가예측.ipynb",
      "provenance": []
    },
    "kernelspec": {
      "display_name": "Python 3",
      "language": "python",
      "name": "python3"
    },
    "language_info": {
      "codemirror_mode": {
        "name": "ipython",
        "version": 3
      },
      "file_extension": ".py",
      "mimetype": "text/x-python",
      "name": "python",
      "nbconvert_exporter": "python",
      "pygments_lexer": "ipython3",
      "version": "3.6.10"
    }
  },
  "nbformat": 4,
  "nbformat_minor": 0
}