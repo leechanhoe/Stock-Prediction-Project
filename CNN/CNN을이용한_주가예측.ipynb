{
  "nbformat": 4,
  "nbformat_minor": 0,
  "metadata": {
    "colab": {
      "provenance": []
    },
    "kernelspec": {
      "name": "python3",
      "display_name": "Python 3"
    },
    "language_info": {
      "name": "python"
    }
  },
  "cells": [
    {
      "cell_type": "code",
      "source": [
        "!pip install finance-datareader"
      ],
      "metadata": {
        "colab": {
          "base_uri": "https://localhost:8080/"
        },
        "id": "BbHtiFjRhyMo",
        "outputId": "0913b4fa-2768-44de-9787-374aff39748c"
      },
      "execution_count": 2,
      "outputs": [
        {
          "output_type": "stream",
          "name": "stdout",
          "text": [
            "Collecting finance-datareader\n",
            "  Downloading finance_datareader-0.9.50-py3-none-any.whl (19 kB)\n",
            "Requirement already satisfied: pandas>=0.19.2 in /usr/local/lib/python3.10/dist-packages (from finance-datareader) (1.5.3)\n",
            "Requirement already satisfied: requests>=2.3.0 in /usr/local/lib/python3.10/dist-packages (from finance-datareader) (2.31.0)\n",
            "Collecting requests-file (from finance-datareader)\n",
            "  Downloading requests_file-1.5.1-py2.py3-none-any.whl (3.7 kB)\n",
            "Requirement already satisfied: lxml in /usr/local/lib/python3.10/dist-packages (from finance-datareader) (4.9.3)\n",
            "Requirement already satisfied: tqdm in /usr/local/lib/python3.10/dist-packages (from finance-datareader) (4.65.0)\n",
            "Requirement already satisfied: python-dateutil>=2.8.1 in /usr/local/lib/python3.10/dist-packages (from pandas>=0.19.2->finance-datareader) (2.8.2)\n",
            "Requirement already satisfied: pytz>=2020.1 in /usr/local/lib/python3.10/dist-packages (from pandas>=0.19.2->finance-datareader) (2022.7.1)\n",
            "Requirement already satisfied: numpy>=1.21.0 in /usr/local/lib/python3.10/dist-packages (from pandas>=0.19.2->finance-datareader) (1.23.5)\n",
            "Requirement already satisfied: charset-normalizer<4,>=2 in /usr/local/lib/python3.10/dist-packages (from requests>=2.3.0->finance-datareader) (3.2.0)\n",
            "Requirement already satisfied: idna<4,>=2.5 in /usr/local/lib/python3.10/dist-packages (from requests>=2.3.0->finance-datareader) (3.4)\n",
            "Requirement already satisfied: urllib3<3,>=1.21.1 in /usr/local/lib/python3.10/dist-packages (from requests>=2.3.0->finance-datareader) (1.26.16)\n",
            "Requirement already satisfied: certifi>=2017.4.17 in /usr/local/lib/python3.10/dist-packages (from requests>=2.3.0->finance-datareader) (2023.7.22)\n",
            "Requirement already satisfied: six in /usr/local/lib/python3.10/dist-packages (from requests-file->finance-datareader) (1.16.0)\n",
            "Installing collected packages: requests-file, finance-datareader\n",
            "Successfully installed finance-datareader-0.9.50 requests-file-1.5.1\n"
          ]
        }
      ]
    },
    {
      "cell_type": "code",
      "source": [
        "import FinanceDataReader as fdr\n",
        "import pandas as pd\n",
        "import numpy as np\n",
        "import matplotlib.pyplot as plt\n",
        "from PIL import Image"
      ],
      "metadata": {
        "id": "irOUonXJjVwT"
      },
      "execution_count": 18,
      "outputs": []
    },
    {
      "cell_type": "code",
      "source": [
        "# 삼성전자 주가 데이터 가져오기 (최근 32일)\n",
        "stock_data = fdr.DataReader('005930', start=pd.Timestamp.now() - pd.Timedelta('60D'))\n",
        "stock_data = stock_data.iloc[-32:]"
      ],
      "metadata": {
        "id": "kavyCJwrjYPA"
      },
      "execution_count": 40,
      "outputs": []
    },
    {
      "cell_type": "code",
      "source": [
        "# 이미지 크기 설정\n",
        "width, height = 96, 96\n",
        "\n",
        "# High, Low, Close, Volume 데이터 정규화\n",
        "high_prices = stock_data['High'].values\n",
        "low_prices = stock_data['Low'].values\n",
        "close_prices = stock_data['Close'].values\n",
        "volume_data = stock_data['Volume'].values\n",
        "\n",
        "\n",
        "high_prices_norm = (high_prices - np.min(low_prices)) / (np.max(high_prices) - np.min(low_prices))\n",
        "low_prices_norm = (low_prices - np.min(low_prices)) / (np.max(high_prices) - np.min(low_prices))\n",
        "close_prices_norm = (close_prices - np.min(low_prices)) / (np.max(high_prices) - np.min(low_prices))\n",
        "volume_data_norm = height * (volume_data) / (2 * (np.max(volume_data)))\n"
      ],
      "metadata": {
        "id": "MVFwpfLskdDS"
      },
      "execution_count": 41,
      "outputs": []
    },
    {
      "cell_type": "code",
      "execution_count": 49,
      "metadata": {
        "colab": {
          "base_uri": "https://localhost:8080/",
          "height": 261
        },
        "id": "JjjwYvDFO1Av",
        "outputId": "2b6cec0b-fc68-4e5d-ebc0-e5ad351651e0"
      },
      "outputs": [
        {
          "output_type": "error",
          "ename": "IndexError",
          "evalue": "ignored",
          "traceback": [
            "\u001b[0;31m---------------------------------------------------------------------------\u001b[0m",
            "\u001b[0;31mIndexError\u001b[0m                                Traceback (most recent call last)",
            "\u001b[0;32m<ipython-input-49-0a57f046523f>\u001b[0m in \u001b[0;36m<cell line: 12>\u001b[0;34m()\u001b[0m\n\u001b[1;32m     32\u001b[0m             \u001b[0mcolor\u001b[0m \u001b[0;34m=\u001b[0m \u001b[0;34m[\u001b[0m\u001b[0;36m255\u001b[0m\u001b[0;34m,\u001b[0m \u001b[0;36m0\u001b[0m\u001b[0;34m,\u001b[0m \u001b[0;36m0\u001b[0m\u001b[0;34m,\u001b[0m \u001b[0;36m255\u001b[0m\u001b[0;34m]\u001b[0m  \u001b[0;31m# 하락: 빨강\u001b[0m\u001b[0;34m\u001b[0m\u001b[0;34m\u001b[0m\u001b[0m\n\u001b[1;32m     33\u001b[0m         \u001b[0;32mfor\u001b[0m \u001b[0my\u001b[0m \u001b[0;32min\u001b[0m \u001b[0mrange\u001b[0m\u001b[0;34m(\u001b[0m\u001b[0mmin\u001b[0m\u001b[0;34m(\u001b[0m\u001b[0mopen_price\u001b[0m\u001b[0;34m,\u001b[0m \u001b[0mclose_price\u001b[0m\u001b[0;34m)\u001b[0m\u001b[0;34m,\u001b[0m \u001b[0mmax\u001b[0m\u001b[0;34m(\u001b[0m\u001b[0mopen_price\u001b[0m\u001b[0;34m,\u001b[0m \u001b[0mclose_price\u001b[0m\u001b[0;34m)\u001b[0m \u001b[0;34m+\u001b[0m \u001b[0;36m1\u001b[0m\u001b[0;34m)\u001b[0m\u001b[0;34m:\u001b[0m\u001b[0;34m\u001b[0m\u001b[0;34m\u001b[0m\u001b[0m\n\u001b[0;32m---> 34\u001b[0;31m             \u001b[0mimg\u001b[0m\u001b[0;34m[\u001b[0m\u001b[0my\u001b[0m\u001b[0;34m,\u001b[0m \u001b[0mx\u001b[0m\u001b[0;34m]\u001b[0m \u001b[0;34m=\u001b[0m \u001b[0mcolor\u001b[0m\u001b[0;34m\u001b[0m\u001b[0;34m\u001b[0m\u001b[0m\n\u001b[0m\u001b[1;32m     35\u001b[0m \u001b[0;34m\u001b[0m\u001b[0m\n\u001b[1;32m     36\u001b[0m     \u001b[0;31m# 꼬리 그리기 (High, Low 범위)\u001b[0m\u001b[0;34m\u001b[0m\u001b[0;34m\u001b[0m\u001b[0m\n",
            "\u001b[0;31mIndexError\u001b[0m: index 96 is out of bounds for axis 1 with size 96"
          ]
        }
      ],
      "source": [
        "def alpha_blend(color1, color2, alpha):\n",
        "    return [\n",
        "        int((color1[0] * alpha + color2[0] * (1 - alpha))),\n",
        "        int((color1[1] * alpha + color2[1] * (1 - alpha))),\n",
        "        int((color1[2] * alpha + color2[2] * (1 - alpha))),\n",
        "        255,\n",
        "    ]\n",
        "\n",
        "# 96x96 이미지 생성\n",
        "img = np.zeros((height, width, 4), dtype=np.uint8) # 4 channels for RGBA\n",
        "\n",
        "for day in range(32):\n",
        "    high_price = int(high_prices_norm[day] * (height - 1))\n",
        "    low_price = int(low_prices_norm[day] * (height - 1))\n",
        "    close_price = int(close_prices_norm[day] * (height - 1))\n",
        "    open_price = int(\n",
        "        (\n",
        "            (stock_data['Open'].values[day] - np.min(low_prices))\n",
        "            / (np.max(high_prices) - np.min(low_prices))\n",
        "        )\n",
        "        * (height - 1)\n",
        "    )\n",
        "    volume = int(volume_data_norm[day])\n",
        "\n",
        "    x_start = day * 3\n",
        "\n",
        "    # 막대 왼쪽, 오른쪽 그리기 (시가, 종가 범위)\n",
        "    for x in range(x_start, x_start + 3):\n",
        "        if close_prices[day] > stock_data['Open'].values[day]:\n",
        "            color = [0, 0, 255, 255]  # 상승: 파랑\n",
        "        else:\n",
        "            color = [255, 0, 0, 255]  # 하락: 빨강\n",
        "        for y in range(min(open_price, close_price), max(open_price, close_price) + 1):\n",
        "            img[y, x] = color\n",
        "\n",
        "    # 꼬리 그리기 (High, Low 범위)\n",
        "    for x in range(x_start + 1, x_start + 2):\n",
        "        for y in range(low_price, high_price + 1):\n",
        "            if img[y, x][0] != 255 and img[y, x][2] != 255:\n",
        "                img[y, x] = [200, 200, 200, 255]\n",
        "\n",
        "    # 거래량 그리기\n",
        "    for x in range(x_start, x_start + 3):\n",
        "        overlapped = height - volume\n",
        "        if overlapped >= 0 and overlapped < height:\n",
        "            img[overlapped:, x] = [\n",
        "                alpha_blend(img[y, x], [128, 128, 128, 255], 0.45)\n",
        "                for y in range(overlapped, height)\n",
        "            ]\n",
        "\n",
        "# 이미지 저장\n",
        "img = Image.fromarray(img, 'RGBA')\n",
        "img.save('samsung_stock_data_image.png')\n",
        "img.show()"
      ]
    },
    {
      "cell_type": "code",
      "source": [],
      "metadata": {
        "id": "4FM9d-aayNX4"
      },
      "execution_count": null,
      "outputs": []
    }
  ]
}