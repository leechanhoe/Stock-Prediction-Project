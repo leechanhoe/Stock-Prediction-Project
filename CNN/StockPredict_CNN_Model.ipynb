{
  "nbformat": 4,
  "nbformat_minor": 0,
  "metadata": {
    "colab": {
      "provenance": [],
      "gpuType": "T4"
    },
    "kernelspec": {
      "name": "python3",
      "display_name": "Python 3"
    },
    "language_info": {
      "name": "python"
    },
    "accelerator": "GPU"
  },
  "cells": [
    {
      "cell_type": "code",
      "execution_count": 1,
      "metadata": {
        "id": "g5Nv0eK6QVyW"
      },
      "outputs": [],
      "source": [
        "import numpy as np\n",
        "import tensorflow as tf\n",
        "from tensorflow.keras.models import Sequential\n",
        "from tensorflow.keras.layers import Conv2D, MaxPooling2D, Flatten, Dense, Dropout, BatchNormalization, MaxPool2D"
      ]
    },
    {
      "cell_type": "code",
      "source": [
        "from google.colab import drive\n",
        "drive.mount('/content/drive')"
      ],
      "metadata": {
        "colab": {
          "base_uri": "https://localhost:8080/"
        },
        "id": "Fh9d8l_PQ89m",
        "outputId": "55b59448-1bba-4625-bfa8-8010dd068e1c"
      },
      "execution_count": 2,
      "outputs": [
        {
          "output_type": "stream",
          "name": "stdout",
          "text": [
            "Drive already mounted at /content/drive; to attempt to forcibly remount, call drive.mount(\"/content/drive\", force_remount=True).\n"
          ]
        }
      ]
    },
    {
      "cell_type": "code",
      "source": [
        "train_images = np.load('drive/MyDrive/Colab Notebooks/train_images_2023.npy')\n",
        "train_labels = np.load('drive/MyDrive/Colab Notebooks/train_labels_2023.npy')\n",
        "test_images = np.load('drive/MyDrive/Colab Notebooks/test_images_until2022.npy')\n",
        "test_labels = np.load('drive/MyDrive/Colab Notebooks/test_labels_until2022.npy')"
      ],
      "metadata": {
        "id": "51uF5k_dQbbe"
      },
      "execution_count": 15,
      "outputs": []
    },
    {
      "cell_type": "markdown",
      "source": [],
      "metadata": {
        "id": "F9HMIWQDoK_X"
      }
    },
    {
      "cell_type": "code",
      "source": [
        "# 훈련 데이터가 너무 많아서 줄이기\n",
        "train_images = train_images[len(train_images)//3 * 2:]\n",
        "train_labels = train_labels[len(train_labels)//3 * 2:]"
      ],
      "metadata": {
        "id": "4HGkQYbjIzro"
      },
      "execution_count": 4,
      "outputs": []
    },
    {
      "cell_type": "code",
      "source": [
        "train_images = np.array(train_images).reshape(-1, 96, 96, 4) / 255.0\n",
        "test_images = np.array(test_images).reshape(-1, 96, 96, 4) / 255.0"
      ],
      "metadata": {
        "id": "WYFCbpYqR35_"
      },
      "execution_count": 5,
      "outputs": []
    },
    {
      "cell_type": "code",
      "source": [
        "model = Sequential()\n",
        "\n",
        "# Convolutional Block (Conv-Conv-Pool-Dropout)\n",
        "model.add(Conv2D(64, (3, 3), activation='relu', padding='same', input_shape=(96, 96, 4)))\n",
        "model.add(BatchNormalization())\n",
        "model.add(Conv2D(64, (3, 3), activation='relu', padding='same'))\n",
        "model.add(MaxPool2D(pool_size=(2, 2)))\n",
        "model.add(Dropout(0.25))\n",
        "\n",
        "# Convolutional Block (Conv-Conv-Pool-Dropout)\n",
        "model.add(Conv2D(128, (3, 3), activation='relu', padding='same'))\n",
        "model.add(BatchNormalization())\n",
        "model.add(Conv2D(128, (3, 3), activation='relu', padding='same'))\n",
        "model.add(MaxPool2D(pool_size=(2, 2)))\n",
        "model.add(Dropout(0.25))\n",
        "\n",
        "model.add(Conv2D(256, (3, 3), padding='same', activation='relu'))\n",
        "model.add(BatchNormalization())\n",
        "model.add(Conv2D(256, (3, 3), padding='same', activation='relu'))\n",
        "model.add(MaxPool2D(pool_size=(2, 2)))\n",
        "model.add(Dropout(0.25))\n",
        "\n",
        "model.add(Flatten()) # change this line\n",
        "model.add(Dense(512, activation='relu'))\n",
        "model.add(Dropout(0.5))\n",
        "model.add(Dense(1, activation='sigmoid'))\n",
        "model.compile(optimizer='adam', loss='binary_crossentropy', metrics=['acc'])"
      ],
      "metadata": {
        "id": "hHxW7kAYR9td"
      },
      "execution_count": 6,
      "outputs": []
    },
    {
      "cell_type": "code",
      "source": [
        "import keras\n",
        "\n",
        "def lr_schedule(epoch):\n",
        "    lrate = 0.001\n",
        "    if epoch > 2:\n",
        "        lrate = 0.0005\n",
        "    if epoch > 4:\n",
        "        lrate = 0.0001\n",
        "    if epoch > 6:\n",
        "        lrate = 0.00005\n",
        "    return lrate\n",
        "\n",
        "checkpoint = keras.callbacks.ModelCheckpoint('best_cnn_model.h5', save_best_only=True)\n",
        "# N번의 연속적인 epoch 동안 개선이 없을 때 학습이 중단되도록 함\n",
        "early_stopping = keras.callbacks.EarlyStopping(patience=10, restore_best_weights=True)"
      ],
      "metadata": {
        "id": "0C6hjJC8Si0o"
      },
      "execution_count": 7,
      "outputs": []
    },
    {
      "cell_type": "code",
      "source": [
        "from keras.callbacks import LearningRateScheduler\n",
        "\n",
        "history = model.fit(train_images, train_labels, batch_size=16, epochs=30, validation_data=(test_images, test_labels),\n",
        "                    callbacks = [checkpoint, early_stopping, LearningRateScheduler(lr_schedule)])"
      ],
      "metadata": {
        "colab": {
          "base_uri": "https://localhost:8080/"
        },
        "id": "VhFl-WnxSWFA",
        "outputId": "21b4d12a-3c68-4331-c272-5de3675a4d4a"
      },
      "execution_count": 8,
      "outputs": [
        {
          "output_type": "stream",
          "name": "stdout",
          "text": [
            "Epoch 1/30\n",
            "448/448 [==============================] - 39s 71ms/step - loss: 2.2091 - acc: 0.5400 - val_loss: 0.6970 - val_acc: 0.4794 - lr: 0.0010\n",
            "Epoch 2/30\n",
            "448/448 [==============================] - 28s 62ms/step - loss: 0.7036 - acc: 0.5548 - val_loss: 0.6964 - val_acc: 0.4801 - lr: 0.0010\n",
            "Epoch 3/30\n",
            "448/448 [==============================] - 22s 49ms/step - loss: 0.6919 - acc: 0.5571 - val_loss: 0.7060 - val_acc: 0.4790 - lr: 0.0010\n",
            "Epoch 4/30\n",
            "448/448 [==============================] - 24s 54ms/step - loss: 0.6860 - acc: 0.5633 - val_loss: 0.7023 - val_acc: 0.4796 - lr: 5.0000e-04\n",
            "Epoch 5/30\n",
            "448/448 [==============================] - 22s 49ms/step - loss: 0.6845 - acc: 0.5630 - val_loss: 0.7029 - val_acc: 0.4794 - lr: 5.0000e-04\n",
            "Epoch 6/30\n",
            "448/448 [==============================] - 24s 54ms/step - loss: 0.6783 - acc: 0.5718 - val_loss: 0.7086 - val_acc: 0.4877 - lr: 1.0000e-04\n",
            "Epoch 7/30\n",
            "448/448 [==============================] - 22s 49ms/step - loss: 0.6731 - acc: 0.5785 - val_loss: 0.7065 - val_acc: 0.4883 - lr: 1.0000e-04\n",
            "Epoch 8/30\n",
            "448/448 [==============================] - 24s 54ms/step - loss: 0.6672 - acc: 0.5908 - val_loss: 0.7130 - val_acc: 0.4890 - lr: 5.0000e-05\n",
            "Epoch 9/30\n",
            "448/448 [==============================] - 22s 49ms/step - loss: 0.6580 - acc: 0.6008 - val_loss: 0.7112 - val_acc: 0.5004 - lr: 5.0000e-05\n",
            "Epoch 10/30\n",
            "448/448 [==============================] - 24s 54ms/step - loss: 0.6490 - acc: 0.6176 - val_loss: 0.7157 - val_acc: 0.5067 - lr: 5.0000e-05\n",
            "Epoch 11/30\n",
            "448/448 [==============================] - 24s 54ms/step - loss: 0.6401 - acc: 0.6289 - val_loss: 0.7062 - val_acc: 0.5202 - lr: 5.0000e-05\n",
            "Epoch 12/30\n",
            "448/448 [==============================] - 26s 57ms/step - loss: 0.6083 - acc: 0.6695 - val_loss: 0.6856 - val_acc: 0.5815 - lr: 5.0000e-05\n",
            "Epoch 13/30\n",
            "448/448 [==============================] - 30s 67ms/step - loss: 0.4465 - acc: 0.7943 - val_loss: 0.5743 - val_acc: 0.7113 - lr: 5.0000e-05\n",
            "Epoch 14/30\n",
            "448/448 [==============================] - 30s 67ms/step - loss: 0.2088 - acc: 0.9181 - val_loss: 0.4892 - val_acc: 0.7937 - lr: 5.0000e-05\n",
            "Epoch 15/30\n",
            "448/448 [==============================] - 28s 62ms/step - loss: 0.1277 - acc: 0.9499 - val_loss: 0.4633 - val_acc: 0.8145 - lr: 5.0000e-05\n",
            "Epoch 16/30\n",
            "448/448 [==============================] - 23s 50ms/step - loss: 0.0884 - acc: 0.9669 - val_loss: 0.4921 - val_acc: 0.8111 - lr: 5.0000e-05\n",
            "Epoch 17/30\n",
            "448/448 [==============================] - 22s 49ms/step - loss: 0.0701 - acc: 0.9743 - val_loss: 0.4858 - val_acc: 0.8248 - lr: 5.0000e-05\n",
            "Epoch 18/30\n",
            "448/448 [==============================] - 24s 54ms/step - loss: 0.0495 - acc: 0.9827 - val_loss: 0.6202 - val_acc: 0.8060 - lr: 5.0000e-05\n",
            "Epoch 19/30\n",
            "448/448 [==============================] - 24s 54ms/step - loss: 0.0452 - acc: 0.9841 - val_loss: 0.4638 - val_acc: 0.8369 - lr: 5.0000e-05\n",
            "Epoch 20/30\n",
            "448/448 [==============================] - 22s 49ms/step - loss: 0.0373 - acc: 0.9853 - val_loss: 0.5272 - val_acc: 0.8401 - lr: 5.0000e-05\n",
            "Epoch 21/30\n",
            "448/448 [==============================] - 22s 49ms/step - loss: 0.0291 - acc: 0.9898 - val_loss: 0.5025 - val_acc: 0.8313 - lr: 5.0000e-05\n",
            "Epoch 22/30\n",
            "448/448 [==============================] - 22s 50ms/step - loss: 0.0248 - acc: 0.9908 - val_loss: 0.5021 - val_acc: 0.8371 - lr: 5.0000e-05\n",
            "Epoch 23/30\n",
            "448/448 [==============================] - 22s 49ms/step - loss: 0.0204 - acc: 0.9930 - val_loss: 0.4769 - val_acc: 0.8475 - lr: 5.0000e-05\n",
            "Epoch 24/30\n",
            "448/448 [==============================] - 24s 55ms/step - loss: 0.0185 - acc: 0.9929 - val_loss: 0.5319 - val_acc: 0.8421 - lr: 5.0000e-05\n",
            "Epoch 25/30\n",
            "448/448 [==============================] - 23s 51ms/step - loss: 0.0161 - acc: 0.9953 - val_loss: 0.5509 - val_acc: 0.8349 - lr: 5.0000e-05\n"
          ]
        }
      ]
    },
    {
      "cell_type": "code",
      "source": [
        "from keras.models import load_model\n",
        "\n",
        "# model = load_model('drive/MyDrive/Colab Notebooks/시가총액100종목중_뒤에서33퍼_8629.h5')\n",
        "model = load_model('best_cnn_model.h5')"
      ],
      "metadata": {
        "id": "wwUkDW0cS3RG"
      },
      "execution_count": 12,
      "outputs": []
    },
    {
      "cell_type": "code",
      "source": [
        "import matplotlib.pyplot as plt\n",
        "\n",
        "plt.figure()\n",
        "\n",
        "# 정확도 그래프\n",
        "plt.subplot(1, 2, 1)\n",
        "plt.plot(history.history['acc'], label='acc')\n",
        "plt.plot(history.history['val_acc'], label='val_acc')\n",
        "plt.ylabel('accuracy')\n",
        "plt.xlabel('epoch')\n",
        "plt.legend(loc='best')\n",
        "\n",
        "# 손실 그래프\n",
        "plt.subplot(1, 2, 2)\n",
        "plt.plot(history.history['loss'], label='loss')\n",
        "plt.plot(history.history['val_loss'], label='val_loss')\n",
        "plt.ylabel('loss')\n",
        "plt.xlabel('epoch')\n",
        "plt.legend(loc='best')\n",
        "\n",
        "plt.show()"
      ],
      "metadata": {
        "colab": {
          "base_uri": "https://localhost:8080/",
          "height": 449
        },
        "id": "mtGnU9U6S4vw",
        "outputId": "76961b86-d392-47cb-e4c9-bc750e552209"
      },
      "execution_count": 13,
      "outputs": [
        {
          "output_type": "display_data",
          "data": {
            "text/plain": [
              "<Figure size 640x480 with 2 Axes>"
            ],
            "image/png": "[encoded data removed]"
          },
          "metadata": {}
        }
      ]
    },
    {
      "cell_type": "code",
      "source": [
        "test_loss, test_acc = model.evaluate(test_images,  test_labels, verbose=2)"
      ],
      "metadata": {
        "colab": {
          "base_uri": "https://localhost:8080/"
        },
        "id": "MDHzRodjlwEs",
        "outputId": "f08ed8be-7f07-4df7-c8cf-9c58ca36d1aa"
      },
      "execution_count": 14,
      "outputs": [
        {
          "output_type": "stream",
          "name": "stdout",
          "text": [
            "173/173 - 4s - loss: 0.4633 - acc: 0.8145 - 4s/epoch - 24ms/step\n"
          ]
        }
      ]
    }
  ]
}