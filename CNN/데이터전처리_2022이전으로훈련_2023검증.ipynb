{
  "cells": [
    {
      "cell_type": "code",
      "execution_count": 1,
      "metadata": {
        "colab": {
          "base_uri": "https://localhost:8080/"
        },
        "id": "BbHtiFjRhyMo",
        "outputId": "eb78c282-b473-4752-eb32-efe72fd64199"
      },
      "outputs": [
        {
          "output_type": "stream",
          "name": "stdout",
          "text": [
            "Requirement already satisfied: finance-datareader in /usr/local/lib/python3.10/dist-packages (0.9.50)\n",
            "Requirement already satisfied: pandas>=0.19.2 in /usr/local/lib/python3.10/dist-packages (from finance-datareader) (1.5.3)\n",
            "Requirement already satisfied: requests>=2.3.0 in /usr/local/lib/python3.10/dist-packages (from finance-datareader) (2.31.0)\n",
            "Requirement already satisfied: requests-file in /usr/local/lib/python3.10/dist-packages (from finance-datareader) (1.5.1)\n",
            "Requirement already satisfied: lxml in /usr/local/lib/python3.10/dist-packages (from finance-datareader) (4.9.3)\n",
            "Requirement already satisfied: tqdm in /usr/local/lib/python3.10/dist-packages (from finance-datareader) (4.65.0)\n",
            "Requirement already satisfied: python-dateutil>=2.8.1 in /usr/local/lib/python3.10/dist-packages (from pandas>=0.19.2->finance-datareader) (2.8.2)\n",
            "Requirement already satisfied: pytz>=2020.1 in /usr/local/lib/python3.10/dist-packages (from pandas>=0.19.2->finance-datareader) (2022.7.1)\n",
            "Requirement already satisfied: numpy>=1.21.0 in /usr/local/lib/python3.10/dist-packages (from pandas>=0.19.2->finance-datareader) (1.23.5)\n",
            "Requirement already satisfied: charset-normalizer<4,>=2 in /usr/local/lib/python3.10/dist-packages (from requests>=2.3.0->finance-datareader) (3.2.0)\n",
            "Requirement already satisfied: idna<4,>=2.5 in /usr/local/lib/python3.10/dist-packages (from requests>=2.3.0->finance-datareader) (3.4)\n",
            "Requirement already satisfied: urllib3<3,>=1.21.1 in /usr/local/lib/python3.10/dist-packages (from requests>=2.3.0->finance-datareader) (1.26.16)\n",
            "Requirement already satisfied: certifi>=2017.4.17 in /usr/local/lib/python3.10/dist-packages (from requests>=2.3.0->finance-datareader) (2023.7.22)\n",
            "Requirement already satisfied: six in /usr/local/lib/python3.10/dist-packages (from requests-file->finance-datareader) (1.16.0)\n"
          ]
        }
      ],
      "source": [
        "!pip install finance-datareader"
      ]
    },
    {
      "cell_type": "code",
      "execution_count": 2,
      "metadata": {
        "id": "irOUonXJjVwT"
      },
      "outputs": [],
      "source": [
        "import FinanceDataReader as fdr\n",
        "import pandas as pd\n",
        "import numpy as np\n",
        "import matplotlib.pyplot as plt\n",
        "from PIL import Image\n",
        "from datetime import datetime, timedelta\n",
        "import random\n",
        "\n",
        "num_images = 5000\n",
        "day_num = 32"
      ]
    },
    {
      "cell_type": "code",
      "execution_count": 3,
      "metadata": {
        "colab": {
          "base_uri": "https://localhost:8080/"
        },
        "id": "3XUkcrYE9HzB",
        "outputId": "ad26df82-5b2e-495e-eecc-7694804c9519"
      },
      "outputs": [
        {
          "output_type": "stream",
          "name": "stdout",
          "text": [
            "152\n"
          ]
        }
      ],
      "source": [
        "print(len(fdr.DataReader(\"005930\", '2022-12-31')))"
      ]
    },
    {
      "cell_type": "code",
      "execution_count": 4,
      "metadata": {
        "id": "ZrhCToEcl2Wo"
      },
      "outputs": [],
      "source": [
        "def convert_image(data, num_images, day_num, change_std, save = False, test = False):\n",
        "    if test:\n",
        "        change_std = 0\n",
        "\n",
        "    def alpha_blend(color1, color2, alpha):\n",
        "        return [\n",
        "            int((color1[0] * alpha + color2[0] * (1 - alpha))),\n",
        "            int((color1[1] * alpha + color2[1] * (1 - alpha))),\n",
        "            int((color1[2] * alpha + color2[2] * (1 - alpha))),\n",
        "            255,\n",
        "        ]\n",
        "\n",
        "    # 데이터수가 너무 적으면 패스\n",
        "    if len(data) <= 100:\n",
        "        return []\n",
        "\n",
        "\n",
        "    # 해당 종목의 주가 데이터 - 100이 요구되는 이미지 수보다 적으면(상장직후는 변동이 심할 수있으니 제외)\n",
        "    if num_images - 100 > len(data):\n",
        "        num_images = len(data) - 100\n",
        "\n",
        "    #return_datas는 이미지, 라벨링(상승이면1 하락이면0), 변동률, 날짜를 담고있음\n",
        "    return_datas = []\n",
        "    prediction_day_num = 5\n",
        "\n",
        "\n",
        "    image_idx = 1\n",
        "    while(image_idx <= num_images):\n",
        "        prediction_day = data[-image_idx - prediction_day_num : -image_idx]\n",
        "        predict_mean = prediction_day['Close'].mean()\n",
        "        now = data.iloc[-image_idx - prediction_day_num - 1]\n",
        "        change = (predict_mean - now['Close']) / now['Close']\n",
        "\n",
        "\n",
        "        # change가 너무 높으면 이상치라고 판단하여 패스\n",
        "        if not test and (abs(change) < change_std or change_std * 2 < abs(change)): # 향후 prediction_day_num일의 변동률이 기준 이하면\n",
        "            image_idx += 1\n",
        "            continue\n",
        "\n",
        "        stock_data = data[-image_idx - day_num - prediction_day_num : -image_idx - prediction_day_num]\n",
        "\n",
        "        # 이미지 크기 설정\n",
        "        width, height = 96, 96\n",
        "\n",
        "        # High, Low, Close, Volume 데이터 정규화\n",
        "        high_prices = stock_data['High'].values\n",
        "        low_prices = stock_data['Low'].values\n",
        "        close_prices = stock_data['Close'].values\n",
        "        volume_data = stock_data['Volume'].values\n",
        "\n",
        "        high_prices_norm = (high_prices - np.min(low_prices)) / (np.max(high_prices) - np.min(low_prices))\n",
        "        low_prices_norm = (low_prices - np.min(low_prices)) / (np.max(high_prices) - np.min(low_prices))\n",
        "        close_prices_norm = (close_prices - np.min(low_prices)) / (np.max(high_prices) - np.min(low_prices))\n",
        "        volume_data_norm = height * (volume_data) / (2 * (np.max(volume_data)))\n",
        "\n",
        "        # 이동평균선 추가를 위한 stock_data 생성\n",
        "        stock_data_ma20 = data[-image_idx - day_num - 20 - prediction_day_num: -image_idx - prediction_day_num]\n",
        "        stock_data_ma20 = stock_data_ma20.copy()\n",
        "        stock_data_ma20['MA20'] = stock_data_ma20['Close'].rolling(window=20).mean()\n",
        "        stock_data_ma20.dropna(inplace=True)\n",
        "\n",
        "        # 이동평균선 값을 정규화\n",
        "        stock_data_ma20['MA20_norm'] = (\n",
        "                (stock_data_ma20['MA20'] - np.min(low_prices)) / (np.max(high_prices) - np.min(low_prices))\n",
        "            )\n",
        "\n",
        "        # 96x96 이미지 생성\n",
        "        img = np.zeros((height, width, 4), dtype=np.uint8)  # 4 channels for RGBA\n",
        "\n",
        "        fail_generate = False\n",
        "        for day in range(32):\n",
        "            high_price = int(high_prices_norm[day] * (height - 1))\n",
        "            low_price = int(low_prices_norm[day] * (height - 1))\n",
        "            close_price = int(close_prices_norm[day] * (height - 1))\n",
        "            open_price = int(\n",
        "                (\n",
        "                    (stock_data['Open'].values[day] - np.min(low_prices))\n",
        "                    / (np.max(high_prices) - np.min(low_prices))\n",
        "                )\n",
        "                * (height - 1)\n",
        "            )\n",
        "            volume = int(volume_data_norm[day])\n",
        "            if(volume == 0):\n",
        "                fail_generate = True\n",
        "                break\n",
        "\n",
        "            x_start = day * 3\n",
        "\n",
        "            # 시가, 종가, 고가, 저가 막대그래프\n",
        "            # 막대 왼쪽, 오른쪽 그리기 (시가, 종가 범위)\n",
        "            for x in range(x_start, x_start + 3):\n",
        "                if close_prices[day] > stock_data['Open'].values[day]:\n",
        "                    color = [255, 0, 0, 255]  # 상승: 빨강\n",
        "                    tail_color = [200, 0, 0, 255]  # 상승 시 꼬리: 어두운 빨강\n",
        "                elif close_prices[day] < stock_data['Open'].values[day]:\n",
        "                    color = [0, 0, 255, 255]  # 하락: 파랑\n",
        "                    tail_color = [0, 0, 200, 255]  # 하락 시 꼬리: 어두운 파랑\n",
        "                else: # 시가와 종가가 같을경우 어제보다 같거나 올랐으면 빨강, 아니면 파랑\n",
        "                    if 0 <= stock_data['Change'].values[day]:\n",
        "                        color = [255, 0, 0, 255]  # 상승: 빨강\n",
        "                        tail_color = [200, 0, 0, 255]  # 상승 시 꼬리: 어두운 빨강\n",
        "                    else:\n",
        "                        color = [0, 0, 255, 255]  # 하락: 파랑\n",
        "                        tail_color = [0, 0, 200, 255]  # 하락 시 꼬리: 어두운 파랑\n",
        "\n",
        "                for y in range(min(open_price, close_price), max(open_price, close_price) + 1):\n",
        "                    img[height - 1 - y, x] = color\n",
        "\n",
        "            # 꼬리 그리기 (High, Low 범위)\n",
        "            for x in range(x_start + 1, x_start + 2):\n",
        "                for y in range(low_price, high_price + 1):\n",
        "                    if img[height - 1 - y, x][0] != 255 and img[height - 1 - y, x][2] != 255:\n",
        "                        img[height - 1 - y, x] = tail_color\n",
        "\n",
        "            # 거래량 그리기\n",
        "            for x in range(x_start, x_start + 3):\n",
        "                overlapped = height - volume\n",
        "                if overlapped >= 0 and overlapped < height:\n",
        "                    img[overlapped:, x] = [\n",
        "                        alpha_blend(img[y, x], [128, 128, 128, 255], 0.45)\n",
        "                        for y in range(overlapped, height)\n",
        "                    ]\n",
        "\n",
        "            # 20일 이동평균선 그리기\n",
        "            ma20_norm = stock_data_ma20.iloc[day]['MA20_norm']\n",
        "\n",
        "            for x in range(x_start, x_start + 3):\n",
        "                if not np.isnan(ma20_norm):\n",
        "                    ma20_y = int(ma20_norm * (height - 1))\n",
        "                    if 0 <= ma20_y < height:\n",
        "                        for y in range(ma20_y - 1, ma20_y + 2):  # 이동평균선 주변에 블렌딩 처리\n",
        "                            if 0 <= y < height:\n",
        "                                new_color = alpha_blend([255, 255, 0, 255], img[height - 1 - y, x], 0.6)  # 노란색으로 변경\n",
        "                                img[height - 1 - y, x] = new_color\n",
        "\n",
        "        #이미지가 day_num(그려지기 원하는 거래일 수)미만으로 그려졌으면\n",
        "        if fail_generate:\n",
        "            image_idx += prediction_day_num\n",
        "            continue\n",
        "\n",
        "        if save :\n",
        "            # 이미지 저장\n",
        "            img = Image.fromarray(img, 'RGBA')\n",
        "            img.save(f'samsung_stock_data_image_{image_idx}.png')\n",
        "\n",
        "        if change_std <= change:\n",
        "            return_datas.append((img, 1))\n",
        "        elif change <= -change_std :\n",
        "            return_datas.append((img, 0))\n",
        "\n",
        "            # 테스트는 촘촘하게 모든 데이터로\n",
        "        if test:\n",
        "            image_idx += random.choice([1, 2, 3])\n",
        "        else:\n",
        "            # 비슷한 이미지를 피하기 위해 기준 예측일만큼 건너뜀\n",
        "            image_idx += prediction_day_num\n",
        "\n",
        "\n",
        "    return return_datas"
      ]
    },
    {
      "cell_type": "code",
      "execution_count": 5,
      "metadata": {
        "id": "FbkJs-LncrRx"
      },
      "outputs": [],
      "source": [
        "def preprocess_data(data):\n",
        "    # 0이나 NaN을 포함하는 행 제거\n",
        "    data = data[data['Volume'] != 0]\n",
        "    data = data.dropna(how='any')\n",
        "\n",
        "    return data"
      ]
    },
    {
      "cell_type": "code",
      "execution_count": 6,
      "metadata": {
        "colab": {
          "base_uri": "https://localhost:8080/"
        },
        "id": "gv6i6C7IjCPo",
        "outputId": "cbab73aa-5299-4cf1-aea7-212f68e57d85"
      },
      "outputs": [
        {
          "output_type": "stream",
          "name": "stdout",
          "text": [
            "99\n"
          ]
        }
      ],
      "source": [
        "stock_codes = [\n",
        "    [\"005930\", \"삼성전자\"],\n",
        "    [\"051910\", \"LG화학\"],\n",
        "    [\"000660\", \"SK하이닉스\"],\n",
        "    [\"207940\", \"삼성바이오로직스\"],\n",
        "    [\"005935\", \"삼성전자우\"],\n",
        "    [\"051915\", \"LG화학우\"],\n",
        "    [\"006400\", \"삼성SDI\"],\n",
        "    [\"005380\", \"현대차\"],\n",
        "    # [\"035420\", \"NAVER\"],\n",
        "    [\"363280\", \"효성화학\"],\n",
        "    [\"247540\", \"에코프로비엠\"],\n",
        "    [\"000270\", \"기아\"],\n",
        "    [\"086520\", \"에코프로\"],\n",
        "    [\"035720\", \"카카오\"],\n",
        "    [\"068270\", \"셀트리온\"],\n",
        "    [\"012330\", \"현대모비스\"],\n",
        "    [\"105560\", \"KB금융\"],\n",
        "    [\"028260\", \"삼성물산\"],\n",
        "    [\"055550\", \"신한지주\"],\n",
        "    [\"096770\", \"SK이노베이션\"],\n",
        "    [\"066570\", \"LG전자\"],\n",
        "    [\"047050\", \"대우조선해양\"],\n",
        "    [\"032830\", \"삼성생명\"],\n",
        "    [\"323410\", \"카카오뱅크\"],\n",
        "    [\"003550\", \"LG\"],\n",
        "    [\"015760\", \"한국전력\"],\n",
        "    [\"000810\", \"삼성화재\"],\n",
        "    [\"033780\", \"KT&G\"],\n",
        "    [\"091990\", \"셀트리온헬스케어\"],\n",
        "    [\"009150\", \"삼성전기\"],\n",
        "    [\"086790\", \"하나금융지주\"],\n",
        "    [\"034730\", \"SK\"],\n",
        "    [\"336370\", \"솔루스첨단소재\"],\n",
        "    [\"352820\", \"하이브\"],\n",
        "    [\"018260\", \"삼성에스디에스\"],\n",
        "    [\"122630\", \"KODEX 레버리지\"],\n",
        "    [\"017670\", \"SK텔레콤\"],\n",
        "    [\"010130\", \"고려아연\"],\n",
        "    [\"024880\", \"케이씨케미칼\"],\n",
        "    [\"003490\", \"대한항공\"],\n",
        "    [\"010950\", \"S-Oil\"],\n",
        "    [\"086280\", \"현대글로비스\"],\n",
        "    [\"259960\", \"크래프톤\"],\n",
        "    [\"024110\", \"기업은행\"],\n",
        "    [\"030200\", \"케이티\"],\n",
        "    [\"316140\", \"우리금융지주\"],\n",
        "    [\"010140\", \"삼성중공업\"],\n",
        "    [\"090430\", \"아모레퍼시픽\"],\n",
        "    [\"051900\", \"LG생활건강\"],\n",
        "    [\"028050\", \"삼성엔지니어링\"],\n",
        "    [\"233740\", \"KODEX 코스닥 150 레버리지\"],\n",
        "    [\"011170\", \"롯데케미칼\"],\n",
        "    [\"000100\", \"유한양행\"],\n",
        "    [\"012450\", \"한화에어로스페이스\"],\n",
        "    [\"036570\", \"엔씨소프트\"],\n",
        "    [\"241560\", \"두산밥캣\"],\n",
        "    [\"005830\", \"DB손해보험\"],\n",
        "    [\"018880\", \"한온시스템\"],\n",
        "    [\"034220\", \"LG디스플레이\"],\n",
        "    [\"170030\", \"HD현대\"],\n",
        "    # [\"161390\", \"한국타이어앤테크놀로지\"],\n",
        "    [\"088980\", \"맥쿼리인프라\"],\n",
        "    [\"005070\", \"코스모신소재\"],\n",
        "    [\"271560\", \"오리온\"],\n",
        "    [\"004020\", \"현대제철\"],\n",
        "    [\"097950\", \"CJ제일제당\"],\n",
        "    [\"047810\", \"한국항공우주\"],\n",
        "    [\"042700\", \"한미반도체\"],\n",
        "    [\"032640\", \"LG유플러스\"],\n",
        "    [\"307950\", \"현대오토에버\"],\n",
        "    [\"006800\", \"미래에셋증권\"],\n",
        "    [\"007700\", \"F&F\"],\n",
        "    [\"251270\", \"넷마블\"],\n",
        "    [\"128940\", \"한미약품\"],\n",
        "    [\"000720\", \"현대건설\"],\n",
        "    [\"010620\", \"현대미포조선\"],\n",
        "    [\"006260\", \"LS\"],\n",
        "    [\"078930\", \"GS\"],\n",
        "    [\"011780\", \"금호석유\"],\n",
        "    [\"035250\", \"강원랜드\"],\n",
        "    [\"008770\", \"호텔신라\"],\n",
        "    [\"005940\", \"NH투자증권\"],\n",
        "    [\"180640\", \"한진칼\"],\n",
        "    [\"016360\", \"삼성증권\"],\n",
        "    [\"064350\", \"현대로템\"],\n",
        "    [\"021240\", \"코웨이\"],\n",
        "    [\"282330\", \"BGF리테일\"],\n",
        "    [\"112610\", \"씨에스윈드\"],\n",
        "    [\"071050\", \"한국금융지주\"],\n",
        "    [\"002790\", \"아모레G\"],\n",
        "    [\"008930\", \"한미사이언스\"],\n",
        "    [\"004990\", \"롯데지주\"],\n",
        "    [\"010780\", \"쌍용C&E\"],\n",
        "    [\"001450\",  \"현대해상\"],\n",
        "    [\"111770\",  \"영원무역\"],\n",
        "    [\"272210\",  \"한화시스템\"],\n",
        "    [\"052690\",  \"한전기술\"],\n",
        "    [\"267260\",  \"HD현대일렉트릭\"],\n",
        "    [\"007070\",  \"GS리테일\"],\n",
        "    [\"028670\",  \"팬오션\"],\n",
        "    [\"139480\",  \"이마트\"]\n",
        "]\n",
        "print(len(stock_codes))"
      ]
    },
    {
      "cell_type": "code",
      "execution_count": 7,
      "metadata": {
        "colab": {
          "base_uri": "https://localhost:8080/",
          "height": 696
        },
        "id": "_K1yqPaekM4X",
        "outputId": "3d4c61ad-2da7-4070-cc47-2cd21e18c7f0"
      },
      "outputs": [
        {
          "output_type": "stream",
          "name": "stdout",
          "text": [
            "1번째 종목 삼성전자 추출중...   \n",
            "184개 추출완료\n",
            "2번째 종목 LG화학 추출중...   \n",
            "317개 추출완료\n",
            "3번째 종목 SK하이닉스 추출중...   \n",
            "381개 추출완료\n",
            "4번째 종목 삼성바이오로직스 추출중...   \n",
            "85개 추출완료\n",
            "5번째 종목 삼성전자우 추출중...   \n",
            "205개 추출완료\n",
            "6번째 종목 LG화학우 추출중...   \n",
            "314개 추출완료\n",
            "7번째 종목 삼성SDI 추출중...   \n",
            "321개 추출완료\n",
            "8번째 종목 현대차 추출중...   \n"
          ]
        },
        {
          "output_type": "error",
          "ename": "KeyboardInterrupt",
          "evalue": "ignored",
          "traceback": [
            "\u001b[0;31m---------------------------------------------------------------------------\u001b[0m",
            "\u001b[0;31mKeyboardInterrupt\u001b[0m                         Traceback (most recent call last)",
            "\u001b[0;32m<ipython-input-7-ce65c8e0a025>\u001b[0m in \u001b[0;36m<cell line: 2>\u001b[0;34m()\u001b[0m\n\u001b[1;32m      5\u001b[0m \u001b[0;34m\u001b[0m\u001b[0m\n\u001b[1;32m      6\u001b[0m     \u001b[0mdata\u001b[0m \u001b[0;34m=\u001b[0m \u001b[0mpreprocess_data\u001b[0m\u001b[0;34m(\u001b[0m\u001b[0mfdr\u001b[0m\u001b[0;34m.\u001b[0m\u001b[0mDataReader\u001b[0m\u001b[0;34m(\u001b[0m\u001b[0mcode\u001b[0m\u001b[0;34m,\u001b[0m \u001b[0;34m'1999-01-01'\u001b[0m\u001b[0;34m,\u001b[0m \u001b[0;34m'2022-12-31'\u001b[0m\u001b[0;34m)\u001b[0m\u001b[0;34m)\u001b[0m  \u001b[0;31m# 각 종목의 데이터 가져오기\u001b[0m\u001b[0;34m\u001b[0m\u001b[0;34m\u001b[0m\u001b[0m\n\u001b[0;32m----> 7\u001b[0;31m     \u001b[0mimages\u001b[0m \u001b[0;34m=\u001b[0m \u001b[0mconvert_image\u001b[0m\u001b[0;34m(\u001b[0m\u001b[0mdata\u001b[0m\u001b[0;34m,\u001b[0m \u001b[0;36m5000\u001b[0m\u001b[0;34m,\u001b[0m \u001b[0mday_num\u001b[0m\u001b[0;34m,\u001b[0m \u001b[0;36m0.05\u001b[0m\u001b[0;34m)\u001b[0m\u001b[0;34m\u001b[0m\u001b[0;34m\u001b[0m\u001b[0m\n\u001b[0m\u001b[1;32m      8\u001b[0m     \u001b[0mtrain_result\u001b[0m \u001b[0;34m+=\u001b[0m \u001b[0mimages\u001b[0m\u001b[0;34m\u001b[0m\u001b[0;34m\u001b[0m\u001b[0m\n\u001b[1;32m      9\u001b[0m     \u001b[0mprint\u001b[0m\u001b[0;34m(\u001b[0m\u001b[0;34mf\"{len(images)}개 추출완료\"\u001b[0m\u001b[0;34m)\u001b[0m\u001b[0;34m\u001b[0m\u001b[0;34m\u001b[0m\u001b[0m\n",
            "\u001b[0;32m<ipython-input-4-405a4abf09f8>\u001b[0m in \u001b[0;36mconvert_image\u001b[0;34m(data, num_images, day_num, change_std, save, test)\u001b[0m\n\u001b[1;32m    117\u001b[0m                 \u001b[0moverlapped\u001b[0m \u001b[0;34m=\u001b[0m \u001b[0mheight\u001b[0m \u001b[0;34m-\u001b[0m \u001b[0mvolume\u001b[0m\u001b[0;34m\u001b[0m\u001b[0;34m\u001b[0m\u001b[0m\n\u001b[1;32m    118\u001b[0m                 \u001b[0;32mif\u001b[0m \u001b[0moverlapped\u001b[0m \u001b[0;34m>=\u001b[0m \u001b[0;36m0\u001b[0m \u001b[0;32mand\u001b[0m \u001b[0moverlapped\u001b[0m \u001b[0;34m<\u001b[0m \u001b[0mheight\u001b[0m\u001b[0;34m:\u001b[0m\u001b[0;34m\u001b[0m\u001b[0;34m\u001b[0m\u001b[0m\n\u001b[0;32m--> 119\u001b[0;31m                     img[overlapped:, x] = [\n\u001b[0m\u001b[1;32m    120\u001b[0m                         \u001b[0malpha_blend\u001b[0m\u001b[0;34m(\u001b[0m\u001b[0mimg\u001b[0m\u001b[0;34m[\u001b[0m\u001b[0my\u001b[0m\u001b[0;34m,\u001b[0m \u001b[0mx\u001b[0m\u001b[0;34m]\u001b[0m\u001b[0;34m,\u001b[0m \u001b[0;34m[\u001b[0m\u001b[0;36m128\u001b[0m\u001b[0;34m,\u001b[0m \u001b[0;36m128\u001b[0m\u001b[0;34m,\u001b[0m \u001b[0;36m128\u001b[0m\u001b[0;34m,\u001b[0m \u001b[0;36m255\u001b[0m\u001b[0;34m]\u001b[0m\u001b[0;34m,\u001b[0m \u001b[0;36m0.45\u001b[0m\u001b[0;34m)\u001b[0m\u001b[0;34m\u001b[0m\u001b[0;34m\u001b[0m\u001b[0m\n\u001b[1;32m    121\u001b[0m                         \u001b[0;32mfor\u001b[0m \u001b[0my\u001b[0m \u001b[0;32min\u001b[0m \u001b[0mrange\u001b[0m\u001b[0;34m(\u001b[0m\u001b[0moverlapped\u001b[0m\u001b[0;34m,\u001b[0m \u001b[0mheight\u001b[0m\u001b[0;34m)\u001b[0m\u001b[0;34m\u001b[0m\u001b[0;34m\u001b[0m\u001b[0m\n",
            "\u001b[0;32m<ipython-input-4-405a4abf09f8>\u001b[0m in \u001b[0;36m<listcomp>\u001b[0;34m(.0)\u001b[0m\n\u001b[1;32m    118\u001b[0m                 \u001b[0;32mif\u001b[0m \u001b[0moverlapped\u001b[0m \u001b[0;34m>=\u001b[0m \u001b[0;36m0\u001b[0m \u001b[0;32mand\u001b[0m \u001b[0moverlapped\u001b[0m \u001b[0;34m<\u001b[0m \u001b[0mheight\u001b[0m\u001b[0;34m:\u001b[0m\u001b[0;34m\u001b[0m\u001b[0;34m\u001b[0m\u001b[0m\n\u001b[1;32m    119\u001b[0m                     img[overlapped:, x] = [\n\u001b[0;32m--> 120\u001b[0;31m                         \u001b[0malpha_blend\u001b[0m\u001b[0;34m(\u001b[0m\u001b[0mimg\u001b[0m\u001b[0;34m[\u001b[0m\u001b[0my\u001b[0m\u001b[0;34m,\u001b[0m \u001b[0mx\u001b[0m\u001b[0;34m]\u001b[0m\u001b[0;34m,\u001b[0m \u001b[0;34m[\u001b[0m\u001b[0;36m128\u001b[0m\u001b[0;34m,\u001b[0m \u001b[0;36m128\u001b[0m\u001b[0;34m,\u001b[0m \u001b[0;36m128\u001b[0m\u001b[0;34m,\u001b[0m \u001b[0;36m255\u001b[0m\u001b[0;34m]\u001b[0m\u001b[0;34m,\u001b[0m \u001b[0;36m0.45\u001b[0m\u001b[0;34m)\u001b[0m\u001b[0;34m\u001b[0m\u001b[0;34m\u001b[0m\u001b[0m\n\u001b[0m\u001b[1;32m    121\u001b[0m                         \u001b[0;32mfor\u001b[0m \u001b[0my\u001b[0m \u001b[0;32min\u001b[0m \u001b[0mrange\u001b[0m\u001b[0;34m(\u001b[0m\u001b[0moverlapped\u001b[0m\u001b[0;34m,\u001b[0m \u001b[0mheight\u001b[0m\u001b[0;34m)\u001b[0m\u001b[0;34m\u001b[0m\u001b[0;34m\u001b[0m\u001b[0m\n\u001b[1;32m    122\u001b[0m                     ]\n",
            "\u001b[0;32m<ipython-input-4-405a4abf09f8>\u001b[0m in \u001b[0;36malpha_blend\u001b[0;34m(color1, color2, alpha)\u001b[0m\n\u001b[1;32m      7\u001b[0m             \u001b[0mint\u001b[0m\u001b[0;34m(\u001b[0m\u001b[0;34m(\u001b[0m\u001b[0mcolor1\u001b[0m\u001b[0;34m[\u001b[0m\u001b[0;36m0\u001b[0m\u001b[0;34m]\u001b[0m \u001b[0;34m*\u001b[0m \u001b[0malpha\u001b[0m \u001b[0;34m+\u001b[0m \u001b[0mcolor2\u001b[0m\u001b[0;34m[\u001b[0m\u001b[0;36m0\u001b[0m\u001b[0;34m]\u001b[0m \u001b[0;34m*\u001b[0m \u001b[0;34m(\u001b[0m\u001b[0;36m1\u001b[0m \u001b[0;34m-\u001b[0m \u001b[0malpha\u001b[0m\u001b[0;34m)\u001b[0m\u001b[0;34m)\u001b[0m\u001b[0;34m)\u001b[0m\u001b[0;34m,\u001b[0m\u001b[0;34m\u001b[0m\u001b[0;34m\u001b[0m\u001b[0m\n\u001b[1;32m      8\u001b[0m             \u001b[0mint\u001b[0m\u001b[0;34m(\u001b[0m\u001b[0;34m(\u001b[0m\u001b[0mcolor1\u001b[0m\u001b[0;34m[\u001b[0m\u001b[0;36m1\u001b[0m\u001b[0;34m]\u001b[0m \u001b[0;34m*\u001b[0m \u001b[0malpha\u001b[0m \u001b[0;34m+\u001b[0m \u001b[0mcolor2\u001b[0m\u001b[0;34m[\u001b[0m\u001b[0;36m1\u001b[0m\u001b[0;34m]\u001b[0m \u001b[0;34m*\u001b[0m \u001b[0;34m(\u001b[0m\u001b[0;36m1\u001b[0m \u001b[0;34m-\u001b[0m \u001b[0malpha\u001b[0m\u001b[0;34m)\u001b[0m\u001b[0;34m)\u001b[0m\u001b[0;34m)\u001b[0m\u001b[0;34m,\u001b[0m\u001b[0;34m\u001b[0m\u001b[0;34m\u001b[0m\u001b[0m\n\u001b[0;32m----> 9\u001b[0;31m             \u001b[0mint\u001b[0m\u001b[0;34m(\u001b[0m\u001b[0;34m(\u001b[0m\u001b[0mcolor1\u001b[0m\u001b[0;34m[\u001b[0m\u001b[0;36m2\u001b[0m\u001b[0;34m]\u001b[0m \u001b[0;34m*\u001b[0m \u001b[0malpha\u001b[0m \u001b[0;34m+\u001b[0m \u001b[0mcolor2\u001b[0m\u001b[0;34m[\u001b[0m\u001b[0;36m2\u001b[0m\u001b[0;34m]\u001b[0m \u001b[0;34m*\u001b[0m \u001b[0;34m(\u001b[0m\u001b[0;36m1\u001b[0m \u001b[0;34m-\u001b[0m \u001b[0malpha\u001b[0m\u001b[0;34m)\u001b[0m\u001b[0;34m)\u001b[0m\u001b[0;34m)\u001b[0m\u001b[0;34m,\u001b[0m\u001b[0;34m\u001b[0m\u001b[0;34m\u001b[0m\u001b[0m\n\u001b[0m\u001b[1;32m     10\u001b[0m             \u001b[0;36m255\u001b[0m\u001b[0;34m,\u001b[0m\u001b[0;34m\u001b[0m\u001b[0;34m\u001b[0m\u001b[0m\n\u001b[1;32m     11\u001b[0m         ]\n",
            "\u001b[0;31mKeyboardInterrupt\u001b[0m: "
          ]
        }
      ],
      "source": [
        "train_result = []\n",
        "for i, ticker in enumerate(stock_codes):\n",
        "    code, name = ticker[0], ticker[1]\n",
        "    print(f\"{i+1}번째 종목 {name} 추출중...   \")\n",
        "\n",
        "    data = preprocess_data(fdr.DataReader(code, '1999-01-01', '2022-12-31'))  # 각 종목의 데이터 가져오기\n",
        "    images = convert_image(data, 5000, day_num, 0.05)\n",
        "    train_result += images\n",
        "    print(f\"{len(images)}개 추출완료\")\n",
        "\n",
        "train_images, train_labels = zip(*train_result)\n",
        "np.save('train_images.npy', train_images)\n",
        "np.save('train_labels.npy', train_labels)"
      ]
    },
    {
      "cell_type": "code",
      "execution_count": null,
      "metadata": {
        "id": "771GFSxOiteO"
      },
      "outputs": [],
      "source": [
        "print(len(train_result))"
      ]
    },
    {
      "cell_type": "code",
      "execution_count": null,
      "metadata": {
        "id": "AvGN-SLHHb2f"
      },
      "outputs": [],
      "source": [
        "test_result = []\n",
        "for i, ticker in enumerate(stock_codes):\n",
        "    code, name = ticker[0], ticker[1]\n",
        "    print(f\"{i+1}번째 종목 {name} 추출중...   \")\n",
        "\n",
        "    data = preprocess_data(fdr.DataReader(code, \"2022-10-01\"))  # 각 종목의 데이터 가져오기\n",
        "    images = convert_image(data, 3000, day_num, 0.05, test=True)\n",
        "    test_result += images\n",
        "    print(f\"{len(images)}개 추출완료\")\n",
        "\n",
        "test_images, test_labels = zip(*test_result)\n",
        "np.save('test_images.npy', test_images)\n",
        "np.save('test_labels.npy', test_labels)"
      ]
    },
    {
      "cell_type": "code",
      "execution_count": null,
      "metadata": {
        "id": "5R4mEBFyI8vL"
      },
      "outputs": [],
      "source": [
        "print(len(test_result))"
      ]
    },
    {
      "cell_type": "code",
      "execution_count": null,
      "metadata": {
        "id": "uG4HoK4aLhEd"
      },
      "outputs": [],
      "source": [
        "train_images = np.load('train_images.npy')\n",
        "train_labels = np.load('train_labels.npy')\n",
        "test_images = np.load('test_images.npy')\n",
        "test_labels = np.load('test_labels.npy')"
      ]
    },
    {
      "cell_type": "code",
      "execution_count": null,
      "metadata": {
        "id": "LXcTgIpXAmHS"
      },
      "outputs": [],
      "source": [
        "import matplotlib.pyplot as plt\n",
        "import numpy as np\n",
        "from PIL import Image\n",
        "\n",
        "images, labels = zip(*train_result)\n",
        "\n",
        "# 이미지 개수와 그리드 크기 설정\n",
        "num_images = len(images)\n",
        "num_to_display = 100\n",
        "grid_size = int(np.sqrt(num_to_display))\n",
        "\n",
        "# 랜덤으로 이미지 인덱스 선택\n",
        "random_indices = np.random.choice(num_images, num_to_display, replace=False)\n",
        "\n",
        "fig, axes = plt.subplots(grid_size, grid_size, figsize=(16, 16))\n",
        "for i in range(grid_size):\n",
        "    for j in range(grid_size):\n",
        "        img_idx = random_indices[i * grid_size + j]\n",
        "        img = Image.fromarray(images[img_idx])\n",
        "        axes[i, j].imshow(img)\n",
        "        axes[i, j].set_xticks([])\n",
        "        axes[i, j].set_yticks([])\n",
        "        axes[i, j].set_xlabel(f'Img {img_idx + 1}', fontsize=9)\n",
        "\n",
        "plt.subplots_adjust(wspace=0.1, hspace=0.1)\n",
        "plt.show()"
      ]
    },
    {
      "cell_type": "code",
      "execution_count": null,
      "metadata": {
        "id": "LiIORijyW5KM"
      },
      "outputs": [],
      "source": [
        "import matplotlib.pyplot as plt\n",
        "\n",
        "fig, axes = plt.subplots(10, 10, figsize=(16, 16))\n",
        "for i in range(10):\n",
        "    for j in range(10):\n",
        "        img_idx = i * 10 + j\n",
        "        img = Image.fromarray(test_images[img_idx])\n",
        "        axes[i, j].imshow(img)\n",
        "        axes[i, j].set_xticks([])\n",
        "        axes[i, j].set_yticks([])\n",
        "        axes[i, j].set_xlabel(f'Img {img_idx + 1}', fontsize=9)\n",
        "\n",
        "plt.subplots_adjust(wspace=0.1, hspace=0.1)\n",
        "plt.show()\n"
      ]
    },
    {
      "cell_type": "code",
      "execution_count": null,
      "metadata": {
        "id": "HtukNvrH4Wfj"
      },
      "outputs": [],
      "source": [
        "print(test_labels[:100])"
      ]
    },
    {
      "cell_type": "code",
      "execution_count": null,
      "metadata": {
        "id": "wqXMtCOq4bAE"
      },
      "outputs": [],
      "source": []
    }
  ],
  "metadata": {
    "colab": {
      "provenance": []
    },
    "kernelspec": {
      "display_name": "Python 3",
      "name": "python3"
    },
    "language_info": {
      "name": "python"
    }
  },
  "nbformat": 4,
  "nbformat_minor": 0
}