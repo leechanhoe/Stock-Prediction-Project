{
  "nbformat": 4,
  "nbformat_minor": 0,
  "metadata": {
    "colab": {
      "provenance": []
    },
    "kernelspec": {
      "name": "python3",
      "display_name": "Python 3"
    },
    "language_info": {
      "name": "python"
    }
  },
  "cells": [
    {
      "cell_type": "code",
      "source": [
        "!pip install finance-datareader\n",
        "!sudo apt-get install -y fonts-nanum\n",
        "!sudo fc-cache -fv\n",
        "!rm ~/.cache/matplotlib -rf"
      ],
      "metadata": {
        "colab": {
          "base_uri": "https://localhost:8080/"
        },
        "id": "BbHtiFjRhyMo",
        "outputId": "d8067ff9-0758-487c-c216-4495ea7a675e"
      },
      "execution_count": null,
      "outputs": [
        {
          "output_type": "stream",
          "name": "stdout",
          "text": [
            "Collecting finance-datareader\n",
            "  Downloading finance_datareader-0.9.50-py3-none-any.whl (19 kB)\n",
            "Requirement already satisfied: pandas>=0.19.2 in /usr/local/lib/python3.10/dist-packages (from finance-datareader) (1.5.3)\n",
            "Requirement already satisfied: requests>=2.3.0 in /usr/local/lib/python3.10/dist-packages (from finance-datareader) (2.31.0)\n",
            "Collecting requests-file (from finance-datareader)\n",
            "  Downloading requests_file-1.5.1-py2.py3-none-any.whl (3.7 kB)\n",
            "Requirement already satisfied: lxml in /usr/local/lib/python3.10/dist-packages (from finance-datareader) (4.9.3)\n",
            "Requirement already satisfied: tqdm in /usr/local/lib/python3.10/dist-packages (from finance-datareader) (4.66.0)\n",
            "Requirement already satisfied: python-dateutil>=2.8.1 in /usr/local/lib/python3.10/dist-packages (from pandas>=0.19.2->finance-datareader) (2.8.2)\n",
            "Requirement already satisfied: pytz>=2020.1 in /usr/local/lib/python3.10/dist-packages (from pandas>=0.19.2->finance-datareader) (2023.3)\n",
            "Requirement already satisfied: numpy>=1.21.0 in /usr/local/lib/python3.10/dist-packages (from pandas>=0.19.2->finance-datareader) (1.23.5)\n",
            "Requirement already satisfied: charset-normalizer<4,>=2 in /usr/local/lib/python3.10/dist-packages (from requests>=2.3.0->finance-datareader) (3.2.0)\n",
            "Requirement already satisfied: idna<4,>=2.5 in /usr/local/lib/python3.10/dist-packages (from requests>=2.3.0->finance-datareader) (3.4)\n",
            "Requirement already satisfied: urllib3<3,>=1.21.1 in /usr/local/lib/python3.10/dist-packages (from requests>=2.3.0->finance-datareader) (2.0.4)\n",
            "Requirement already satisfied: certifi>=2017.4.17 in /usr/local/lib/python3.10/dist-packages (from requests>=2.3.0->finance-datareader) (2023.7.22)\n",
            "Requirement already satisfied: six in /usr/local/lib/python3.10/dist-packages (from requests-file->finance-datareader) (1.16.0)\n",
            "Installing collected packages: requests-file, finance-datareader\n",
            "Successfully installed finance-datareader-0.9.50 requests-file-1.5.1\n",
            "Reading package lists... Done\n",
            "Building dependency tree... Done\n",
            "Reading state information... Done\n",
            "The following NEW packages will be installed:\n",
            "  fonts-nanum\n",
            "0 upgraded, 1 newly installed, 0 to remove and 16 not upgraded.\n",
            "Need to get 10.3 MB of archives.\n",
            "After this operation, 34.1 MB of additional disk space will be used.\n",
            "Get:1 http://archive.ubuntu.com/ubuntu jammy/universe amd64 fonts-nanum all 20200506-1 [10.3 MB]\n",
            "Fetched 10.3 MB in 1s (10.2 MB/s)\n",
            "debconf: unable to initialize frontend: Dialog\n",
            "debconf: (No usable dialog-like program is installed, so the dialog based frontend cannot be used. at /usr/share/perl5/Debconf/FrontEnd/Dialog.pm line 78, <> line 1.)\n",
            "debconf: falling back to frontend: Readline\n",
            "debconf: unable to initialize frontend: Readline\n",
            "debconf: (This frontend requires a controlling tty.)\n",
            "debconf: falling back to frontend: Teletype\n",
            "dpkg-preconfigure: unable to re-open stdin: \n",
            "Selecting previously unselected package fonts-nanum.\n",
            "(Reading database ... 120828 files and directories currently installed.)\n",
            "Preparing to unpack .../fonts-nanum_20200506-1_all.deb ...\n",
            "Unpacking fonts-nanum (20200506-1) ...\n",
            "Setting up fonts-nanum (20200506-1) ...\n",
            "Processing triggers for fontconfig (2.13.1-4.2ubuntu5) ...\n",
            "/usr/share/fonts: caching, new cache contents: 0 fonts, 1 dirs\n",
            "/usr/share/fonts/truetype: caching, new cache contents: 0 fonts, 3 dirs\n",
            "/usr/share/fonts/truetype/humor-sans: caching, new cache contents: 1 fonts, 0 dirs\n",
            "/usr/share/fonts/truetype/liberation: caching, new cache contents: 16 fonts, 0 dirs\n",
            "/usr/share/fonts/truetype/nanum: caching, new cache contents: 12 fonts, 0 dirs\n",
            "/usr/local/share/fonts: caching, new cache contents: 0 fonts, 0 dirs\n",
            "/root/.local/share/fonts: skipping, no such directory\n",
            "/root/.fonts: skipping, no such directory\n",
            "/usr/share/fonts/truetype: skipping, looped directory detected\n",
            "/usr/share/fonts/truetype/humor-sans: skipping, looped directory detected\n",
            "/usr/share/fonts/truetype/liberation: skipping, looped directory detected\n",
            "/usr/share/fonts/truetype/nanum: skipping, looped directory detected\n",
            "/var/cache/fontconfig: cleaning cache directory\n",
            "/root/.cache/fontconfig: not cleaning non-existent cache directory\n",
            "/root/.fontconfig: not cleaning non-existent cache directory\n",
            "fc-cache: succeeded\n"
          ]
        }
      ]
    },
    {
      "cell_type": "code",
      "source": [
        "from google.colab import drive\n",
        "drive.mount('/content/drive')"
      ],
      "metadata": {
        "colab": {
          "base_uri": "https://localhost:8080/"
        },
        "id": "mNmBvIi6z3Ex",
        "outputId": "17510a34-fce9-4e15-995a-c8720f85ca86"
      },
      "execution_count": null,
      "outputs": [
        {
          "output_type": "stream",
          "name": "stdout",
          "text": [
            "Mounted at /content/drive\n"
          ]
        }
      ]
    },
    {
      "cell_type": "code",
      "source": [
        "import FinanceDataReader as fdr\n",
        "import pandas as pd\n",
        "import numpy as np\n",
        "import matplotlib.pyplot as plt\n",
        "from PIL import Image\n",
        "from datetime import datetime, timedelta\n",
        "import random\n",
        "\n",
        "num_images = 5000\n",
        "day_num = 32"
      ],
      "metadata": {
        "id": "irOUonXJjVwT"
      },
      "execution_count": null,
      "outputs": []
    },
    {
      "cell_type": "code",
      "source": [
        "def convert_image(data, num_images, day_num, name, save = False, test = False):\n",
        "\n",
        "    def alpha_blend(color1, color2, alpha):\n",
        "        return [\n",
        "            int((color1[0] * alpha + color2[0] * (1 - alpha))),\n",
        "            int((color1[1] * alpha + color2[1] * (1 - alpha))),\n",
        "            int((color1[2] * alpha + color2[2] * (1 - alpha))),\n",
        "            255,\n",
        "        ]\n",
        "\n",
        "    # 데이터수가 너무 적으면 패스\n",
        "    if len(data) <= 100:\n",
        "        return []\n",
        "\n",
        "\n",
        "    # 해당 종목의 주가 데이터 - 100이 요구되는 이미지 수보다 적으면(상장직후는 변동이 심할 수있으니 제외)\n",
        "    if num_images > len(data) - 20 - day_num:\n",
        "        num_images = len(data) - 20 - day_num\n",
        "\n",
        "    #return_datas는 이미지, 라벨링(상승이면1 하락이면0), 변동률, 날짜를 담고있음\n",
        "    return_datas = []\n",
        "    prediction_day_num = 5\n",
        "\n",
        "\n",
        "    image_idx = 1\n",
        "    while(image_idx <= num_images):\n",
        "\n",
        "        if image_idx != 1:\n",
        "            stock_data = data[-image_idx - day_num + 1 : -image_idx + 1]\n",
        "        else:\n",
        "            stock_data = data[-day_num:]\n",
        "        # 이미지 크기 설정\n",
        "        width, height = 96, 96\n",
        "\n",
        "        # High, Low, Close, Volume 데이터 정규화\n",
        "        high_prices = stock_data['High'].values\n",
        "        low_prices = stock_data['Low'].values\n",
        "        close_prices = stock_data['Close'].values\n",
        "        volume_data = stock_data['Volume'].values\n",
        "\n",
        "        high_prices_norm = (high_prices - np.min(low_prices)) / (np.max(high_prices) - np.min(low_prices))\n",
        "        low_prices_norm = (low_prices - np.min(low_prices)) / (np.max(high_prices) - np.min(low_prices))\n",
        "        close_prices_norm = (close_prices - np.min(low_prices)) / (np.max(high_prices) - np.min(low_prices))\n",
        "        volume_data_norm = height * (volume_data) / (2 * (np.max(volume_data)))\n",
        "\n",
        "        # 이동평균선 추가를 위한 stock_data 생성\n",
        "        if image_idx != 1:\n",
        "            stock_data_ma20 = data[-image_idx - day_num - 19: -image_idx + 1]\n",
        "        else:\n",
        "            stock_data_ma20 = data[-image_idx - day_num - 19: ]\n",
        "\n",
        "        stock_data_ma20 = stock_data_ma20.copy()\n",
        "        stock_data_ma20['MA20'] = stock_data_ma20['Close'].rolling(window=20).mean()\n",
        "        stock_data_ma20.dropna(inplace=True)\n",
        "\n",
        "        # 이동평균선 값을 정규화\n",
        "        stock_data_ma20['MA20_norm'] = (\n",
        "                (stock_data_ma20['MA20'] - np.min(low_prices)) / (np.max(high_prices) - np.min(low_prices))\n",
        "            )\n",
        "\n",
        "        # 96x96 이미지 생성\n",
        "        img = np.zeros((height, width, 4), dtype=np.uint8)  # 4 channels for RGBA\n",
        "\n",
        "        fail_generate = False\n",
        "        for day in range(32):\n",
        "            high_price = int(high_prices_norm[day] * (height - 1))\n",
        "            low_price = int(low_prices_norm[day] * (height - 1))\n",
        "            close_price = int(close_prices_norm[day] * (height - 1))\n",
        "            open_price = int(\n",
        "                (\n",
        "                    (stock_data['Open'].values[day] - np.min(low_prices))\n",
        "                    / (np.max(high_prices) - np.min(low_prices))\n",
        "                )\n",
        "                * (height - 1)\n",
        "            )\n",
        "            volume = int(volume_data_norm[day])\n",
        "            if(volume == 0):\n",
        "                fail_generate = True\n",
        "                break\n",
        "\n",
        "            x_start = day * 3\n",
        "\n",
        "            # 시가, 종가, 고가, 저가 막대그래프\n",
        "            # 막대 왼쪽, 오른쪽 그리기 (시가, 종가 범위)\n",
        "            for x in range(x_start, x_start + 3):\n",
        "                if close_prices[day] > stock_data['Open'].values[day]:\n",
        "                    color = [255, 0, 0, 255]  # 상승: 빨강\n",
        "                    tail_color = [200, 0, 0, 255]  # 상승 시 꼬리: 어두운 빨강\n",
        "                elif close_prices[day] < stock_data['Open'].values[day]:\n",
        "                    color = [0, 0, 255, 255]  # 하락: 파랑\n",
        "                    tail_color = [0, 0, 200, 255]  # 하락 시 꼬리: 어두운 파랑\n",
        "                else: # 시가와 종가가 같을경우 어제보다 같거나 올랐으면 빨강, 아니면 파랑\n",
        "                    if 0 <= stock_data['Change'].values[day]:\n",
        "                        color = [255, 0, 0, 255]  # 상승: 빨강\n",
        "                        tail_color = [200, 0, 0, 255]  # 상승 시 꼬리: 어두운 빨강\n",
        "                    else:\n",
        "                        color = [0, 0, 255, 255]  # 하락: 파랑\n",
        "                        tail_color = [0, 0, 200, 255]  # 하락 시 꼬리: 어두운 파랑\n",
        "\n",
        "                for y in range(min(open_price, close_price), max(open_price, close_price) + 1):\n",
        "                    img[height - 1 - y, x] = color\n",
        "\n",
        "            # 꼬리 그리기 (High, Low 범위)\n",
        "            for x in range(x_start + 1, x_start + 2):\n",
        "                for y in range(low_price, high_price + 1):\n",
        "                    if img[height - 1 - y, x][0] != 255 and img[height - 1 - y, x][2] != 255:\n",
        "                        img[height - 1 - y, x] = tail_color\n",
        "\n",
        "            # 거래량 그리기\n",
        "            for x in range(x_start, x_start + 3):\n",
        "                overlapped = height - volume\n",
        "                if overlapped >= 0 and overlapped < height:\n",
        "                    img[overlapped:, x] = [\n",
        "                        alpha_blend(img[y, x], [128, 128, 128, 255], 0.45)\n",
        "                        for y in range(overlapped, height)\n",
        "                    ]\n",
        "\n",
        "            # 20일 이동평균선 그리기\n",
        "            ma20_norm = stock_data_ma20.iloc[day]['MA20_norm']\n",
        "\n",
        "            for x in range(x_start, x_start + 3):\n",
        "                if not np.isnan(ma20_norm):\n",
        "                    ma20_y = int(ma20_norm * (height - 1))\n",
        "                    if 0 <= ma20_y < height:\n",
        "                        for y in range(ma20_y - 1, ma20_y + 2):  # 이동평균선 주변에 블렌딩 처리\n",
        "                            if 0 <= y < height:\n",
        "                                new_color = alpha_blend([255, 255, 0, 255], img[height - 1 - y, x], 0.6)  # 노란색으로 변경\n",
        "                                img[height - 1 - y, x] = new_color\n",
        "\n",
        "        #이미지가 day_num(그려지기 원하는 거래일 수)미만으로 그려졌으면\n",
        "        if fail_generate:\n",
        "            image_idx += 1\n",
        "            continue\n",
        "\n",
        "        if save :\n",
        "            # 이미지 저장\n",
        "            img = Image.fromarray(img, 'RGBA')\n",
        "            img.save(f'stock_data_image_{image_idx}.png')\n",
        "\n",
        "\n",
        "        return_datas.append((img, name, stock_data.index[0], stock_data.index[-1]))\n",
        "\n",
        "        image_idx += 1\n",
        "\n",
        "\n",
        "    return return_datas"
      ],
      "metadata": {
        "id": "ZrhCToEcl2Wo"
      },
      "execution_count": null,
      "outputs": []
    },
    {
      "cell_type": "code",
      "source": [
        "def preprocess_data(data):\n",
        "    # 0이나 NaN을 포함하는 행 제거\n",
        "    data = data[data['Volume'] != 0]\n",
        "    data = data.dropna(how='any')\n",
        "\n",
        "    return data"
      ],
      "metadata": {
        "id": "FbkJs-LncrRx"
      },
      "execution_count": null,
      "outputs": []
    },
    {
      "cell_type": "code",
      "source": [
        "stock_codes = [\n",
        "    [\"005930\", \"삼성전자\"],\n",
        "    [\"051910\", \"LG화학\"],\n",
        "    [\"000660\", \"SK하이닉스\"],\n",
        "    [\"207940\", \"삼성바이오로직스\"],\n",
        "    [\"005935\", \"삼성전자우\"],\n",
        "    [\"051915\", \"LG화학우\"],\n",
        "    [\"006400\", \"삼성SDI\"],\n",
        "    [\"005380\", \"현대차\"],\n",
        "    [\"363280\", \"효성화학\"],\n",
        "    [\"247540\", \"에코프로비엠\"],\n",
        "    [\"000270\", \"기아\"],\n",
        "    [\"086520\", \"에코프로\"],\n",
        "    [\"035720\", \"카카오\"],\n",
        "    [\"068270\", \"셀트리온\"],\n",
        "    [\"012330\", \"현대모비스\"],\n",
        "    [\"105560\", \"KB금융\"],\n",
        "    [\"028260\", \"삼성물산\"],\n",
        "    [\"055550\", \"신한지주\"],\n",
        "    [\"096770\", \"SK이노베이션\"],\n",
        "    [\"066570\", \"LG전자\"],\n",
        "    [\"047050\", \"대우조선해양\"],\n",
        "    [\"032830\", \"삼성생명\"],\n",
        "    [\"323410\", \"카카오뱅크\"],\n",
        "    [\"003550\", \"LG\"],\n",
        "    [\"015760\", \"한국전력\"],\n",
        "    [\"000810\", \"삼성화재\"],\n",
        "    [\"033780\", \"KT&G\"],\n",
        "    [\"091990\", \"셀트리온헬스케어\"],\n",
        "    [\"009150\", \"삼성전기\"],\n",
        "    [\"086790\", \"하나금융지주\"],\n",
        "    [\"034730\", \"SK\"],\n",
        "    [\"336370\", \"솔루스첨단소재\"],\n",
        "    [\"352820\", \"하이브\"],\n",
        "    [\"018260\", \"삼성에스디에스\"],\n",
        "    [\"122630\", \"KODEX 레버리지\"],\n",
        "    [\"017670\", \"SK텔레콤\"],\n",
        "    [\"010130\", \"고려아연\"],\n",
        "    [\"024880\", \"케이씨케미칼\"],\n",
        "    [\"003490\", \"대한항공\"],\n",
        "    [\"010950\", \"S-Oil\"],\n",
        "    [\"086280\", \"현대글로비스\"],\n",
        "    [\"259960\", \"크래프톤\"],\n",
        "    [\"024110\", \"기업은행\"],\n",
        "    [\"030200\", \"케이티\"],\n",
        "    [\"316140\", \"우리금융지주\"],\n",
        "    [\"010140\", \"삼성중공업\"],\n",
        "    [\"090430\", \"아모레퍼시픽\"],\n",
        "    [\"051900\", \"LG생활건강\"],\n",
        "    [\"028050\", \"삼성엔지니어링\"],\n",
        "    [\"233740\", \"KODEX 코스닥 150 레버리지\"],\n",
        "    [\"011170\", \"롯데케미칼\"],\n",
        "    [\"000100\", \"유한양행\"],\n",
        "    [\"012450\", \"한화에어로스페이스\"],\n",
        "    [\"036570\", \"엔씨소프트\"],\n",
        "    [\"241560\", \"두산밥캣\"],\n",
        "    [\"005830\", \"DB손해보험\"],\n",
        "    [\"018880\", \"한온시스템\"],\n",
        "    [\"034220\", \"LG디스플레이\"],\n",
        "    [\"170030\", \"HD현대\"],\n",
        "    [\"088980\", \"맥쿼리인프라\"],\n",
        "    [\"005070\", \"코스모신소재\"],\n",
        "    [\"271560\", \"오리온\"],\n",
        "    [\"004020\", \"현대제철\"],\n",
        "    [\"097950\", \"CJ제일제당\"],\n",
        "    [\"047810\", \"한국항공우주\"],\n",
        "    [\"042700\", \"한미반도체\"],\n",
        "    [\"032640\", \"LG유플러스\"],\n",
        "    [\"307950\", \"현대오토에버\"],\n",
        "    [\"006800\", \"미래에셋증권\"],\n",
        "    [\"007700\", \"F&F홀딩스\"],\n",
        "    [\"251270\", \"넷마블\"],\n",
        "    [\"128940\", \"한미약품\"],\n",
        "    [\"000720\", \"현대건설\"],\n",
        "    [\"010620\", \"현대미포조선\"],\n",
        "    [\"006260\", \"LS\"],\n",
        "    [\"078930\", \"GS\"],\n",
        "    [\"011780\", \"금호석유\"],\n",
        "    [\"035250\", \"강원랜드\"],\n",
        "    [\"008770\", \"호텔신라\"],\n",
        "    [\"005940\", \"NH투자증권\"],\n",
        "    [\"180640\", \"한진칼\"],\n",
        "    [\"016360\", \"삼성증권\"],\n",
        "    [\"064350\", \"현대로템\"],\n",
        "    [\"021240\", \"코웨이\"],\n",
        "    [\"282330\", \"BGF리테일\"],\n",
        "    [\"112610\", \"씨에스윈드\"],\n",
        "    [\"071050\", \"한국금융지주\"],\n",
        "    [\"002790\", \"아모레G\"],\n",
        "    [\"008930\", \"한미사이언스\"],\n",
        "    [\"004990\", \"롯데지주\"],\n",
        "    [\"010780\", \"쌍용C&E\"],\n",
        "    [\"001450\",  \"현대해상\"],\n",
        "    [\"111770\",  \"영원무역\"],\n",
        "    [\"272210\",  \"한화시스템\"],\n",
        "    [\"052690\",  \"한전기술\"],\n",
        "    [\"267260\",  \"HD현대일렉트릭\"],\n",
        "    [\"007070\",  \"GS리테일\"],\n",
        "    [\"028670\",  \"팬오션\"],\n",
        "    [\"139480\",  \"이마트\"],\n",
        "    [\"035900\", \"JYP Ent.\"], # 여기서부터는 코스닥\n",
        "    [\"263750\", \"펄어비스\"],\n",
        "    [\"293490\", \"카카오게임즈\"],\n",
        "    [\"196170\", \"알테오젠\"],\n",
        "    [\"058470\", \"리노공업\"],\n",
        "    [\"214150\", \"클래시스\"],\n",
        "    [\"039030\", \"이오테크닉스\"],\n",
        "    [\"278280\", \"천보\"],\n",
        "    [\"137400\", \"피엔티\"],\n",
        "    [\"237690\", \"에스티팜\"],\n",
        "    [\"214450\", \"파마리서치\"],\n",
        "    [\"240810\", \"원익IPS\"],\n",
        "    [\"145020\", \"휴젤\"],\n",
        "    [\"035760\", \"CJ ENM\"],\n",
        "    [\"056190\", \"에스에프에이\"],\n",
        "    [\"036930\", \"주성엔지니어링\"],\n",
        "    [\"064760\", \"티씨케이\"],\n",
        "    [\"213420\", \"덕산네오룩스\"],\n",
        "    [\"195940\", \"HK이노엔\"],\n",
        "    [\"014130\", \"레고켐바이오\"],\n",
        "    [\"098460\", \"고영\"],\n",
        "    [\"067310\", \"하나마이크론\"],\n",
        "    [\"166090\", \"하나머티리얼즈\"],\n",
        "    [\"348210\", \"넥스틴\"],\n",
        "    [\"003380\", \"하림지주\"],\n",
        "    [\"272290\", \"이녹스첨단소재\"],\n",
        "    [\"085660\", \"차바이오텍\"],\n",
        "    [\"074610\", \"원익QnC\"],\n",
        "    [\"083470\", \"유진테크\"],\n",
        "    [\"046890\", \"서울반도체\"],\n",
        "    [\"086450\", \"동국제약\"],\n",
        "    [\"215000\", \"골프존\"],\n",
        "    [\"215200\", \"메가스터디교육\"],\n",
        "    [\"319660\", \"피에스케이\"],\n",
        "    [\"183300\", \"코미코\"],\n",
        "    [\"200130\", \"콜마비앤에이치\"],\n",
        "    [\"069080\", \"웹젠\"],\n",
        "    [\"036830\", \"솔브레인홀딩스\"],\n",
        "    [\"084850\", \"아이티엠반도체\"],\n",
        "    [\"243070\", \"휴온스\"],\n",
        "    [\"049070\", \"인탑스\"],\n",
        "    [\"131290\", \"티에스이\"],\n",
        "    [\"091700\", \"파트론\"],\n",
        "    [\"064550\", \"바이오니아\"],\n",
        "    [\"019550\", \"SFA반도체\"],\n",
        "    [\"095610\", \"테스\"],\n",
        "    [\"230360\", \"에코마케팅\"],\n",
        "    [\"267980\", \"매일유업\"],\n",
        "    ['205470', '휴마시스'],\n",
        "    ['060150', '인선이엔티'],\n",
        "    ['417010', '나노팀'],\n",
        "    ['036620', '감성코퍼레이션'],\n",
        "    ['047920', 'HLB제약'],\n",
        "    ['243840', '신흥에스이씨'],\n",
        "    ['217270', '넵튠'],\n",
        "    ['056080', '유진로봇'],\n",
        "    ['018290', '브이티'],\n",
        "    ['108490', '로보티즈'],\n",
        "    ['059090', '미코'],\n",
        "    ['348340', '뉴로메카'],\n",
        "    ['041830', '인바디'],\n",
        "    ['101360', '에코앤드림'],\n",
        "    ['013030', '하이록코리아'],\n",
        "    ['038500', '삼표시멘트'],\n",
        "    ['307750', '국전약품'],\n",
        "    ['049950', '미래컴퍼니'],\n",
        "    ['092040', '아미코젠'],\n",
        "    ['382840', '원준'],\n",
        "    ['094360', '칩스앤미디어'],\n",
        "    ['290670', '대보마그네틱'],\n",
        "    ['029960', '코엔텍'],\n",
        "    ['058820', 'CMG제약'],\n",
        "    ['314930', '바이오다인'],\n",
        "    ['047310', '파워로직스'],\n",
        "    ['297090', '씨에스베어링'],\n",
        "    ['104830', '원익머트리얼즈'],\n",
        "    ['282880', '코윈테크'],\n",
        "    ['077360', '덕산하이메탈'],\n",
        "    ['214610', '미코바이오메드'],\n",
        "    ['297890', 'HB솔루션'],\n",
        "    ['122640', '예스티'],\n",
        "    ['054210', '이랜텍'],\n",
        "    ['285490', '노바텍'],\n",
        "    ['025770', '한국정보통신'],\n",
        "    ['089010', '켐트로닉스'],\n",
        "    ['053030', '바이넥스'],\n",
        "    ['030520', '한글과컴퓨터'],\n",
        "    ['060370', 'KT서브마린'],\n",
        "    ['126340', '비나텍'],\n",
        "    ['254490', '미래반도체'],\n",
        "    ['235980', '메드팩토'],\n",
        "    ['102940', '코오롱생명과학'],\n",
        "    ['101730', '위메이드맥스'],\n",
        "    ['093320', '케이아이엔엑스'],\n",
        "    ['251970', '펌텍코리아'],\n",
        "    ['005160', '동국산업'],\n",
        "    ['051500', 'CJ프레시웨이'],\n",
        "    ['005090', 'SGC에너지'],\n",
        "    ['232140', '와이아이케이'],\n",
        "    ['000210', 'DL'],\n",
        "    ['053210', '스카이라이프'],\n",
        "]\n",
        "print(len(stock_codes))\n",
        "\n",
        "def check_duplicate_stock_codes(stock_codes):\n",
        "    stock_codes_set = set()\n",
        "\n",
        "    for code, name in stock_codes:\n",
        "        if code in stock_codes_set:\n",
        "            print(f\"중복된 종목코드 발견: {code} ({name})\")\n",
        "        else:\n",
        "            stock_codes_set.add(code)\n",
        "\n",
        "    if len(stock_codes_set) == len(stock_codes):\n",
        "        print(\"중복된 종목코드가 없습니다.\")\n",
        "\n",
        "# 종목코드 중복 여부 확인\n",
        "check_duplicate_stock_codes(stock_codes)"
      ],
      "metadata": {
        "colab": {
          "base_uri": "https://localhost:8080/"
        },
        "id": "gv6i6C7IjCPo",
        "outputId": "b2f33fb9-bf3d-4cc3-af1c-d841a4d5676a"
      },
      "execution_count": null,
      "outputs": [
        {
          "output_type": "stream",
          "name": "stdout",
          "text": [
            "200\n",
            "중복된 종목코드가 없습니다.\n"
          ]
        }
      ]
    },
    {
      "cell_type": "code",
      "source": [
        "test_images = []\n",
        "for i, ticker in enumerate(stock_codes[:1]):\n",
        "    code, name = ticker[0], ticker[1]\n",
        "    print(f\"{i+1}번째 종목 {name} 추출중...   \")\n",
        "\n",
        "    data = preprocess_data(fdr.DataReader(code, '2022-12-01'))  # 각 종목의 데이터 가져오기\n",
        "    images = convert_image(data, 3000, day_num, name, test=True)\n",
        "    test_images += images\n",
        "    print(f\"{len(images)}개 추출완료\")\n",
        "\n",
        "print(test_images[-1])\n",
        "# np.save('test_images.npy', test_images)"
      ],
      "metadata": {
        "colab": {
          "base_uri": "https://localhost:8080/"
        },
        "id": "AvGN-SLHHb2f",
        "outputId": "f9029026-bfa4-4cce-a95e-28903c471996"
      },
      "execution_count": null,
      "outputs": [
        {
          "output_type": "stream",
          "name": "stdout",
          "text": [
            "1번째 종목 삼성전자 추출중...   \n",
            "122개 추출완료\n",
            "(array([[[  0,   0,   0,   0],\n",
            "        [  0,   0,   0,   0],\n",
            "        [  0,   0,   0,   0],\n",
            "        ...,\n",
            "        [  0,   0,   0,   0],\n",
            "        [  0,   0,   0,   0],\n",
            "        [  0,   0,   0,   0]],\n",
            "\n",
            "       [[  0,   0,   0,   0],\n",
            "        [  0,   0,   0,   0],\n",
            "        [  0,   0,   0,   0],\n",
            "        ...,\n",
            "        [  0,   0,   0,   0],\n",
            "        [  0,   0,   0,   0],\n",
            "        [  0,   0,   0,   0]],\n",
            "\n",
            "       [[  0,   0,   0,   0],\n",
            "        [  0,   0,   0,   0],\n",
            "        [  0,   0,   0,   0],\n",
            "        ...,\n",
            "        [  0,   0,   0,   0],\n",
            "        [  0,   0,   0,   0],\n",
            "        [  0,   0,   0,   0]],\n",
            "\n",
            "       ...,\n",
            "\n",
            "       [[ 70,  70,  70, 255],\n",
            "        [ 70,  70,  70, 255],\n",
            "        [ 70,  70,  70, 255],\n",
            "        ...,\n",
            "        [ 70,  70,  70, 255],\n",
            "        [ 70,  70,  70, 255],\n",
            "        [ 70,  70,  70, 255]],\n",
            "\n",
            "       [[ 70,  70,  70, 255],\n",
            "        [ 70,  70,  70, 255],\n",
            "        [ 70,  70,  70, 255],\n",
            "        ...,\n",
            "        [ 70,  70,  70, 255],\n",
            "        [ 70,  70,  70, 255],\n",
            "        [ 70,  70,  70, 255]],\n",
            "\n",
            "       [[ 70,  70,  70, 255],\n",
            "        [ 70,  70,  70, 255],\n",
            "        [ 70,  70,  70, 255],\n",
            "        ...,\n",
            "        [ 70,  70,  70, 255],\n",
            "        [ 70,  70,  70, 255],\n",
            "        [ 70,  70,  70, 255]]], dtype=uint8), '삼성전자', Timestamp('2023-01-02 00:00:00'), Timestamp('2023-02-16 00:00:00'))\n"
          ]
        }
      ]
    },
    {
      "cell_type": "code",
      "source": [
        "print(len(test_images))"
      ],
      "metadata": {
        "colab": {
          "base_uri": "https://localhost:8080/"
        },
        "id": "5R4mEBFyI8vL",
        "outputId": "80a43970-a1fb-46f5-e59a-cda87c093e9b"
      },
      "execution_count": null,
      "outputs": [
        {
          "output_type": "stream",
          "name": "stdout",
          "text": [
            "1\n"
          ]
        }
      ]
    },
    {
      "cell_type": "code",
      "source": [
        "from keras.models import load_model\n",
        "\n",
        "model = load_model('drive/MyDrive/Colab Notebooks/change3_5247.h5')"
      ],
      "metadata": {
        "id": "HtukNvrH4Wfj"
      },
      "execution_count": null,
      "outputs": []
    },
    {
      "cell_type": "code",
      "source": [
        "test_images2 = [image[0][:, :, :, :3] for image in test_images]\n",
        "test_images2 = np.array(test_images2).reshape(-1, 96, 96, 3) / 255.0"
      ],
      "metadata": {
        "id": "wqXMtCOq4bAE"
      },
      "execution_count": null,
      "outputs": []
    },
    {
      "cell_type": "code",
      "source": [
        "predictions = model.predict(test_images2)"
      ],
      "metadata": {
        "colab": {
          "base_uri": "https://localhost:8080/"
        },
        "id": "FMKML3GH5IFZ",
        "outputId": "be409a27-2fb1-433d-8e6a-7771730e4093"
      },
      "execution_count": null,
      "outputs": [
        {
          "output_type": "stream",
          "name": "stdout",
          "text": [
            "1/1 [==============================] - 0s 122ms/step\n"
          ]
        }
      ]
    },
    {
      "cell_type": "code",
      "source": [
        "threshold = 0.5\n",
        "predicted_labels = (predictions > threshold).astype(int).flatten()\n",
        "\n",
        "# 출력의 형태를 확인하려면 다음 코드를 추가하세요.\n",
        "print(\"Predicted labels:\", predicted_labels)"
      ],
      "metadata": {
        "colab": {
          "base_uri": "https://localhost:8080/"
        },
        "id": "c4IVWN1iAMrj",
        "outputId": "385cdae8-b200-42f4-e96b-e7c475858b39"
      },
      "execution_count": null,
      "outputs": [
        {
          "output_type": "stream",
          "name": "stdout",
          "text": [
            "Predicted labels: [0]\n"
          ]
        }
      ]
    },
    {
      "cell_type": "code",
      "source": [
        "import matplotlib.pyplot as plt\n",
        "from datetime import datetime\n",
        "plt.rc('font', family='NanumBarunGothic')\n",
        "\n",
        "# 현재 날짜를 'x월 x일' 형식으로 변환합니다.\n",
        "today = datetime.now().strftime(\"%m월 %d일\")\n",
        "\n",
        "fig, axes = plt.subplots(10, 10, figsize=(16, 16))\n",
        "for i in range(10):\n",
        "    for j in range(10):\n",
        "        img_idx = i * 10 + j\n",
        "        img = Image.fromarray(test_images[img_idx])\n",
        "        axes[i, j].imshow(img)\n",
        "        axes[i, j].set_xticks([])\n",
        "        axes[i, j].set_yticks([])\n",
        "        # 색상 변경을 위해 text 함수를 사용합니다.\n",
        "        color = 'red' if predicted_labels[i*10 + j] else 'blue'\n",
        "        text = f'{stock_codes[i*10 + j][1]} : {\"상승\" if predicted_labels[i*10 + j] else \"하락\"}'\n",
        "        axes[i, j].text(0.5, -0.15, text, fontsize=9, color=color, ha='center', va='center', transform=axes[i, j].transAxes)\n",
        "\n",
        "# 제목 추가 (날짜 포함)\n",
        "plt.suptitle(f'{today} 종가대비 향후 5거래일 평균 가격 예상', fontsize=20, y=0.95)\n",
        "\n",
        "plt.subplots_adjust(wspace=0.1, hspace=0.3)\n",
        "plt.show()\n"
      ],
      "metadata": {
        "colab": {
          "base_uri": "https://localhost:8080/",
          "height": 1000
        },
        "id": "QszUwZF6JaHO",
        "outputId": "a5fcb5c4-f6eb-4856-8790-d9c87b02b558"
      },
      "execution_count": null,
      "outputs": [
        {
          "output_type": "error",
          "ename": "IndexError",
          "evalue": "ignored",
          "traceback": [
            "\u001b[0;31m---------------------------------------------------------------------------\u001b[0m",
            "\u001b[0;31mIndexError\u001b[0m                                Traceback (most recent call last)",
            "\u001b[0;32m<ipython-input-37-482bfd5f50b1>\u001b[0m in \u001b[0;36m<cell line: 9>\u001b[0;34m()\u001b[0m\n\u001b[1;32m     10\u001b[0m     \u001b[0;32mfor\u001b[0m \u001b[0mj\u001b[0m \u001b[0;32min\u001b[0m \u001b[0mrange\u001b[0m\u001b[0;34m(\u001b[0m\u001b[0;36m10\u001b[0m\u001b[0;34m)\u001b[0m\u001b[0;34m:\u001b[0m\u001b[0;34m\u001b[0m\u001b[0;34m\u001b[0m\u001b[0m\n\u001b[1;32m     11\u001b[0m         \u001b[0mimg_idx\u001b[0m \u001b[0;34m=\u001b[0m \u001b[0mi\u001b[0m \u001b[0;34m*\u001b[0m \u001b[0;36m10\u001b[0m \u001b[0;34m+\u001b[0m \u001b[0mj\u001b[0m\u001b[0;34m\u001b[0m\u001b[0;34m\u001b[0m\u001b[0m\n\u001b[0;32m---> 12\u001b[0;31m         \u001b[0mimg\u001b[0m \u001b[0;34m=\u001b[0m \u001b[0mImage\u001b[0m\u001b[0;34m.\u001b[0m\u001b[0mfromarray\u001b[0m\u001b[0;34m(\u001b[0m\u001b[0mtest_images\u001b[0m\u001b[0;34m[\u001b[0m\u001b[0mimg_idx\u001b[0m\u001b[0;34m]\u001b[0m\u001b[0;34m)\u001b[0m\u001b[0;34m\u001b[0m\u001b[0;34m\u001b[0m\u001b[0m\n\u001b[0m\u001b[1;32m     13\u001b[0m         \u001b[0maxes\u001b[0m\u001b[0;34m[\u001b[0m\u001b[0mi\u001b[0m\u001b[0;34m,\u001b[0m \u001b[0mj\u001b[0m\u001b[0;34m]\u001b[0m\u001b[0;34m.\u001b[0m\u001b[0mimshow\u001b[0m\u001b[0;34m(\u001b[0m\u001b[0mimg\u001b[0m\u001b[0;34m)\u001b[0m\u001b[0;34m\u001b[0m\u001b[0;34m\u001b[0m\u001b[0m\n\u001b[1;32m     14\u001b[0m         \u001b[0maxes\u001b[0m\u001b[0;34m[\u001b[0m\u001b[0mi\u001b[0m\u001b[0;34m,\u001b[0m \u001b[0mj\u001b[0m\u001b[0;34m]\u001b[0m\u001b[0;34m.\u001b[0m\u001b[0mset_xticks\u001b[0m\u001b[0;34m(\u001b[0m\u001b[0;34m[\u001b[0m\u001b[0;34m]\u001b[0m\u001b[0;34m)\u001b[0m\u001b[0;34m\u001b[0m\u001b[0;34m\u001b[0m\u001b[0m\n",
            "\u001b[0;31mIndexError\u001b[0m: list index out of range"
          ]
        },
        {
          "output_type": "display_data",
          "data": {
            "text/plain": [
              "<Figure size 1600x1600 with 100 Axes>"
            ],
            "image/png": "[encoded data removed]"
          },
          "metadata": {}
        }
      ]
    },
    {
      "cell_type": "code",
      "source": [
        "a = fdr.DataReader('035250')\n",
        "print(a.tail())"
      ],
      "metadata": {
        "colab": {
          "base_uri": "https://localhost:8080/"
        },
        "id": "f2hC0rM3NNkV",
        "outputId": "0ec7cd16-80a8-4e75-8584-1e899b19f355"
      },
      "execution_count": null,
      "outputs": [
        {
          "output_type": "stream",
          "name": "stdout",
          "text": [
            "             Open   High    Low  Close   Volume    Change\n",
            "Date                                                     \n",
            "2023-08-04  15640  15910  15520  15840   526457  0.022595\n",
            "2023-08-07  15840  16300  15840  16160   818666  0.020202\n",
            "2023-08-08  16390  16740  15990  16070  1248098 -0.005569\n",
            "2023-08-09  16140  16140  15830  16070   410114  0.000000\n",
            "2023-08-10  16680  17270  16450  16680  3594068  0.037959\n"
          ]
        }
      ]
    },
    {
      "cell_type": "code",
      "source": [],
      "metadata": {
        "id": "pixO0ilFNZyH"
      },
      "execution_count": null,
      "outputs": []
    }
  ]
}