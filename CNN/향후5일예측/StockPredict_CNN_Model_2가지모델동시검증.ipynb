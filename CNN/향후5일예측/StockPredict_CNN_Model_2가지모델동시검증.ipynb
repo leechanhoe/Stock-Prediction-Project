{
  "nbformat": 4,
  "nbformat_minor": 0,
  "metadata": {
    "colab": {
      "provenance": [],
      "gpuType": "T4"
    },
    "kernelspec": {
      "name": "python3",
      "display_name": "Python 3"
    },
    "language_info": {
      "name": "python"
    },
    "accelerator": "GPU"
  },
  "cells": [
    {
      "cell_type": "code",
      "execution_count": 2,
      "metadata": {
        "id": "g5Nv0eK6QVyW"
      },
      "outputs": [],
      "source": [
        "import numpy as np\n",
        "import tensorflow as tf\n",
        "from tensorflow.keras.models import Sequential\n",
        "from tensorflow.keras.layers import Conv2D, MaxPooling2D, Flatten, Dense, Dropout, BatchNormalization, MaxPool2D"
      ]
    },
    {
      "cell_type": "code",
      "source": [
        "from google.colab import drive\n",
        "drive.mount('/content/drive')"
      ],
      "metadata": {
        "colab": {
          "base_uri": "https://localhost:8080/"
        },
        "id": "Fh9d8l_PQ89m",
        "outputId": "1bbfc5db-9126-4d30-f750-83bb41bee3c8"
      },
      "execution_count": 2,
      "outputs": [
        {
          "output_type": "stream",
          "name": "stdout",
          "text": [
            "Drive already mounted at /content/drive; to attempt to forcibly remount, call drive.mount(\"/content/drive\", force_remount=True).\n"
          ]
        }
      ]
    },
    {
      "cell_type": "code",
      "source": [
        "# train_images = np.load('drive/MyDrive/Colab Notebooks/train_images_200.npy')\n",
        "# train_labels = np.load('drive/MyDrive/Colab Notebooks/train_labels_200.npy')\n",
        "# test_images5 = np.load('drive/MyDrive/Colab Notebooks/test_images_change5.npy')\n",
        "# test_labels5 = np.load('drive/MyDrive/Colab Notebooks/test_labels_change5.npy')\n",
        "# test_images3 = np.load('drive/MyDrive/Colab Notebooks/test_images_change3.npy')\n",
        "# test_labels3 = np.load('drive/MyDrive/Colab Notebooks/test_labels_change3.npy')"
      ],
      "metadata": {
        "id": "51uF5k_dQbbe"
      },
      "execution_count": 3,
      "outputs": []
    },
    {
      "cell_type": "code",
      "source": [
        "test_images = np.load('drive/MyDrive/Colab Notebooks/test_images_200.npy')\n",
        "test_labels = np.load('drive/MyDrive/Colab Notebooks/test_labels_200.npy')\n",
        "test_images = np.array(test_images).reshape(-1, 96, 96, 3) / 255.0\n",
        "test_labels_one_hot = np.eye(2)[test_labels]"
      ],
      "metadata": {
        "id": "n_8NWTCoYX81"
      },
      "execution_count": 3,
      "outputs": []
    },
    {
      "cell_type": "markdown",
      "source": [],
      "metadata": {
        "id": "F9HMIWQDoK_X"
      }
    },
    {
      "cell_type": "code",
      "source": [
        "from sklearn.model_selection import train_test_split\n",
        "\n",
        "# train_images = np.array(train_images).reshape(-1, 96, 96, 3) / 255.0\n",
        "# test_images5 = np.array(test_images5).reshape(-1, 96, 96, 3) / 255.0\n",
        "# test_images3 = np.array(test_images3).reshape(-1, 96, 96, 3) / 255.0\n",
        "\n",
        "# train_labels_one_hot = np.eye(2)[train_labels]\n",
        "# test_labels_one_hot5 = np.eye(2)[test_labels5]\n",
        "# test_labels_one_hot3 = np.eye(2)[test_labels3]"
      ],
      "metadata": {
        "id": "WYFCbpYqR35_"
      },
      "execution_count": 4,
      "outputs": []
    },
    {
      "cell_type": "code",
      "source": [
        "from keras.models import load_model\n",
        "\n",
        "model5 = load_model('drive/MyDrive/Colab Notebooks/change5_5472.h5')\n",
        "model3 = load_model('drive/MyDrive/Colab Notebooks/change3_5247.h5')"
      ],
      "metadata": {
        "id": "wwUkDW0cS3RG"
      },
      "execution_count": 4,
      "outputs": []
    },
    {
      "cell_type": "code",
      "source": [
        "test_loss, test_acc = model3.evaluate(test_images, test_labels_one_hot, verbose=2)\n",
        "test_loss, test_acc = model5.evaluate(test_images, test_labels_one_hot, verbose=2)"
      ],
      "metadata": {
        "id": "MDHzRodjlwEs",
        "colab": {
          "base_uri": "https://localhost:8080/"
        },
        "outputId": "3472d003-cf25-4950-c9aa-6ca5fdd5476a"
      },
      "execution_count": 5,
      "outputs": [
        {
          "output_type": "stream",
          "name": "stdout",
          "text": [
            "313/313 - 15s - loss: 0.7018 - acc: 0.5080 - 15s/epoch - 47ms/step\n",
            "313/313 - 6s - loss: 0.7770 - acc: 0.5162 - 6s/epoch - 18ms/step\n"
          ]
        }
      ]
    },
    {
      "cell_type": "code",
      "source": [
        "# 테스트 데이터셋에 대한 예측 생성\n",
        "pred_probs3 = model3.predict(test_images)\n",
        "pred_probs5 = model5.predict(test_images)"
      ],
      "metadata": {
        "id": "AyZd6wFJfADB",
        "colab": {
          "base_uri": "https://localhost:8080/"
        },
        "outputId": "56b962a3-ec26-479c-bad1-b762d00fc07f"
      },
      "execution_count": 5,
      "outputs": [
        {
          "output_type": "stream",
          "name": "stdout",
          "text": [
            "313/313 [==============================] - 14s 18ms/step\n",
            "313/313 [==============================] - 5s 16ms/step\n"
          ]
        }
      ]
    },
    {
      "cell_type": "code",
      "source": [
        "# 두 모델이 예측한 라벨값이 다르든 같든\n",
        "\n",
        "selected_images = []\n",
        "selected_labels = []\n",
        "\n",
        "for i in range(len(test_images)):\n",
        "    if any(0.815 >= p >= 0.662 for p in pred_probs3[i]) and any(0.815 >= p >= 0.662 for p in pred_probs5[i]):\n",
        "        selected_images.append(test_images[i])\n",
        "        selected_labels.append(test_labels_one_hot[i])\n",
        "\n",
        "selected_images = np.array(selected_images)\n",
        "selected_labels = np.array(selected_labels)\n",
        "\n",
        "print(len(selected_images))"
      ],
      "metadata": {
        "colab": {
          "base_uri": "https://localhost:8080/"
        },
        "id": "AOpFD43eXzEI",
        "outputId": "6eaef73c-12d3-43cd-82e7-91c79a96c6fb"
      },
      "execution_count": 163,
      "outputs": [
        {
          "output_type": "stream",
          "name": "stdout",
          "text": [
            "160\n"
          ]
        }
      ]
    },
    {
      "cell_type": "code",
      "source": [
        "# 두 모델 같은 라벨이 정답이라고 했을때\n",
        "\n",
        "selected_images = []\n",
        "selected_labels = []\n",
        "\n",
        "for i in range(len(test_images)):\n",
        "    pred_probs5_max_idx = np.argmax(pred_probs5[i])\n",
        "    pred_probs3_max_idx = np.argmax(pred_probs3[i])\n",
        "\n",
        "    if pred_probs5_max_idx == pred_probs3_max_idx and 0.815 >= pred_probs5[i][pred_probs5_max_idx] >= 0.662 and 0.815 >= pred_probs3[i][pred_probs3_max_idx] >= 0.662:\n",
        "        selected_images.append(test_images[i])\n",
        "        selected_labels.append(test_labels_one_hot[i])\n",
        "\n",
        "selected_images = np.array(selected_images)\n",
        "selected_labels = np.array(selected_labels)\n",
        "\n",
        "print(len(selected_images))"
      ],
      "metadata": {
        "colab": {
          "base_uri": "https://localhost:8080/"
        },
        "id": "FxP34YTGchVq",
        "outputId": "0422640a-8ce0-4bbe-cdc9-68b60be766c7"
      },
      "execution_count": 160,
      "outputs": [
        {
          "output_type": "stream",
          "name": "stdout",
          "text": [
            "149\n"
          ]
        }
      ]
    },
    {
      "cell_type": "code",
      "source": [
        "test_loss, test_acc = model5.evaluate(selected_images, selected_labels, verbose=2)\n",
        "test_loss, test_acc = model3.evaluate(selected_images, selected_labels, verbose=2)"
      ],
      "metadata": {
        "colab": {
          "base_uri": "https://localhost:8080/"
        },
        "id": "MU-dQ1B6co4x",
        "outputId": "091d77c8-0b8b-44fd-df89-dfe54e112ae9"
      },
      "execution_count": 164,
      "outputs": [
        {
          "output_type": "stream",
          "name": "stdout",
          "text": [
            "5/5 - 0s - loss: 0.7249 - acc: 0.5875 - 129ms/epoch - 26ms/step\n",
            "5/5 - 0s - loss: 0.6722 - acc: 0.6438 - 128ms/epoch - 26ms/step\n"
          ]
        }
      ]
    },
    {
      "cell_type": "code",
      "source": [],
      "metadata": {
        "id": "r4KddB1Hdk0k"
      },
      "execution_count": null,
      "outputs": []
    }
  ]
}